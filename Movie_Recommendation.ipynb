{
  "nbformat": 4,
  "nbformat_minor": 0,
  "metadata": {
    "colab": {
      "provenance": [],
      "authorship_tag": "ABX9TyMPeb4qQ2415cfjeyvN6V35",
      "include_colab_link": true
    },
    "kernelspec": {
      "name": "python3",
      "display_name": "Python 3"
    },
    "language_info": {
      "name": "python"
    }
  },
  "cells": [
    {
      "cell_type": "markdown",
      "metadata": {
        "id": "view-in-github",
        "colab_type": "text"
      },
      "source": [
        "<a href=\"https://colab.research.google.com/github/Ash-star-max/Ash-star-max/blob/main/Movie_Recommendation.ipynb\" target=\"_parent\"><img src=\"https://colab.research.google.com/assets/colab-badge.svg\" alt=\"Open In Colab\"/></a>"
      ]
    },
    {
      "cell_type": "markdown",
      "source": [
        "# Movie Recommendation System\n",
        "\n",
        "-----\n",
        "\n",
        "**Recommender System** is a  system that seeks to predict or filter preferences according to the user's choices. Recommender Systems are used in a variety of areas including movies, music, news, books, research articles, search queries, social tags, and products in general. Recommender systems produce a list of recommendations in any of the two ways -\n",
        "\n",
        "**Collaborative filtering:** Collaborative filtering aproaches build a model from user's past behavior(i.e items purchased or searched by users) as well as similar decisions made ny other users. This model is then used to predict items(or ratings for items) that users may have an interest in.\n",
        "\n",
        "**Content-based filtering** Content-based filtering aproaches uses a series of discrete characteristics of an item in order to recommendational items with similar properties. Content-based filtering methods are totally based on a description of an item and a profile of the user's preferences. It recommends items based on the user's past preferences. Let's develop a basic recommendation system using python and pandas.\n",
        "\n",
        "Let's develop a basic recommendation system by suggesting items that are most similar to a particular item, in this case, movies. It just tell what movies/items are most similar to the user's movie choice."
      ],
      "metadata": {
        "id": "qV105q6cIzIa"
      }
    },
    {
      "cell_type": "markdown",
      "source": [
        "# Import Library"
      ],
      "metadata": {
        "id": "Cq3phlFpIeXe"
      }
    },
    {
      "cell_type": "code",
      "source": [
        "import pandas as pd\n",
        "import numpy as np\n",
        "import matplotlib.pyplot as plt"
      ],
      "metadata": {
        "id": "Q7wNqCyCIl6f"
      },
      "execution_count": 51,
      "outputs": []
    },
    {
      "cell_type": "markdown",
      "source": [
        "# Import Dataset"
      ],
      "metadata": {
        "id": "GNXBmYpII4bL"
      }
    },
    {
      "cell_type": "code",
      "source": [
        "df = pd.read_csv('https://github.com/YBI-Foundation/Dataset/raw/main/Movies%20Recommendation.csv')"
      ],
      "metadata": {
        "id": "TnboakJMI7kx"
      },
      "execution_count": 52,
      "outputs": []
    },
    {
      "cell_type": "code",
      "source": [
        "df.head()"
      ],
      "metadata": {
        "colab": {
          "base_uri": "https://localhost:8080/",
          "height": 672
        },
        "id": "yetUU_TGJbfq",
        "outputId": "e8e424dc-6d6c-4f9c-e5ca-960e49c7b0c3"
      },
      "execution_count": 53,
      "outputs": [
        {
          "output_type": "execute_result",
          "data": {
            "text/plain": [
              "   Movie_ID      Movie_Title                       Movie_Genre Movie_Language  \\\n",
              "0         1       Four Rooms                      Crime Comedy             en   \n",
              "1         2        Star Wars  Adventure Action Science Fiction             en   \n",
              "2         3     Finding Nemo                  Animation Family             en   \n",
              "3         4     Forrest Gump              Comedy Drama Romance             en   \n",
              "4         5  American Beauty                             Drama             en   \n",
              "\n",
              "   Movie_Budget  Movie_Popularity Movie_Release_Date  Movie_Revenue  \\\n",
              "0       4000000         22.876230         09-12-1995        4300000   \n",
              "1      11000000        126.393695         25-05-1977      775398007   \n",
              "2      94000000         85.688789         30-05-2003      940335536   \n",
              "3      55000000        138.133331         06-07-1994      677945399   \n",
              "4      15000000         80.878605         15-09-1999      356296601   \n",
              "\n",
              "   Movie_Runtime  Movie_Vote  ...  \\\n",
              "0           98.0         6.5  ...   \n",
              "1          121.0         8.1  ...   \n",
              "2          100.0         7.6  ...   \n",
              "3          142.0         8.2  ...   \n",
              "4          122.0         7.9  ...   \n",
              "\n",
              "                                      Movie_Homepage  \\\n",
              "0                                                NaN   \n",
              "1  http://www.starwars.com/films/star-wars-episod...   \n",
              "2              http://movies.disney.com/finding-nemo   \n",
              "3                                                NaN   \n",
              "4                      http://www.dreamworks.com/ab/   \n",
              "\n",
              "                                      Movie_Keywords  \\\n",
              "0          hotel new year's eve witch bet hotel room   \n",
              "1        android galaxy hermit death star lightsaber   \n",
              "2  father son relationship harbor underwater fish...   \n",
              "3  vietnam veteran hippie mentally disabled runni...   \n",
              "4  male nudity female nudity adultery midlife cri...   \n",
              "\n",
              "                                      Movie_Overview  \\\n",
              "0  It's Ted the Bellhop's first night on the job....   \n",
              "1  Princess Leia is captured and held hostage by ...   \n",
              "2  Nemo, an adventurous young clownfish, is unexp...   \n",
              "3  A man with a low IQ has accomplished great thi...   \n",
              "4  Lester Burnham, a depressed suburban father in...   \n",
              "\n",
              "                              Movie_Production_House  \\\n",
              "0  [{\"name\": \"Miramax Films\", \"id\": 14}, {\"name\":...   \n",
              "1  [{\"name\": \"Lucasfilm\", \"id\": 1}, {\"name\": \"Twe...   \n",
              "2     [{\"name\": \"Pixar Animation Studios\", \"id\": 3}]   \n",
              "3          [{\"name\": \"Paramount Pictures\", \"id\": 4}]   \n",
              "4  [{\"name\": \"DreamWorks SKG\", \"id\": 27}, {\"name\"...   \n",
              "\n",
              "                            Movie_Production_Country  \\\n",
              "0  [{\"iso_3166_1\": \"US\", \"name\": \"United States o...   \n",
              "1  [{\"iso_3166_1\": \"US\", \"name\": \"United States o...   \n",
              "2  [{\"iso_3166_1\": \"US\", \"name\": \"United States o...   \n",
              "3  [{\"iso_3166_1\": \"US\", \"name\": \"United States o...   \n",
              "4  [{\"iso_3166_1\": \"US\", \"name\": \"United States o...   \n",
              "\n",
              "                      Movie_Spoken_Language  \\\n",
              "0  [{\"iso_639_1\": \"en\", \"name\": \"English\"}]   \n",
              "1  [{\"iso_639_1\": \"en\", \"name\": \"English\"}]   \n",
              "2  [{\"iso_639_1\": \"en\", \"name\": \"English\"}]   \n",
              "3  [{\"iso_639_1\": \"en\", \"name\": \"English\"}]   \n",
              "4  [{\"iso_639_1\": \"en\", \"name\": \"English\"}]   \n",
              "\n",
              "                                       Movie_Tagline  \\\n",
              "0  Twelve outrageous guests. Four scandalous requ...   \n",
              "1       A long time ago in a galaxy far, far away...   \n",
              "2  There are 3.7 trillion fish in the ocean, they...   \n",
              "3  The world will never be the same, once you've ...   \n",
              "4                                       Look closer.   \n",
              "\n",
              "                                          Movie_Cast  \\\n",
              "0  Tim Roth Antonio Banderas Jennifer Beals Madon...   \n",
              "1  Mark Hamill Harrison Ford Carrie Fisher Peter ...   \n",
              "2  Albert Brooks Ellen DeGeneres Alexander Gould ...   \n",
              "3  Tom Hanks Robin Wright Gary Sinise Mykelti Wil...   \n",
              "4  Kevin Spacey Annette Bening Thora Birch Wes Be...   \n",
              "\n",
              "                                          Movie_Crew   Movie_Director  \n",
              "0  [{'name': 'Allison Anders', 'gender': 1, 'depa...   Allison Anders  \n",
              "1  [{'name': 'George Lucas', 'gender': 2, 'depart...     George Lucas  \n",
              "2  [{'name': 'Andrew Stanton', 'gender': 2, 'depa...   Andrew Stanton  \n",
              "3  [{'name': 'Alan Silvestri', 'gender': 2, 'depa...  Robert Zemeckis  \n",
              "4  [{'name': 'Thomas Newman', 'gender': 2, 'depar...       Sam Mendes  \n",
              "\n",
              "[5 rows x 21 columns]"
            ],
            "text/html": [
              "\n",
              "  <div id=\"df-8d08bd71-c211-461d-8759-d168a80460da\" class=\"colab-df-container\">\n",
              "    <div>\n",
              "<style scoped>\n",
              "    .dataframe tbody tr th:only-of-type {\n",
              "        vertical-align: middle;\n",
              "    }\n",
              "\n",
              "    .dataframe tbody tr th {\n",
              "        vertical-align: top;\n",
              "    }\n",
              "\n",
              "    .dataframe thead th {\n",
              "        text-align: right;\n",
              "    }\n",
              "</style>\n",
              "<table border=\"1\" class=\"dataframe\">\n",
              "  <thead>\n",
              "    <tr style=\"text-align: right;\">\n",
              "      <th></th>\n",
              "      <th>Movie_ID</th>\n",
              "      <th>Movie_Title</th>\n",
              "      <th>Movie_Genre</th>\n",
              "      <th>Movie_Language</th>\n",
              "      <th>Movie_Budget</th>\n",
              "      <th>Movie_Popularity</th>\n",
              "      <th>Movie_Release_Date</th>\n",
              "      <th>Movie_Revenue</th>\n",
              "      <th>Movie_Runtime</th>\n",
              "      <th>Movie_Vote</th>\n",
              "      <th>...</th>\n",
              "      <th>Movie_Homepage</th>\n",
              "      <th>Movie_Keywords</th>\n",
              "      <th>Movie_Overview</th>\n",
              "      <th>Movie_Production_House</th>\n",
              "      <th>Movie_Production_Country</th>\n",
              "      <th>Movie_Spoken_Language</th>\n",
              "      <th>Movie_Tagline</th>\n",
              "      <th>Movie_Cast</th>\n",
              "      <th>Movie_Crew</th>\n",
              "      <th>Movie_Director</th>\n",
              "    </tr>\n",
              "  </thead>\n",
              "  <tbody>\n",
              "    <tr>\n",
              "      <th>0</th>\n",
              "      <td>1</td>\n",
              "      <td>Four Rooms</td>\n",
              "      <td>Crime Comedy</td>\n",
              "      <td>en</td>\n",
              "      <td>4000000</td>\n",
              "      <td>22.876230</td>\n",
              "      <td>09-12-1995</td>\n",
              "      <td>4300000</td>\n",
              "      <td>98.0</td>\n",
              "      <td>6.5</td>\n",
              "      <td>...</td>\n",
              "      <td>NaN</td>\n",
              "      <td>hotel new year's eve witch bet hotel room</td>\n",
              "      <td>It's Ted the Bellhop's first night on the job....</td>\n",
              "      <td>[{\"name\": \"Miramax Films\", \"id\": 14}, {\"name\":...</td>\n",
              "      <td>[{\"iso_3166_1\": \"US\", \"name\": \"United States o...</td>\n",
              "      <td>[{\"iso_639_1\": \"en\", \"name\": \"English\"}]</td>\n",
              "      <td>Twelve outrageous guests. Four scandalous requ...</td>\n",
              "      <td>Tim Roth Antonio Banderas Jennifer Beals Madon...</td>\n",
              "      <td>[{'name': 'Allison Anders', 'gender': 1, 'depa...</td>\n",
              "      <td>Allison Anders</td>\n",
              "    </tr>\n",
              "    <tr>\n",
              "      <th>1</th>\n",
              "      <td>2</td>\n",
              "      <td>Star Wars</td>\n",
              "      <td>Adventure Action Science Fiction</td>\n",
              "      <td>en</td>\n",
              "      <td>11000000</td>\n",
              "      <td>126.393695</td>\n",
              "      <td>25-05-1977</td>\n",
              "      <td>775398007</td>\n",
              "      <td>121.0</td>\n",
              "      <td>8.1</td>\n",
              "      <td>...</td>\n",
              "      <td>http://www.starwars.com/films/star-wars-episod...</td>\n",
              "      <td>android galaxy hermit death star lightsaber</td>\n",
              "      <td>Princess Leia is captured and held hostage by ...</td>\n",
              "      <td>[{\"name\": \"Lucasfilm\", \"id\": 1}, {\"name\": \"Twe...</td>\n",
              "      <td>[{\"iso_3166_1\": \"US\", \"name\": \"United States o...</td>\n",
              "      <td>[{\"iso_639_1\": \"en\", \"name\": \"English\"}]</td>\n",
              "      <td>A long time ago in a galaxy far, far away...</td>\n",
              "      <td>Mark Hamill Harrison Ford Carrie Fisher Peter ...</td>\n",
              "      <td>[{'name': 'George Lucas', 'gender': 2, 'depart...</td>\n",
              "      <td>George Lucas</td>\n",
              "    </tr>\n",
              "    <tr>\n",
              "      <th>2</th>\n",
              "      <td>3</td>\n",
              "      <td>Finding Nemo</td>\n",
              "      <td>Animation Family</td>\n",
              "      <td>en</td>\n",
              "      <td>94000000</td>\n",
              "      <td>85.688789</td>\n",
              "      <td>30-05-2003</td>\n",
              "      <td>940335536</td>\n",
              "      <td>100.0</td>\n",
              "      <td>7.6</td>\n",
              "      <td>...</td>\n",
              "      <td>http://movies.disney.com/finding-nemo</td>\n",
              "      <td>father son relationship harbor underwater fish...</td>\n",
              "      <td>Nemo, an adventurous young clownfish, is unexp...</td>\n",
              "      <td>[{\"name\": \"Pixar Animation Studios\", \"id\": 3}]</td>\n",
              "      <td>[{\"iso_3166_1\": \"US\", \"name\": \"United States o...</td>\n",
              "      <td>[{\"iso_639_1\": \"en\", \"name\": \"English\"}]</td>\n",
              "      <td>There are 3.7 trillion fish in the ocean, they...</td>\n",
              "      <td>Albert Brooks Ellen DeGeneres Alexander Gould ...</td>\n",
              "      <td>[{'name': 'Andrew Stanton', 'gender': 2, 'depa...</td>\n",
              "      <td>Andrew Stanton</td>\n",
              "    </tr>\n",
              "    <tr>\n",
              "      <th>3</th>\n",
              "      <td>4</td>\n",
              "      <td>Forrest Gump</td>\n",
              "      <td>Comedy Drama Romance</td>\n",
              "      <td>en</td>\n",
              "      <td>55000000</td>\n",
              "      <td>138.133331</td>\n",
              "      <td>06-07-1994</td>\n",
              "      <td>677945399</td>\n",
              "      <td>142.0</td>\n",
              "      <td>8.2</td>\n",
              "      <td>...</td>\n",
              "      <td>NaN</td>\n",
              "      <td>vietnam veteran hippie mentally disabled runni...</td>\n",
              "      <td>A man with a low IQ has accomplished great thi...</td>\n",
              "      <td>[{\"name\": \"Paramount Pictures\", \"id\": 4}]</td>\n",
              "      <td>[{\"iso_3166_1\": \"US\", \"name\": \"United States o...</td>\n",
              "      <td>[{\"iso_639_1\": \"en\", \"name\": \"English\"}]</td>\n",
              "      <td>The world will never be the same, once you've ...</td>\n",
              "      <td>Tom Hanks Robin Wright Gary Sinise Mykelti Wil...</td>\n",
              "      <td>[{'name': 'Alan Silvestri', 'gender': 2, 'depa...</td>\n",
              "      <td>Robert Zemeckis</td>\n",
              "    </tr>\n",
              "    <tr>\n",
              "      <th>4</th>\n",
              "      <td>5</td>\n",
              "      <td>American Beauty</td>\n",
              "      <td>Drama</td>\n",
              "      <td>en</td>\n",
              "      <td>15000000</td>\n",
              "      <td>80.878605</td>\n",
              "      <td>15-09-1999</td>\n",
              "      <td>356296601</td>\n",
              "      <td>122.0</td>\n",
              "      <td>7.9</td>\n",
              "      <td>...</td>\n",
              "      <td>http://www.dreamworks.com/ab/</td>\n",
              "      <td>male nudity female nudity adultery midlife cri...</td>\n",
              "      <td>Lester Burnham, a depressed suburban father in...</td>\n",
              "      <td>[{\"name\": \"DreamWorks SKG\", \"id\": 27}, {\"name\"...</td>\n",
              "      <td>[{\"iso_3166_1\": \"US\", \"name\": \"United States o...</td>\n",
              "      <td>[{\"iso_639_1\": \"en\", \"name\": \"English\"}]</td>\n",
              "      <td>Look closer.</td>\n",
              "      <td>Kevin Spacey Annette Bening Thora Birch Wes Be...</td>\n",
              "      <td>[{'name': 'Thomas Newman', 'gender': 2, 'depar...</td>\n",
              "      <td>Sam Mendes</td>\n",
              "    </tr>\n",
              "  </tbody>\n",
              "</table>\n",
              "<p>5 rows × 21 columns</p>\n",
              "</div>\n",
              "    <div class=\"colab-df-buttons\">\n",
              "\n",
              "  <div class=\"colab-df-container\">\n",
              "    <button class=\"colab-df-convert\" onclick=\"convertToInteractive('df-8d08bd71-c211-461d-8759-d168a80460da')\"\n",
              "            title=\"Convert this dataframe to an interactive table.\"\n",
              "            style=\"display:none;\">\n",
              "\n",
              "  <svg xmlns=\"http://www.w3.org/2000/svg\" height=\"24px\" viewBox=\"0 -960 960 960\">\n",
              "    <path d=\"M120-120v-720h720v720H120Zm60-500h600v-160H180v160Zm220 220h160v-160H400v160Zm0 220h160v-160H400v160ZM180-400h160v-160H180v160Zm440 0h160v-160H620v160ZM180-180h160v-160H180v160Zm440 0h160v-160H620v160Z\"/>\n",
              "  </svg>\n",
              "    </button>\n",
              "\n",
              "  <style>\n",
              "    .colab-df-container {\n",
              "      display:flex;\n",
              "      gap: 12px;\n",
              "    }\n",
              "\n",
              "    .colab-df-convert {\n",
              "      background-color: #E8F0FE;\n",
              "      border: none;\n",
              "      border-radius: 50%;\n",
              "      cursor: pointer;\n",
              "      display: none;\n",
              "      fill: #1967D2;\n",
              "      height: 32px;\n",
              "      padding: 0 0 0 0;\n",
              "      width: 32px;\n",
              "    }\n",
              "\n",
              "    .colab-df-convert:hover {\n",
              "      background-color: #E2EBFA;\n",
              "      box-shadow: 0px 1px 2px rgba(60, 64, 67, 0.3), 0px 1px 3px 1px rgba(60, 64, 67, 0.15);\n",
              "      fill: #174EA6;\n",
              "    }\n",
              "\n",
              "    .colab-df-buttons div {\n",
              "      margin-bottom: 4px;\n",
              "    }\n",
              "\n",
              "    [theme=dark] .colab-df-convert {\n",
              "      background-color: #3B4455;\n",
              "      fill: #D2E3FC;\n",
              "    }\n",
              "\n",
              "    [theme=dark] .colab-df-convert:hover {\n",
              "      background-color: #434B5C;\n",
              "      box-shadow: 0px 1px 3px 1px rgba(0, 0, 0, 0.15);\n",
              "      filter: drop-shadow(0px 1px 2px rgba(0, 0, 0, 0.3));\n",
              "      fill: #FFFFFF;\n",
              "    }\n",
              "  </style>\n",
              "\n",
              "    <script>\n",
              "      const buttonEl =\n",
              "        document.querySelector('#df-8d08bd71-c211-461d-8759-d168a80460da button.colab-df-convert');\n",
              "      buttonEl.style.display =\n",
              "        google.colab.kernel.accessAllowed ? 'block' : 'none';\n",
              "\n",
              "      async function convertToInteractive(key) {\n",
              "        const element = document.querySelector('#df-8d08bd71-c211-461d-8759-d168a80460da');\n",
              "        const dataTable =\n",
              "          await google.colab.kernel.invokeFunction('convertToInteractive',\n",
              "                                                    [key], {});\n",
              "        if (!dataTable) return;\n",
              "\n",
              "        const docLinkHtml = 'Like what you see? Visit the ' +\n",
              "          '<a target=\"_blank\" href=https://colab.research.google.com/notebooks/data_table.ipynb>data table notebook</a>'\n",
              "          + ' to learn more about interactive tables.';\n",
              "        element.innerHTML = '';\n",
              "        dataTable['output_type'] = 'display_data';\n",
              "        await google.colab.output.renderOutput(dataTable, element);\n",
              "        const docLink = document.createElement('div');\n",
              "        docLink.innerHTML = docLinkHtml;\n",
              "        element.appendChild(docLink);\n",
              "      }\n",
              "    </script>\n",
              "  </div>\n",
              "\n",
              "\n",
              "<div id=\"df-a2488102-c2f2-4ef1-8415-3cadf06b3b58\">\n",
              "  <button class=\"colab-df-quickchart\" onclick=\"quickchart('df-a2488102-c2f2-4ef1-8415-3cadf06b3b58')\"\n",
              "            title=\"Suggest charts\"\n",
              "            style=\"display:none;\">\n",
              "\n",
              "<svg xmlns=\"http://www.w3.org/2000/svg\" height=\"24px\"viewBox=\"0 0 24 24\"\n",
              "     width=\"24px\">\n",
              "    <g>\n",
              "        <path d=\"M19 3H5c-1.1 0-2 .9-2 2v14c0 1.1.9 2 2 2h14c1.1 0 2-.9 2-2V5c0-1.1-.9-2-2-2zM9 17H7v-7h2v7zm4 0h-2V7h2v10zm4 0h-2v-4h2v4z\"/>\n",
              "    </g>\n",
              "</svg>\n",
              "  </button>\n",
              "\n",
              "<style>\n",
              "  .colab-df-quickchart {\n",
              "      --bg-color: #E8F0FE;\n",
              "      --fill-color: #1967D2;\n",
              "      --hover-bg-color: #E2EBFA;\n",
              "      --hover-fill-color: #174EA6;\n",
              "      --disabled-fill-color: #AAA;\n",
              "      --disabled-bg-color: #DDD;\n",
              "  }\n",
              "\n",
              "  [theme=dark] .colab-df-quickchart {\n",
              "      --bg-color: #3B4455;\n",
              "      --fill-color: #D2E3FC;\n",
              "      --hover-bg-color: #434B5C;\n",
              "      --hover-fill-color: #FFFFFF;\n",
              "      --disabled-bg-color: #3B4455;\n",
              "      --disabled-fill-color: #666;\n",
              "  }\n",
              "\n",
              "  .colab-df-quickchart {\n",
              "    background-color: var(--bg-color);\n",
              "    border: none;\n",
              "    border-radius: 50%;\n",
              "    cursor: pointer;\n",
              "    display: none;\n",
              "    fill: var(--fill-color);\n",
              "    height: 32px;\n",
              "    padding: 0;\n",
              "    width: 32px;\n",
              "  }\n",
              "\n",
              "  .colab-df-quickchart:hover {\n",
              "    background-color: var(--hover-bg-color);\n",
              "    box-shadow: 0 1px 2px rgba(60, 64, 67, 0.3), 0 1px 3px 1px rgba(60, 64, 67, 0.15);\n",
              "    fill: var(--button-hover-fill-color);\n",
              "  }\n",
              "\n",
              "  .colab-df-quickchart-complete:disabled,\n",
              "  .colab-df-quickchart-complete:disabled:hover {\n",
              "    background-color: var(--disabled-bg-color);\n",
              "    fill: var(--disabled-fill-color);\n",
              "    box-shadow: none;\n",
              "  }\n",
              "\n",
              "  .colab-df-spinner {\n",
              "    border: 2px solid var(--fill-color);\n",
              "    border-color: transparent;\n",
              "    border-bottom-color: var(--fill-color);\n",
              "    animation:\n",
              "      spin 1s steps(1) infinite;\n",
              "  }\n",
              "\n",
              "  @keyframes spin {\n",
              "    0% {\n",
              "      border-color: transparent;\n",
              "      border-bottom-color: var(--fill-color);\n",
              "      border-left-color: var(--fill-color);\n",
              "    }\n",
              "    20% {\n",
              "      border-color: transparent;\n",
              "      border-left-color: var(--fill-color);\n",
              "      border-top-color: var(--fill-color);\n",
              "    }\n",
              "    30% {\n",
              "      border-color: transparent;\n",
              "      border-left-color: var(--fill-color);\n",
              "      border-top-color: var(--fill-color);\n",
              "      border-right-color: var(--fill-color);\n",
              "    }\n",
              "    40% {\n",
              "      border-color: transparent;\n",
              "      border-right-color: var(--fill-color);\n",
              "      border-top-color: var(--fill-color);\n",
              "    }\n",
              "    60% {\n",
              "      border-color: transparent;\n",
              "      border-right-color: var(--fill-color);\n",
              "    }\n",
              "    80% {\n",
              "      border-color: transparent;\n",
              "      border-right-color: var(--fill-color);\n",
              "      border-bottom-color: var(--fill-color);\n",
              "    }\n",
              "    90% {\n",
              "      border-color: transparent;\n",
              "      border-bottom-color: var(--fill-color);\n",
              "    }\n",
              "  }\n",
              "</style>\n",
              "\n",
              "  <script>\n",
              "    async function quickchart(key) {\n",
              "      const quickchartButtonEl =\n",
              "        document.querySelector('#' + key + ' button');\n",
              "      quickchartButtonEl.disabled = true;  // To prevent multiple clicks.\n",
              "      quickchartButtonEl.classList.add('colab-df-spinner');\n",
              "      try {\n",
              "        const charts = await google.colab.kernel.invokeFunction(\n",
              "            'suggestCharts', [key], {});\n",
              "      } catch (error) {\n",
              "        console.error('Error during call to suggestCharts:', error);\n",
              "      }\n",
              "      quickchartButtonEl.classList.remove('colab-df-spinner');\n",
              "      quickchartButtonEl.classList.add('colab-df-quickchart-complete');\n",
              "    }\n",
              "    (() => {\n",
              "      let quickchartButtonEl =\n",
              "        document.querySelector('#df-a2488102-c2f2-4ef1-8415-3cadf06b3b58 button');\n",
              "      quickchartButtonEl.style.display =\n",
              "        google.colab.kernel.accessAllowed ? 'block' : 'none';\n",
              "    })();\n",
              "  </script>\n",
              "</div>\n",
              "\n",
              "    </div>\n",
              "  </div>\n"
            ],
            "application/vnd.google.colaboratory.intrinsic+json": {
              "type": "dataframe",
              "variable_name": "df"
            }
          },
          "metadata": {},
          "execution_count": 53
        }
      ]
    },
    {
      "cell_type": "code",
      "source": [
        "df.info()"
      ],
      "metadata": {
        "colab": {
          "base_uri": "https://localhost:8080/"
        },
        "id": "-q9JMCI6Jr0J",
        "outputId": "396a1bdf-8827-48f9-f789-1326529e00a8"
      },
      "execution_count": 54,
      "outputs": [
        {
          "output_type": "stream",
          "name": "stdout",
          "text": [
            "<class 'pandas.core.frame.DataFrame'>\n",
            "RangeIndex: 4760 entries, 0 to 4759\n",
            "Data columns (total 21 columns):\n",
            " #   Column                    Non-Null Count  Dtype  \n",
            "---  ------                    --------------  -----  \n",
            " 0   Movie_ID                  4760 non-null   int64  \n",
            " 1   Movie_Title               4760 non-null   object \n",
            " 2   Movie_Genre               4760 non-null   object \n",
            " 3   Movie_Language            4760 non-null   object \n",
            " 4   Movie_Budget              4760 non-null   int64  \n",
            " 5   Movie_Popularity          4760 non-null   float64\n",
            " 6   Movie_Release_Date        4760 non-null   object \n",
            " 7   Movie_Revenue             4760 non-null   int64  \n",
            " 8   Movie_Runtime             4758 non-null   float64\n",
            " 9   Movie_Vote                4760 non-null   float64\n",
            " 10  Movie_Vote_Count          4760 non-null   int64  \n",
            " 11  Movie_Homepage            1699 non-null   object \n",
            " 12  Movie_Keywords            4373 non-null   object \n",
            " 13  Movie_Overview            4757 non-null   object \n",
            " 14  Movie_Production_House    4760 non-null   object \n",
            " 15  Movie_Production_Country  4760 non-null   object \n",
            " 16  Movie_Spoken_Language     4760 non-null   object \n",
            " 17  Movie_Tagline             3942 non-null   object \n",
            " 18  Movie_Cast                4733 non-null   object \n",
            " 19  Movie_Crew                4760 non-null   object \n",
            " 20  Movie_Director            4738 non-null   object \n",
            "dtypes: float64(3), int64(4), object(14)\n",
            "memory usage: 781.1+ KB\n"
          ]
        }
      ]
    },
    {
      "cell_type": "code",
      "source": [
        "df.shape"
      ],
      "metadata": {
        "colab": {
          "base_uri": "https://localhost:8080/"
        },
        "id": "j_7W3rWwJu5c",
        "outputId": "a25ac374-9664-47c1-9035-bbe61fe42e22"
      },
      "execution_count": 55,
      "outputs": [
        {
          "output_type": "execute_result",
          "data": {
            "text/plain": [
              "(4760, 21)"
            ]
          },
          "metadata": {},
          "execution_count": 55
        }
      ]
    },
    {
      "cell_type": "code",
      "source": [
        "df.columns"
      ],
      "metadata": {
        "colab": {
          "base_uri": "https://localhost:8080/"
        },
        "id": "h2A4iZqMJz5q",
        "outputId": "01486381-bcd8-4218-9b86-a9115e0cc2bc"
      },
      "execution_count": 56,
      "outputs": [
        {
          "output_type": "execute_result",
          "data": {
            "text/plain": [
              "Index(['Movie_ID', 'Movie_Title', 'Movie_Genre', 'Movie_Language',\n",
              "       'Movie_Budget', 'Movie_Popularity', 'Movie_Release_Date',\n",
              "       'Movie_Revenue', 'Movie_Runtime', 'Movie_Vote', 'Movie_Vote_Count',\n",
              "       'Movie_Homepage', 'Movie_Keywords', 'Movie_Overview',\n",
              "       'Movie_Production_House', 'Movie_Production_Country',\n",
              "       'Movie_Spoken_Language', 'Movie_Tagline', 'Movie_Cast', 'Movie_Crew',\n",
              "       'Movie_Director'],\n",
              "      dtype='object')"
            ]
          },
          "metadata": {},
          "execution_count": 56
        }
      ]
    },
    {
      "cell_type": "code",
      "source": [],
      "metadata": {
        "id": "bUt8QLQDJ3ww"
      },
      "execution_count": 56,
      "outputs": []
    },
    {
      "cell_type": "markdown",
      "source": [
        "# Get Feature Selection"
      ],
      "metadata": {
        "id": "Setf-dvqJ6-L"
      }
    },
    {
      "cell_type": "code",
      "source": [
        "df_features = df[['Movie_Genre', 'Movie_Keywords','Movie_Tagline', 'Movie_Cast', 'Movie_Director']].fillna('')"
      ],
      "metadata": {
        "id": "g448Q6TAJ-2i"
      },
      "execution_count": 57,
      "outputs": []
    },
    {
      "cell_type": "code",
      "source": [
        "df_features.shape"
      ],
      "metadata": {
        "colab": {
          "base_uri": "https://localhost:8080/"
        },
        "id": "xyIzNRm4zwxG",
        "outputId": "b1956eb4-88c3-45de-cdc9-ca0087f2d476"
      },
      "execution_count": 58,
      "outputs": [
        {
          "output_type": "execute_result",
          "data": {
            "text/plain": [
              "(4760, 5)"
            ]
          },
          "metadata": {},
          "execution_count": 58
        }
      ]
    },
    {
      "cell_type": "code",
      "source": [
        "df_features"
      ],
      "metadata": {
        "colab": {
          "base_uri": "https://localhost:8080/",
          "height": 580
        },
        "id": "zcc6eq1pz0IS",
        "outputId": "fd96a983-a239-4e96-9a7d-26b67925d659"
      },
      "execution_count": 59,
      "outputs": [
        {
          "output_type": "execute_result",
          "data": {
            "text/plain": [
              "                           Movie_Genre  \\\n",
              "0                         Crime Comedy   \n",
              "1     Adventure Action Science Fiction   \n",
              "2                     Animation Family   \n",
              "3                 Comedy Drama Romance   \n",
              "4                                Drama   \n",
              "...                                ...   \n",
              "4755                            Horror   \n",
              "4756               Comedy Family Drama   \n",
              "4757                    Thriller Drama   \n",
              "4758                            Family   \n",
              "4759                       Documentary   \n",
              "\n",
              "                                         Movie_Keywords  \\\n",
              "0             hotel new year's eve witch bet hotel room   \n",
              "1           android galaxy hermit death star lightsaber   \n",
              "2     father son relationship harbor underwater fish...   \n",
              "3     vietnam veteran hippie mentally disabled runni...   \n",
              "4     male nudity female nudity adultery midlife cri...   \n",
              "...                                                 ...   \n",
              "4755                                                      \n",
              "4756                                                      \n",
              "4757                     christian film sex trafficking   \n",
              "4758                                                      \n",
              "4759  music actors legendary perfomer classic hollyw...   \n",
              "\n",
              "                                          Movie_Tagline  \\\n",
              "0     Twelve outrageous guests. Four scandalous requ...   \n",
              "1          A long time ago in a galaxy far, far away...   \n",
              "2     There are 3.7 trillion fish in the ocean, they...   \n",
              "3     The world will never be the same, once you've ...   \n",
              "4                                          Look closer.   \n",
              "...                                                 ...   \n",
              "4755                The hot spot where Satan's waitin'.   \n",
              "4756           It’s better to stand out than to fit in.   \n",
              "4757           She never knew it could happen to her...   \n",
              "4758                                                      \n",
              "4759                                                      \n",
              "\n",
              "                                             Movie_Cast     Movie_Director  \n",
              "0     Tim Roth Antonio Banderas Jennifer Beals Madon...     Allison Anders  \n",
              "1     Mark Hamill Harrison Ford Carrie Fisher Peter ...       George Lucas  \n",
              "2     Albert Brooks Ellen DeGeneres Alexander Gould ...     Andrew Stanton  \n",
              "3     Tom Hanks Robin Wright Gary Sinise Mykelti Wil...    Robert Zemeckis  \n",
              "4     Kevin Spacey Annette Bening Thora Birch Wes Be...         Sam Mendes  \n",
              "...                                                 ...                ...  \n",
              "4755  Lisa Hart Carroll Michael Des Barres Paul Drak...         Pece Dingo  \n",
              "4756  Roni Akurati Brighton Sharbino Jason Lee Anjul...       Frank Lotito  \n",
              "4757  Nicole Smolen Kim Baldwin Ariana Stephens Brys...       Jaco Booyens  \n",
              "4758                                                                        \n",
              "4759                                    Tony Oppedisano  Simon Napier-Bell  \n",
              "\n",
              "[4760 rows x 5 columns]"
            ],
            "text/html": [
              "\n",
              "  <div id=\"df-be42790d-a75e-4318-a7a4-27828016ca15\" class=\"colab-df-container\">\n",
              "    <div>\n",
              "<style scoped>\n",
              "    .dataframe tbody tr th:only-of-type {\n",
              "        vertical-align: middle;\n",
              "    }\n",
              "\n",
              "    .dataframe tbody tr th {\n",
              "        vertical-align: top;\n",
              "    }\n",
              "\n",
              "    .dataframe thead th {\n",
              "        text-align: right;\n",
              "    }\n",
              "</style>\n",
              "<table border=\"1\" class=\"dataframe\">\n",
              "  <thead>\n",
              "    <tr style=\"text-align: right;\">\n",
              "      <th></th>\n",
              "      <th>Movie_Genre</th>\n",
              "      <th>Movie_Keywords</th>\n",
              "      <th>Movie_Tagline</th>\n",
              "      <th>Movie_Cast</th>\n",
              "      <th>Movie_Director</th>\n",
              "    </tr>\n",
              "  </thead>\n",
              "  <tbody>\n",
              "    <tr>\n",
              "      <th>0</th>\n",
              "      <td>Crime Comedy</td>\n",
              "      <td>hotel new year's eve witch bet hotel room</td>\n",
              "      <td>Twelve outrageous guests. Four scandalous requ...</td>\n",
              "      <td>Tim Roth Antonio Banderas Jennifer Beals Madon...</td>\n",
              "      <td>Allison Anders</td>\n",
              "    </tr>\n",
              "    <tr>\n",
              "      <th>1</th>\n",
              "      <td>Adventure Action Science Fiction</td>\n",
              "      <td>android galaxy hermit death star lightsaber</td>\n",
              "      <td>A long time ago in a galaxy far, far away...</td>\n",
              "      <td>Mark Hamill Harrison Ford Carrie Fisher Peter ...</td>\n",
              "      <td>George Lucas</td>\n",
              "    </tr>\n",
              "    <tr>\n",
              "      <th>2</th>\n",
              "      <td>Animation Family</td>\n",
              "      <td>father son relationship harbor underwater fish...</td>\n",
              "      <td>There are 3.7 trillion fish in the ocean, they...</td>\n",
              "      <td>Albert Brooks Ellen DeGeneres Alexander Gould ...</td>\n",
              "      <td>Andrew Stanton</td>\n",
              "    </tr>\n",
              "    <tr>\n",
              "      <th>3</th>\n",
              "      <td>Comedy Drama Romance</td>\n",
              "      <td>vietnam veteran hippie mentally disabled runni...</td>\n",
              "      <td>The world will never be the same, once you've ...</td>\n",
              "      <td>Tom Hanks Robin Wright Gary Sinise Mykelti Wil...</td>\n",
              "      <td>Robert Zemeckis</td>\n",
              "    </tr>\n",
              "    <tr>\n",
              "      <th>4</th>\n",
              "      <td>Drama</td>\n",
              "      <td>male nudity female nudity adultery midlife cri...</td>\n",
              "      <td>Look closer.</td>\n",
              "      <td>Kevin Spacey Annette Bening Thora Birch Wes Be...</td>\n",
              "      <td>Sam Mendes</td>\n",
              "    </tr>\n",
              "    <tr>\n",
              "      <th>...</th>\n",
              "      <td>...</td>\n",
              "      <td>...</td>\n",
              "      <td>...</td>\n",
              "      <td>...</td>\n",
              "      <td>...</td>\n",
              "    </tr>\n",
              "    <tr>\n",
              "      <th>4755</th>\n",
              "      <td>Horror</td>\n",
              "      <td></td>\n",
              "      <td>The hot spot where Satan's waitin'.</td>\n",
              "      <td>Lisa Hart Carroll Michael Des Barres Paul Drak...</td>\n",
              "      <td>Pece Dingo</td>\n",
              "    </tr>\n",
              "    <tr>\n",
              "      <th>4756</th>\n",
              "      <td>Comedy Family Drama</td>\n",
              "      <td></td>\n",
              "      <td>It’s better to stand out than to fit in.</td>\n",
              "      <td>Roni Akurati Brighton Sharbino Jason Lee Anjul...</td>\n",
              "      <td>Frank Lotito</td>\n",
              "    </tr>\n",
              "    <tr>\n",
              "      <th>4757</th>\n",
              "      <td>Thriller Drama</td>\n",
              "      <td>christian film sex trafficking</td>\n",
              "      <td>She never knew it could happen to her...</td>\n",
              "      <td>Nicole Smolen Kim Baldwin Ariana Stephens Brys...</td>\n",
              "      <td>Jaco Booyens</td>\n",
              "    </tr>\n",
              "    <tr>\n",
              "      <th>4758</th>\n",
              "      <td>Family</td>\n",
              "      <td></td>\n",
              "      <td></td>\n",
              "      <td></td>\n",
              "      <td></td>\n",
              "    </tr>\n",
              "    <tr>\n",
              "      <th>4759</th>\n",
              "      <td>Documentary</td>\n",
              "      <td>music actors legendary perfomer classic hollyw...</td>\n",
              "      <td></td>\n",
              "      <td>Tony Oppedisano</td>\n",
              "      <td>Simon Napier-Bell</td>\n",
              "    </tr>\n",
              "  </tbody>\n",
              "</table>\n",
              "<p>4760 rows × 5 columns</p>\n",
              "</div>\n",
              "    <div class=\"colab-df-buttons\">\n",
              "\n",
              "  <div class=\"colab-df-container\">\n",
              "    <button class=\"colab-df-convert\" onclick=\"convertToInteractive('df-be42790d-a75e-4318-a7a4-27828016ca15')\"\n",
              "            title=\"Convert this dataframe to an interactive table.\"\n",
              "            style=\"display:none;\">\n",
              "\n",
              "  <svg xmlns=\"http://www.w3.org/2000/svg\" height=\"24px\" viewBox=\"0 -960 960 960\">\n",
              "    <path d=\"M120-120v-720h720v720H120Zm60-500h600v-160H180v160Zm220 220h160v-160H400v160Zm0 220h160v-160H400v160ZM180-400h160v-160H180v160Zm440 0h160v-160H620v160ZM180-180h160v-160H180v160Zm440 0h160v-160H620v160Z\"/>\n",
              "  </svg>\n",
              "    </button>\n",
              "\n",
              "  <style>\n",
              "    .colab-df-container {\n",
              "      display:flex;\n",
              "      gap: 12px;\n",
              "    }\n",
              "\n",
              "    .colab-df-convert {\n",
              "      background-color: #E8F0FE;\n",
              "      border: none;\n",
              "      border-radius: 50%;\n",
              "      cursor: pointer;\n",
              "      display: none;\n",
              "      fill: #1967D2;\n",
              "      height: 32px;\n",
              "      padding: 0 0 0 0;\n",
              "      width: 32px;\n",
              "    }\n",
              "\n",
              "    .colab-df-convert:hover {\n",
              "      background-color: #E2EBFA;\n",
              "      box-shadow: 0px 1px 2px rgba(60, 64, 67, 0.3), 0px 1px 3px 1px rgba(60, 64, 67, 0.15);\n",
              "      fill: #174EA6;\n",
              "    }\n",
              "\n",
              "    .colab-df-buttons div {\n",
              "      margin-bottom: 4px;\n",
              "    }\n",
              "\n",
              "    [theme=dark] .colab-df-convert {\n",
              "      background-color: #3B4455;\n",
              "      fill: #D2E3FC;\n",
              "    }\n",
              "\n",
              "    [theme=dark] .colab-df-convert:hover {\n",
              "      background-color: #434B5C;\n",
              "      box-shadow: 0px 1px 3px 1px rgba(0, 0, 0, 0.15);\n",
              "      filter: drop-shadow(0px 1px 2px rgba(0, 0, 0, 0.3));\n",
              "      fill: #FFFFFF;\n",
              "    }\n",
              "  </style>\n",
              "\n",
              "    <script>\n",
              "      const buttonEl =\n",
              "        document.querySelector('#df-be42790d-a75e-4318-a7a4-27828016ca15 button.colab-df-convert');\n",
              "      buttonEl.style.display =\n",
              "        google.colab.kernel.accessAllowed ? 'block' : 'none';\n",
              "\n",
              "      async function convertToInteractive(key) {\n",
              "        const element = document.querySelector('#df-be42790d-a75e-4318-a7a4-27828016ca15');\n",
              "        const dataTable =\n",
              "          await google.colab.kernel.invokeFunction('convertToInteractive',\n",
              "                                                    [key], {});\n",
              "        if (!dataTable) return;\n",
              "\n",
              "        const docLinkHtml = 'Like what you see? Visit the ' +\n",
              "          '<a target=\"_blank\" href=https://colab.research.google.com/notebooks/data_table.ipynb>data table notebook</a>'\n",
              "          + ' to learn more about interactive tables.';\n",
              "        element.innerHTML = '';\n",
              "        dataTable['output_type'] = 'display_data';\n",
              "        await google.colab.output.renderOutput(dataTable, element);\n",
              "        const docLink = document.createElement('div');\n",
              "        docLink.innerHTML = docLinkHtml;\n",
              "        element.appendChild(docLink);\n",
              "      }\n",
              "    </script>\n",
              "  </div>\n",
              "\n",
              "\n",
              "<div id=\"df-289e8c70-1026-45b8-9f5f-93a6af5cc09c\">\n",
              "  <button class=\"colab-df-quickchart\" onclick=\"quickchart('df-289e8c70-1026-45b8-9f5f-93a6af5cc09c')\"\n",
              "            title=\"Suggest charts\"\n",
              "            style=\"display:none;\">\n",
              "\n",
              "<svg xmlns=\"http://www.w3.org/2000/svg\" height=\"24px\"viewBox=\"0 0 24 24\"\n",
              "     width=\"24px\">\n",
              "    <g>\n",
              "        <path d=\"M19 3H5c-1.1 0-2 .9-2 2v14c0 1.1.9 2 2 2h14c1.1 0 2-.9 2-2V5c0-1.1-.9-2-2-2zM9 17H7v-7h2v7zm4 0h-2V7h2v10zm4 0h-2v-4h2v4z\"/>\n",
              "    </g>\n",
              "</svg>\n",
              "  </button>\n",
              "\n",
              "<style>\n",
              "  .colab-df-quickchart {\n",
              "      --bg-color: #E8F0FE;\n",
              "      --fill-color: #1967D2;\n",
              "      --hover-bg-color: #E2EBFA;\n",
              "      --hover-fill-color: #174EA6;\n",
              "      --disabled-fill-color: #AAA;\n",
              "      --disabled-bg-color: #DDD;\n",
              "  }\n",
              "\n",
              "  [theme=dark] .colab-df-quickchart {\n",
              "      --bg-color: #3B4455;\n",
              "      --fill-color: #D2E3FC;\n",
              "      --hover-bg-color: #434B5C;\n",
              "      --hover-fill-color: #FFFFFF;\n",
              "      --disabled-bg-color: #3B4455;\n",
              "      --disabled-fill-color: #666;\n",
              "  }\n",
              "\n",
              "  .colab-df-quickchart {\n",
              "    background-color: var(--bg-color);\n",
              "    border: none;\n",
              "    border-radius: 50%;\n",
              "    cursor: pointer;\n",
              "    display: none;\n",
              "    fill: var(--fill-color);\n",
              "    height: 32px;\n",
              "    padding: 0;\n",
              "    width: 32px;\n",
              "  }\n",
              "\n",
              "  .colab-df-quickchart:hover {\n",
              "    background-color: var(--hover-bg-color);\n",
              "    box-shadow: 0 1px 2px rgba(60, 64, 67, 0.3), 0 1px 3px 1px rgba(60, 64, 67, 0.15);\n",
              "    fill: var(--button-hover-fill-color);\n",
              "  }\n",
              "\n",
              "  .colab-df-quickchart-complete:disabled,\n",
              "  .colab-df-quickchart-complete:disabled:hover {\n",
              "    background-color: var(--disabled-bg-color);\n",
              "    fill: var(--disabled-fill-color);\n",
              "    box-shadow: none;\n",
              "  }\n",
              "\n",
              "  .colab-df-spinner {\n",
              "    border: 2px solid var(--fill-color);\n",
              "    border-color: transparent;\n",
              "    border-bottom-color: var(--fill-color);\n",
              "    animation:\n",
              "      spin 1s steps(1) infinite;\n",
              "  }\n",
              "\n",
              "  @keyframes spin {\n",
              "    0% {\n",
              "      border-color: transparent;\n",
              "      border-bottom-color: var(--fill-color);\n",
              "      border-left-color: var(--fill-color);\n",
              "    }\n",
              "    20% {\n",
              "      border-color: transparent;\n",
              "      border-left-color: var(--fill-color);\n",
              "      border-top-color: var(--fill-color);\n",
              "    }\n",
              "    30% {\n",
              "      border-color: transparent;\n",
              "      border-left-color: var(--fill-color);\n",
              "      border-top-color: var(--fill-color);\n",
              "      border-right-color: var(--fill-color);\n",
              "    }\n",
              "    40% {\n",
              "      border-color: transparent;\n",
              "      border-right-color: var(--fill-color);\n",
              "      border-top-color: var(--fill-color);\n",
              "    }\n",
              "    60% {\n",
              "      border-color: transparent;\n",
              "      border-right-color: var(--fill-color);\n",
              "    }\n",
              "    80% {\n",
              "      border-color: transparent;\n",
              "      border-right-color: var(--fill-color);\n",
              "      border-bottom-color: var(--fill-color);\n",
              "    }\n",
              "    90% {\n",
              "      border-color: transparent;\n",
              "      border-bottom-color: var(--fill-color);\n",
              "    }\n",
              "  }\n",
              "</style>\n",
              "\n",
              "  <script>\n",
              "    async function quickchart(key) {\n",
              "      const quickchartButtonEl =\n",
              "        document.querySelector('#' + key + ' button');\n",
              "      quickchartButtonEl.disabled = true;  // To prevent multiple clicks.\n",
              "      quickchartButtonEl.classList.add('colab-df-spinner');\n",
              "      try {\n",
              "        const charts = await google.colab.kernel.invokeFunction(\n",
              "            'suggestCharts', [key], {});\n",
              "      } catch (error) {\n",
              "        console.error('Error during call to suggestCharts:', error);\n",
              "      }\n",
              "      quickchartButtonEl.classList.remove('colab-df-spinner');\n",
              "      quickchartButtonEl.classList.add('colab-df-quickchart-complete');\n",
              "    }\n",
              "    (() => {\n",
              "      let quickchartButtonEl =\n",
              "        document.querySelector('#df-289e8c70-1026-45b8-9f5f-93a6af5cc09c button');\n",
              "      quickchartButtonEl.style.display =\n",
              "        google.colab.kernel.accessAllowed ? 'block' : 'none';\n",
              "    })();\n",
              "  </script>\n",
              "</div>\n",
              "\n",
              "  <div id=\"id_f54a083a-b1bf-4d87-b6d9-fc36c0b276dd\">\n",
              "    <style>\n",
              "      .colab-df-generate {\n",
              "        background-color: #E8F0FE;\n",
              "        border: none;\n",
              "        border-radius: 50%;\n",
              "        cursor: pointer;\n",
              "        display: none;\n",
              "        fill: #1967D2;\n",
              "        height: 32px;\n",
              "        padding: 0 0 0 0;\n",
              "        width: 32px;\n",
              "      }\n",
              "\n",
              "      .colab-df-generate:hover {\n",
              "        background-color: #E2EBFA;\n",
              "        box-shadow: 0px 1px 2px rgba(60, 64, 67, 0.3), 0px 1px 3px 1px rgba(60, 64, 67, 0.15);\n",
              "        fill: #174EA6;\n",
              "      }\n",
              "\n",
              "      [theme=dark] .colab-df-generate {\n",
              "        background-color: #3B4455;\n",
              "        fill: #D2E3FC;\n",
              "      }\n",
              "\n",
              "      [theme=dark] .colab-df-generate:hover {\n",
              "        background-color: #434B5C;\n",
              "        box-shadow: 0px 1px 3px 1px rgba(0, 0, 0, 0.15);\n",
              "        filter: drop-shadow(0px 1px 2px rgba(0, 0, 0, 0.3));\n",
              "        fill: #FFFFFF;\n",
              "      }\n",
              "    </style>\n",
              "    <button class=\"colab-df-generate\" onclick=\"generateWithVariable('df_features')\"\n",
              "            title=\"Generate code using this dataframe.\"\n",
              "            style=\"display:none;\">\n",
              "\n",
              "  <svg xmlns=\"http://www.w3.org/2000/svg\" height=\"24px\"viewBox=\"0 0 24 24\"\n",
              "       width=\"24px\">\n",
              "    <path d=\"M7,19H8.4L18.45,9,17,7.55,7,17.6ZM5,21V16.75L18.45,3.32a2,2,0,0,1,2.83,0l1.4,1.43a1.91,1.91,0,0,1,.58,1.4,1.91,1.91,0,0,1-.58,1.4L9.25,21ZM18.45,9,17,7.55Zm-12,3A5.31,5.31,0,0,0,4.9,8.1,5.31,5.31,0,0,0,1,6.5,5.31,5.31,0,0,0,4.9,4.9,5.31,5.31,0,0,0,6.5,1,5.31,5.31,0,0,0,8.1,4.9,5.31,5.31,0,0,0,12,6.5,5.46,5.46,0,0,0,6.5,12Z\"/>\n",
              "  </svg>\n",
              "    </button>\n",
              "    <script>\n",
              "      (() => {\n",
              "      const buttonEl =\n",
              "        document.querySelector('#id_f54a083a-b1bf-4d87-b6d9-fc36c0b276dd button.colab-df-generate');\n",
              "      buttonEl.style.display =\n",
              "        google.colab.kernel.accessAllowed ? 'block' : 'none';\n",
              "\n",
              "      buttonEl.onclick = () => {\n",
              "        google.colab.notebook.generateWithVariable('df_features');\n",
              "      }\n",
              "      })();\n",
              "    </script>\n",
              "  </div>\n",
              "\n",
              "    </div>\n",
              "  </div>\n"
            ],
            "application/vnd.google.colaboratory.intrinsic+json": {
              "type": "dataframe",
              "variable_name": "df_features",
              "summary": "{\n  \"name\": \"df_features\",\n  \"rows\": 4760,\n  \"fields\": [\n    {\n      \"column\": \"Movie_Genre\",\n      \"properties\": {\n        \"dtype\": \"category\",\n        \"num_unique_values\": 1164,\n        \"samples\": [\n          \"Family Animation Adventure\",\n          \"Adventure Science Fiction Action\",\n          \"Action Crime Drama Romance Thriller\"\n        ],\n        \"semantic_type\": \"\",\n        \"description\": \"\"\n      }\n    },\n    {\n      \"column\": \"Movie_Keywords\",\n      \"properties\": {\n        \"dtype\": \"string\",\n        \"num_unique_values\": 4203,\n        \"samples\": [\n          \"canada nazis sequel spin off ancient evil\",\n          \"sex professor wedding woman director columbia university\",\n          \"prophecy sea beach gold small town\"\n        ],\n        \"semantic_type\": \"\",\n        \"description\": \"\"\n      }\n    },\n    {\n      \"column\": \"Movie_Tagline\",\n      \"properties\": {\n        \"dtype\": \"string\",\n        \"num_unique_values\": 3928,\n        \"samples\": [\n          \"The messenger must be silenced.\",\n          \"It's not the house that's haunted.\",\n          \"The final hunt begins.\"\n        ],\n        \"semantic_type\": \"\",\n        \"description\": \"\"\n      }\n    },\n    {\n      \"column\": \"Movie_Cast\",\n      \"properties\": {\n        \"dtype\": \"string\",\n        \"num_unique_values\": 4715,\n        \"samples\": [\n          \"Robin Tunney Fairuza Balk Neve Campbell Rachel True Skeet Ulrich\",\n          \"Peter Sellers Christopher Plummer Herbert Lom Catherine Schell Peter Arne\",\n          \"John Wayne Laraine Day Cedric Hardwicke Judith Anderson Anthony Quinn\"\n        ],\n        \"semantic_type\": \"\",\n        \"description\": \"\"\n      }\n    },\n    {\n      \"column\": \"Movie_Director\",\n      \"properties\": {\n        \"dtype\": \"category\",\n        \"num_unique_values\": 2332,\n        \"samples\": [\n          \"Rob McKittrick\",\n          \"Terron R. Parsons\",\n          \"Cyrus Nowrasteh\"\n        ],\n        \"semantic_type\": \"\",\n        \"description\": \"\"\n      }\n    }\n  ]\n}"
            }
          },
          "metadata": {},
          "execution_count": 59
        }
      ]
    },
    {
      "cell_type": "code",
      "source": [
        "X = df_features['Movie_Genre'] + ' ' + df['Movie_Keywords'] + ' ' + df_features['Movie_Tagline'] + ' ' + df_features['Movie_Cast'] + ' ' + df_features['Movie_Director']"
      ],
      "metadata": {
        "id": "gwxlP8KG0GLR"
      },
      "execution_count": 60,
      "outputs": []
    },
    {
      "cell_type": "code",
      "source": [
        "X = X.fillna(\"\")"
      ],
      "metadata": {
        "id": "IlqA60jY09EA"
      },
      "execution_count": 61,
      "outputs": []
    },
    {
      "cell_type": "code",
      "source": [
        "X.shape"
      ],
      "metadata": {
        "colab": {
          "base_uri": "https://localhost:8080/"
        },
        "id": "t5liZp1X0--D",
        "outputId": "53b64e98-4d27-4458-e83a-4e43a085202a"
      },
      "execution_count": 62,
      "outputs": [
        {
          "output_type": "execute_result",
          "data": {
            "text/plain": [
              "(4760,)"
            ]
          },
          "metadata": {},
          "execution_count": 62
        }
      ]
    },
    {
      "cell_type": "markdown",
      "source": [
        "# Get Feature Text Conversion to Tokens"
      ],
      "metadata": {
        "id": "54Ij-EME1LnG"
      }
    },
    {
      "cell_type": "code",
      "source": [
        "from sklearn.feature_extraction.text import TfidfVectorizer"
      ],
      "metadata": {
        "id": "vfU2F3ze1REr"
      },
      "execution_count": 63,
      "outputs": []
    },
    {
      "cell_type": "code",
      "source": [
        "tfidf = TfidfVectorizer()"
      ],
      "metadata": {
        "id": "2DgA-mqv1_A_"
      },
      "execution_count": 64,
      "outputs": []
    },
    {
      "cell_type": "code",
      "source": [
        "X = tfidf.fit_transform(X)"
      ],
      "metadata": {
        "id": "8XUtgkaw2Kq8"
      },
      "execution_count": 65,
      "outputs": []
    },
    {
      "cell_type": "code",
      "source": [
        "X.shape"
      ],
      "metadata": {
        "id": "03qbMlja2tLY",
        "colab": {
          "base_uri": "https://localhost:8080/"
        },
        "outputId": "f7139a78-d99b-446a-9871-a2864cea3e7b"
      },
      "execution_count": 66,
      "outputs": [
        {
          "output_type": "execute_result",
          "data": {
            "text/plain": [
              "(4760, 16428)"
            ]
          },
          "metadata": {},
          "execution_count": 66
        }
      ]
    },
    {
      "cell_type": "code",
      "source": [
        "print(X)"
      ],
      "metadata": {
        "colab": {
          "base_uri": "https://localhost:8080/"
        },
        "id": "iXNJNWrnzhw7",
        "outputId": "301e5e8a-6228-4654-bba3-8c6ec8e084ed"
      },
      "execution_count": 67,
      "outputs": [
        {
          "output_type": "stream",
          "name": "stdout",
          "text": [
            "  (0, 584)\t0.1624177936388159\n",
            "  (0, 464)\t0.14349103418531373\n",
            "  (0, 14678)\t0.14693441929589462\n",
            "  (0, 9208)\t0.14349103418531373\n",
            "  (0, 9004)\t0.16803160190347202\n",
            "  (0, 1314)\t0.16803160190347202\n",
            "  (0, 7450)\t0.09827082475249636\n",
            "  (0, 1146)\t0.13959636529415836\n",
            "  (0, 691)\t0.13552370512356585\n",
            "  (0, 12469)\t0.14245187996711187\n",
            "  (0, 14622)\t0.10550764405561745\n",
            "  (0, 8605)\t0.08711443348729386\n",
            "  (0, 10614)\t0.06288868925211892\n",
            "  (0, 15969)\t0.17554764718464544\n",
            "  (0, 5338)\t0.08644256968724923\n",
            "  (0, 15932)\t0.10753975229482664\n",
            "  (0, 7522)\t0.1327278374483516\n",
            "  (0, 14488)\t0.09967808657509691\n",
            "  (0, 10691)\t0.07263370375916371\n",
            "  (0, 3688)\t0.1193078786901718\n",
            "  (0, 5231)\t0.11417969362466027\n",
            "  (0, 6727)\t0.1985531083482537\n",
            "  (0, 7098)\t0.1491790172735959\n",
            "  (0, 1415)\t0.19601555473221124\n",
            "  (0, 8757)\t0.15100707946648714\n",
            "  :\t:\n",
            "  (4757, 10409)\t0.18555690843293465\n",
            "  (4757, 5187)\t0.1245656237462169\n",
            "  (4757, 2812)\t0.16330197278304234\n",
            "  (4757, 8051)\t0.2373639314250153\n",
            "  (4757, 6602)\t0.17086921662326512\n",
            "  (4757, 7971)\t0.1771062808879573\n",
            "  (4757, 14570)\t0.07837798737520515\n",
            "  (4757, 14649)\t0.09867033525935978\n",
            "  (4757, 7288)\t0.1154328921614843\n",
            "  (4757, 10360)\t0.1455191657921318\n",
            "  (4757, 4273)\t0.0591647594803393\n",
            "  (4759, 10713)\t0.33738959931740625\n",
            "  (4759, 11141)\t0.33738959931740625\n",
            "  (4759, 199)\t0.32180000568548145\n",
            "  (4759, 8462)\t0.31073901297605006\n",
            "  (4759, 13380)\t0.32180000568548145\n",
            "  (4759, 2897)\t0.27955982571220045\n",
            "  (4759, 6785)\t0.26257194457627886\n",
            "  (4759, 10232)\t0.31073901297605006\n",
            "  (4759, 4142)\t0.1885470739787006\n",
            "  (4759, 13369)\t0.2018057316082229\n",
            "  (4759, 5412)\t0.19752925400719937\n",
            "  (4759, 14695)\t0.19752925400719937\n",
            "  (4759, 1410)\t0.21212012476674721\n",
            "  (4759, 10144)\t0.16032693629226133\n"
          ]
        }
      ]
    },
    {
      "cell_type": "markdown",
      "source": [
        "# Get Similarity Score Using Cosine Similarity"
      ],
      "metadata": {
        "id": "4HnSrD5f08r2"
      }
    },
    {
      "cell_type": "code",
      "source": [
        "from sklearn.metrics.pairwise import cosine_similarity"
      ],
      "metadata": {
        "id": "o4X_VdjI0wdk"
      },
      "execution_count": 68,
      "outputs": []
    },
    {
      "cell_type": "code",
      "source": [
        "Similarity_Score = cosine_similarity(X)"
      ],
      "metadata": {
        "id": "2F2zYBeA1e_C"
      },
      "execution_count": 69,
      "outputs": []
    },
    {
      "cell_type": "code",
      "source": [
        "Similarity_Score"
      ],
      "metadata": {
        "colab": {
          "base_uri": "https://localhost:8080/"
        },
        "id": "UQQNhFnA1pHp",
        "outputId": "febf1f15-819e-48bf-a429-055ef25db0cf"
      },
      "execution_count": 70,
      "outputs": [
        {
          "output_type": "execute_result",
          "data": {
            "text/plain": [
              "array([[1.        , 0.01381349, 0.0363388 , ..., 0.        , 0.        ,\n",
              "        0.        ],\n",
              "       [0.01381349, 1.        , 0.00824712, ..., 0.        , 0.        ,\n",
              "        0.        ],\n",
              "       [0.0363388 , 0.00824712, 1.        , ..., 0.        , 0.        ,\n",
              "        0.        ],\n",
              "       ...,\n",
              "       [0.        , 0.        , 0.        , ..., 1.        , 0.        ,\n",
              "        0.        ],\n",
              "       [0.        , 0.        , 0.        , ..., 0.        , 0.        ,\n",
              "        0.        ],\n",
              "       [0.        , 0.        , 0.        , ..., 0.        , 0.        ,\n",
              "        1.        ]])"
            ]
          },
          "metadata": {},
          "execution_count": 70
        }
      ]
    },
    {
      "cell_type": "code",
      "source": [
        "Similarity_Score.shape"
      ],
      "metadata": {
        "colab": {
          "base_uri": "https://localhost:8080/"
        },
        "id": "74J9Skzh13XJ",
        "outputId": "197a9229-cd2b-41b9-ab91-18361e1cbc67"
      },
      "execution_count": 71,
      "outputs": [
        {
          "output_type": "execute_result",
          "data": {
            "text/plain": [
              "(4760, 4760)"
            ]
          },
          "metadata": {},
          "execution_count": 71
        }
      ]
    },
    {
      "cell_type": "markdown",
      "source": [
        "# Get Movie Name as Input from User and Validate for Closest Spelling"
      ],
      "metadata": {
        "id": "HXid-0dZ2TTt"
      }
    },
    {
      "cell_type": "code",
      "source": [
        "Favourite_Movie_Name = input(' Enter your favourite movie name : ')"
      ],
      "metadata": {
        "colab": {
          "base_uri": "https://localhost:8080/"
        },
        "id": "S2g1BbBp2lC-",
        "outputId": "7ca05e25-c8f0-4f33-d902-ec57f3b2e958"
      },
      "execution_count": 90,
      "outputs": [
        {
          "name": "stdout",
          "output_type": "stream",
          "text": [
            " Enter your favourite movie name : avtar\n"
          ]
        }
      ]
    },
    {
      "cell_type": "code",
      "source": [
        "All_Movies_Title_List = df['Movie_Title'].tolist()"
      ],
      "metadata": {
        "id": "vgqvzA393bAs"
      },
      "execution_count": 91,
      "outputs": []
    },
    {
      "cell_type": "code",
      "source": [
        "import difflib"
      ],
      "metadata": {
        "id": "g3t-a48837NS"
      },
      "execution_count": 92,
      "outputs": []
    },
    {
      "cell_type": "code",
      "source": [
        "Movie_Recommendation = difflib.get_close_matches(Favourite_Movie_Name, All_Movies_Title_List)"
      ],
      "metadata": {
        "id": "tCpGiR3P3_X9"
      },
      "execution_count": 93,
      "outputs": []
    },
    {
      "cell_type": "code",
      "source": [
        "print(Movie_Recommendation)"
      ],
      "metadata": {
        "colab": {
          "base_uri": "https://localhost:8080/"
        },
        "id": "QBYKiE934WVF",
        "outputId": "1f45a6f8-be9d-4d91-a40d-f799c905c727"
      },
      "execution_count": 94,
      "outputs": [
        {
          "output_type": "stream",
          "name": "stdout",
          "text": [
            "['Avatar', 'Salvador', 'Water']\n"
          ]
        }
      ]
    },
    {
      "cell_type": "code",
      "source": [
        "Close_Match = Movie_Recommendation[0]"
      ],
      "metadata": {
        "id": "sU6g0maw4b2P"
      },
      "execution_count": 95,
      "outputs": []
    },
    {
      "cell_type": "code",
      "source": [
        "print(Close_Match)"
      ],
      "metadata": {
        "colab": {
          "base_uri": "https://localhost:8080/"
        },
        "id": "GLnWfmO54ohM",
        "outputId": "69711564-5320-4c2c-a558-eaabb52f8751"
      },
      "execution_count": 96,
      "outputs": [
        {
          "output_type": "stream",
          "name": "stdout",
          "text": [
            "Avatar\n"
          ]
        }
      ]
    },
    {
      "cell_type": "code",
      "source": [
        "Index_of_Close_Match_Movie = df[df.Movie_Title == Close_Match]['Movie_ID'].values[0]"
      ],
      "metadata": {
        "id": "jwW-FM694tG8"
      },
      "execution_count": 97,
      "outputs": []
    },
    {
      "cell_type": "code",
      "source": [
        "print(Index_of_Close_Match_Movie)"
      ],
      "metadata": {
        "colab": {
          "base_uri": "https://localhost:8080/"
        },
        "id": "wqCbLxxi59oC",
        "outputId": "3d2dd20f-259e-4ee9-ffb2-e59949b2d2c1"
      },
      "execution_count": 98,
      "outputs": [
        {
          "output_type": "stream",
          "name": "stdout",
          "text": [
            "2692\n"
          ]
        }
      ]
    },
    {
      "cell_type": "code",
      "source": [
        "# Getting a list of similar movies\n",
        "Recommendation_Score = list(enumerate(Similarity_Score[Index_of_Close_Match_Movie]))"
      ],
      "metadata": {
        "id": "p8i4ylWt6Bmv"
      },
      "execution_count": 99,
      "outputs": []
    },
    {
      "cell_type": "code",
      "source": [
        "print(Recommendation_Score)"
      ],
      "metadata": {
        "colab": {
          "base_uri": "https://localhost:8080/"
        },
        "id": "Q5CWn6Bp6j41",
        "outputId": "8d278789-ac5c-48da-8087-9684058aaba2"
      },
      "execution_count": 100,
      "outputs": [
        {
          "output_type": "stream",
          "name": "stdout",
          "text": [
            "[(0, 0.010087132344042165), (1, 0.0), (2, 0.0), (3, 0.008290077835750736), (4, 0.002905928869926439), (5, 0.01014706507600874), (6, 0.0052132687569235335), (7, 0.013242255897949855), (8, 0.002996009496260734), (9, 0.006160381920151779), (10, 0.007850633839087457), (11, 0.0028548848075988743), (12, 0.002953352670350898), (13, 0.01316630862227234), (14, 0.0), (15, 0.02312253106343639), (16, 0.006343329529499691), (17, 0.0), (18, 0.014346778152103105), (19, 0.009092883869679831), (20, 0.0028827116349919185), (21, 0.016027655055186534), (22, 0.006625269602348767), (23, 0.002874785521353389), (24, 0.0018008847900591398), (25, 0.026232047724471498), (26, 0.0026964692974361625), (27, 0.005043133107772585), (28, 0.0), (29, 0.023840587628292925), (30, 0.004883529180899186), (31, 0.007113944626459621), (32, 0.008247588093854907), (33, 0.018997909964650467), (34, 0.007924038491209583), (35, 0.006141285442949357), (36, 0.0), (37, 0.0), (38, 0.008429902055714417), (39, 0.004867245825630228), (40, 0.01574605857390332), (41, 0.0030780569781390403), (42, 0.007545458809863838), (43, 0.015404919039061606), (44, 0.04045350646001636), (45, 0.08903943329333552), (46, 0.019076043298111908), (47, 0.010862084716629746), (48, 0.01642030844537632), (49, 0.0), (50, 0.007296511928960429), (51, 0.015771907581312666), (52, 0.014317735296703882), (53, 0.0), (54, 0.0), (55, 0.0), (56, 0.006783475291421535), (57, 0.01102666738382618), (58, 0.0), (59, 0.0), (60, 0.00804973777146975), (61, 0.018159715607564745), (62, 0.10158133178176043), (63, 0.007504403693738206), (64, 0.0), (65, 0.031268009287784865), (66, 0.002761127815386396), (67, 0.0450409322234985), (68, 0.023724519431972627), (69, 0.0), (70, 0.013375062241823093), (71, 0.002831980790649147), (72, 0.011874989476703129), (73, 0.0), (74, 0.002930627800334625), (75, 0.013089928115667848), (76, 0.003930931645591441), (77, 0.003653674564021991), (78, 0.00963367328637912), (79, 0.009384335058818753), (80, 0.0044339545975680215), (81, 0.007302146865475268), (82, 0.012218798707987496), (83, 0.01904305816721505), (84, 0.061734228055857966), (85, 0.016138488367251767), (86, 0.012055931156447727), (87, 0.014463558414342253), (88, 0.02296431669732852), (89, 0.04153728120809847), (90, 0.004741385199628177), (91, 0.0), (92, 0.0024313730281027316), (93, 0.004643735958853049), (94, 0.004452934981227728), (95, 0.004979608897390351), (96, 0.009362964512332074), (97, 0.002423122461743431), (98, 0.002698561919404956), (99, 0.010572154073505011), (100, 0.0), (101, 0.0), (102, 0.0052865061745618796), (103, 0.0024013406602864016), (104, 0.009478414745197198), (105, 0.010021452060702207), (106, 0.018029480500091132), (107, 0.008627735618747785), (108, 0.039460466388951954), (109, 0.039681683206776716), (110, 0.08290009796874631), (111, 0.009409740183672828), (112, 0.029433890239278296), (113, 0.00766735980689566), (114, 0.002754777048684689), (115, 0.002811416333141814), (116, 0.02478859254366014), (117, 0.0), (118, 0.0049349828849512166), (119, 0.00924406333157795), (120, 0.010486687220980588), (121, 0.0025380357904838152), (122, 0.006801110887275936), (123, 0.01913125327131879), (124, 0.025788874319067744), (125, 0.013157865302875434), (126, 0.03903613065255016), (127, 0.0026941204371329786), (128, 0.0053830094499727615), (129, 0.0019154405502572352), (130, 0.012102929699104264), (131, 0.00676087219420788), (132, 0.002438532035155573), (133, 0.0), (134, 0.0), (135, 0.004847856176827921), (136, 0.002540692993413695), (137, 0.05319631760400968), (138, 0.033152456962472876), (139, 0.00828843907532113), (140, 0.002588769784895886), (141, 0.0), (142, 0.019982458858052013), (143, 0.0077520772186060165), (144, 0.017941942012341824), (145, 0.019951870380093863), (146, 0.0), (147, 0.018697069394908727), (148, 0.011093742730476912), (149, 0.012392134374660302), (150, 0.0), (151, 0.0), (152, 0.004698884761987365), (153, 0.0), (154, 0.0025871492947611486), (155, 0.02354179363882852), (156, 0.007673783177005005), (157, 0.0026421174628499093), (158, 0.0024795825037299676), (159, 0.007314214409568587), (160, 0.018745991603772046), (161, 0.04397194819288247), (162, 0.008096843666734015), (163, 0.0), (164, 0.008990783976014539), (165, 0.002391000134985282), (166, 0.03357251400086358), (167, 0.02668583190750205), (168, 0.005233391763381909), (169, 0.0027176834502791233), (170, 0.011052254219109676), (171, 0.0), (172, 0.041894828687501724), (173, 0.017548694655447578), (174, 0.03138817049076804), (175, 0.023748771228459597), (176, 0.028284746692607374), (177, 0.005690760277918361), (178, 0.002900109958870104), (179, 0.030493961000753307), (180, 0.0078745171732351), (181, 0.014665534926743794), (182, 0.00949216883514993), (183, 0.008623012504310319), (184, 0.002437299349396742), (185, 0.04010795367984882), (186, 0.0), (187, 0.004257854987842011), (188, 0.0), (189, 0.005004003156675426), (190, 0.01280835137833271), (191, 0.00431856075763416), (192, 0.002964517473636539), (193, 0.0296865454152982), (194, 0.0022090954402493295), (195, 0.002321873355149037), (196, 0.0023198456747646617), (197, 0.008929187309526476), (198, 0.0028011643228215326), (199, 0.019702844095630043), (200, 0.0067329250166381265), (201, 0.012750102219127096), (202, 0.0018130208231691035), (203, 0.017415126923189514), (204, 0.01922026828791618), (205, 0.0), (206, 0.010725060517766904), (207, 0.013789371502225973), (208, 0.015150343455555243), (209, 0.017006589075467784), (210, 0.0402715538121031), (211, 0.0028851409907031545), (212, 0.01722396844595876), (213, 0.04953502406769588), (214, 0.0), (215, 0.0027104363194751864), (216, 0.010486375835694796), (217, 0.007154986157439472), (218, 0.016782652399249), (219, 0.0), (220, 0.005124382721252765), (221, 0.0026269436427815954), (222, 0.018403093252642194), (223, 0.0), (224, 0.007757438456223099), (225, 0.0), (226, 0.0027587336092324117), (227, 0.04910138235542345), (228, 0.0020911932914608714), (229, 0.00257057765149259), (230, 0.006509461041500531), (231, 0.013994440971470434), (232, 0.007187620146711303), (233, 0.004789221981869431), (234, 0.004159690213174815), (235, 0.003119847759114855), (236, 0.01406925731426048), (237, 0.0), (238, 0.0077461642099955425), (239, 0.005128044916872994), (240, 0.027347926872724235), (241, 0.029426842508766912), (242, 0.008140915915441242), (243, 0.01006688539204636), (244, 0.011973041464394351), (245, 0.0), (246, 0.002926700779853832), (247, 0.0027249903276159093), (248, 0.0061698336190445765), (249, 0.0024181980942697924), (250, 0.03039276595473033), (251, 0.014415030843479691), (252, 0.014269286375679186), (253, 0.0030181907028307936), (254, 0.06366127163522586), (255, 0.007927907618620764), (256, 0.007583811128910849), (257, 0.02168438883305534), (258, 0.0), (259, 0.0), (260, 0.004596854951970303), (261, 0.022661692463589816), (262, 0.002912115983425888), (263, 0.006269078074144886), (264, 0.0), (265, 0.0), (266, 0.010985441323321174), (267, 0.0023476144175301325), (268, 0.0024699163610144006), (269, 0.025193995198172232), (270, 0.010588824894162595), (271, 0.010922024021325015), (272, 0.0), (273, 0.011144868505364149), (274, 0.011600377735705148), (275, 0.0), (276, 0.014089320277602103), (277, 0.04281653383256882), (278, 0.002382382805399179), (279, 0.0171892455638549), (280, 0.016803759073393286), (281, 0.011455737266130289), (282, 0.05946959957427667), (283, 0.006876450109464031), (284, 0.028218425701216424), (285, 0.009155760391102809), (286, 0.002364862650074113), (287, 0.015779914161624026), (288, 0.009761395705936374), (289, 0.003885838238744268), (290, 0.003965050685736631), (291, 0.011120638011466363), (292, 0.05111008552574239), (293, 0.0019660936672335288), (294, 0.003853170759388175), (295, 0.003953513945655736), (296, 0.015722981159725827), (297, 0.0), (298, 0.0), (299, 0.0), (300, 0.006351312242996534), (301, 0.007043927618729738), (302, 0.0), (303, 0.005255745676869849), (304, 0.011281971866010994), (305, 0.004824735550691243), (306, 0.004465124692576342), (307, 0.008849319758794265), (308, 0.003087295508364505), (309, 0.007504917318446587), (310, 0.004658505718177728), (311, 0.0069442499899749965), (312, 0.0), (313, 0.011944454549018772), (314, 0.004069461297420524), (315, 0.004860831618471327), (316, 0.004468224794409339), (317, 0.01411007167186409), (318, 0.0030054160608427205), (319, 0.0), (320, 0.0050842787471168036), (321, 0.011112817006219817), (322, 0.01134183495473359), (323, 0.004337175031381901), (324, 0.002547204963405149), (325, 0.002607922540456397), (326, 0.0033786793968438285), (327, 0.010308038749569436), (328, 0.043671350265930255), (329, 0.020334704345540994), (330, 0.020368089408187157), (331, 0.0), (332, 0.013611638673188417), (333, 0.010859735681631386), (334, 0.03376486614373882), (335, 0.0), (336, 0.004786734742080243), (337, 0.0), (338, 0.0), (339, 0.0), (340, 0.007155195400972995), (341, 0.012404557338070504), (342, 0.01828934864663357), (343, 0.016179512281842133), (344, 0.0), (345, 0.025266423630944987), (346, 0.009365909110210645), (347, 0.004872530247863757), (348, 0.002737319405183452), (349, 0.0026774974704535867), (350, 0.008268339489449515), (351, 0.002103847708458954), (352, 0.0), (353, 0.009557218633501325), (354, 0.010514878946162003), (355, 0.0025391678085503466), (356, 0.013609458597708925), (357, 0.0023655329299140443), (358, 0.015633118765723587), (359, 0.002538769356863427), (360, 0.04173704624773458), (361, 0.0), (362, 0.0), (363, 0.007276980719894364), (364, 0.018501321951487376), (365, 0.0), (366, 0.0), (367, 0.00705048390339139), (368, 0.008833117862239464), (369, 0.005649138688304442), (370, 0.014956425977975831), (371, 0.028888127969728533), (372, 0.002574124387229038), (373, 0.00261109090938322), (374, 0.015861454487674266), (375, 0.004778493609685651), (376, 0.0), (377, 0.002835998211742455), (378, 0.0027659863109148718), (379, 0.0), (380, 0.005548452563800972), (381, 0.025679294686753437), (382, 0.0), (383, 0.019853139534921318), (384, 0.04990983031086835), (385, 0.008129579845845312), (386, 0.006945042992692379), (387, 0.032429045605337325), (388, 0.002609554724157074), (389, 0.004796706294176555), (390, 0.0), (391, 0.0), (392, 0.0), (393, 0.0), (394, 0.0), (395, 0.0029621587564003676), (396, 0.009763180610682654), (397, 0.004422793671152111), (398, 0.02248646449407619), (399, 0.0025463283224451626), (400, 0.002737179472786735), (401, 0.0), (402, 0.011483584281851204), (403, 0.007989679290445566), (404, 0.0), (405, 0.0), (406, 0.014595840014711764), (407, 0.012892347652057455), (408, 0.043345618203471), (409, 0.017191392043829478), (410, 0.0025684740449846938), (411, 0.0), (412, 0.045866353344408514), (413, 0.007115746994618255), (414, 0.0050097103390135955), (415, 0.0), (416, 0.002524108584612591), (417, 0.011341172422375118), (418, 0.012919071683100589), (419, 0.0030967092590110795), (420, 0.005215969090280307), (421, 0.027597997210370307), (422, 0.006951356597668803), (423, 0.0), (424, 0.059014483334373785), (425, 0.005487268395675092), (426, 0.004541049823579054), (427, 0.0), (428, 0.028706481682681275), (429, 0.015718521754100392), (430, 0.029527884063825477), (431, 0.0032547964577389504), (432, 0.002346191202574538), (433, 0.017103271660042416), (434, 0.009565077559284506), (435, 0.009911216905576621), (436, 0.008491304150928707), (437, 0.01531984642997497), (438, 0.04367132972735826), (439, 0.0), (440, 0.0), (441, 0.007801436289680691), (442, 0.021864950898365088), (443, 0.008809635312873262), (444, 0.0030729609015293724), (445, 0.008070901009058962), (446, 0.009217961996947728), (447, 0.015553356485397938), (448, 0.0031800247050778494), (449, 0.008482668866168911), (450, 0.01647217824799853), (451, 0.004859504703710123), (452, 0.012149556298023645), (453, 0.002114098559098578), (454, 0.0), (455, 0.04197518705904189), (456, 0.0029162021138469775), (457, 0.002523672695426284), (458, 0.016717320014662664), (459, 0.026096016155610524), (460, 0.0048067764977695005), (461, 0.008731572530429381), (462, 0.03212709639355087), (463, 0.02009723242314454), (464, 0.009319452434831552), (465, 0.02895736789947263), (466, 0.002723341158624507), (467, 0.004783733283224804), (468, 0.010754675462004568), (469, 0.004004213728243819), (470, 0.015061291272402227), (471, 0.002577222444509535), (472, 0.009695177949552977), (473, 0.0025038149041093044), (474, 0.00776467785984848), (475, 0.0032923766674086688), (476, 0.0030274829486369253), (477, 0.005321032679834105), (478, 0.0031277410984125553), (479, 0.050060375861757406), (480, 0.002425046904505058), (481, 0.01626885221160878), (482, 0.014866395998588074), (483, 0.010734358479354724), (484, 0.0), (485, 0.010835127205071493), (486, 0.0), (487, 0.0026422504144468935), (488, 0.0026798912837096302), (489, 0.003298496734636485), (490, 0.0027352637977003554), (491, 0.0), (492, 0.0), (493, 0.008084438497412331), (494, 0.007408517283901816), (495, 0.0024467910113378684), (496, 0.013721852565481515), (497, 0.006581237627797989), (498, 0.0), (499, 0.0029933751380900302), (500, 0.011904912566048972), (501, 0.010985621465493721), (502, 0.015668509605720474), (503, 0.00720407705483741), (504, 0.002782433904982945), (505, 0.002626826650189232), (506, 0.0), (507, 0.0025968308372596267), (508, 0.003166720681637161), (509, 0.007804844374042516), (510, 0.014756214775901874), (511, 0.016551967873556617), (512, 0.005748782386886853), (513, 0.0052749075693205045), (514, 0.005266777042087658), (515, 0.023233404656010165), (516, 0.0), (517, 0.0), (518, 0.003233772818465453), (519, 0.04973297744182354), (520, 0.0), (521, 0.006358460383118997), (522, 0.026870250531446895), (523, 0.012050609949024672), (524, 0.00253896019691825), (525, 0.0), (526, 0.003479691453219487), (527, 0.012774549480907855), (528, 0.0), (529, 0.0), (530, 0.030338520220720745), (531, 0.0), (532, 0.011317332682725351), (533, 0.01677944917057638), (534, 0.014825299287158259), (535, 0.0), (536, 0.0), (537, 0.013084678825829652), (538, 0.010977386491003195), (539, 0.007223585467966223), (540, 0.034718848567678484), (541, 0.002664943826905915), (542, 0.010489342339098113), (543, 0.015638026619283204), (544, 0.010279009150341686), (545, 0.013704916944412672), (546, 0.0), (547, 0.032814144715022434), (548, 0.0), (549, 0.0), (550, 0.005348193029427358), (551, 0.01665903290626132), (552, 0.0), (553, 0.01898213698704202), (554, 0.0), (555, 0.010968754738426133), (556, 0.0), (557, 0.0), (558, 0.009367986275278777), (559, 0.004327194555917913), (560, 0.012237594210132817), (561, 0.0049171727351000815), (562, 0.005764729669013417), (563, 0.006847915566399526), (564, 0.00289727487754824), (565, 0.0), (566, 0.019680311056725974), (567, 0.0), (568, 0.006182751284249887), (569, 0.0), (570, 0.0), (571, 0.005858528569936967), (572, 0.0), (573, 0.0), (574, 0.0), (575, 0.0), (576, 0.003106619364694232), (577, 0.0), (578, 0.03358014289555133), (579, 0.0027981716138097295), (580, 0.007940976603986832), (581, 0.006842157116191395), (582, 0.007772242467063639), (583, 0.006035923480194199), (584, 0.015498195009271054), (585, 0.0), (586, 0.01627851664884563), (587, 0.003001302600654977), (588, 0.00287110047044917), (589, 0.002554478819700466), (590, 0.06287451812976289), (591, 0.0), (592, 0.0), (593, 0.028029674641066343), (594, 0.0024693173981588656), (595, 0.0053308548419026295), (596, 0.003093377006088802), (597, 0.008477767461846124), (598, 0.0025816486040436916), (599, 0.0), (600, 0.0069612954414828895), (601, 0.0), (602, 0.0), (603, 0.0), (604, 0.013779004604151409), (605, 0.0024224830892086648), (606, 0.007854402639708694), (607, 0.002132459799641165), (608, 0.006863981968773909), (609, 0.0127501003650918), (610, 0.0), (611, 0.004441429534586998), (612, 0.002936004108278997), (613, 0.022733487401713947), (614, 0.0031640156872353997), (615, 0.044047050677594624), (616, 0.007823656022791918), (617, 0.006425490468483321), (618, 0.030699354517899853), (619, 0.004825601757635336), (620, 0.015473528397565921), (621, 0.010371520829382953), (622, 0.015882591685081198), (623, 0.0029264403108156855), (624, 0.0025289822636279805), (625, 0.004140992367255825), (626, 0.0023447776406134322), (627, 0.0037458948929115833), (628, 0.08284733272337948), (629, 0.029662368858676572), (630, 0.0), (631, 0.00967829741095631), (632, 0.03901376057586936), (633, 0.004746454194581218), (634, 0.004763863621913894), (635, 0.012573868033944969), (636, 0.0076799600985567335), (637, 0.044717444564545426), (638, 0.016977442715670293), (639, 0.004095827351899954), (640, 0.004063091722901474), (641, 0.022700322562193755), (642, 0.006561229868505256), (643, 0.02100833894676451), (644, 0.007212500442711259), (645, 0.002264523625710395), (646, 0.0026487332516786297), (647, 0.0024207333014036785), (648, 0.012416228825466752), (649, 0.0), (650, 0.0), (651, 0.009112675735460608), (652, 0.015336455191084817), (653, 0.013025473543378682), (654, 0.012885702570869179), (655, 0.0025806609444181277), (656, 0.0), (657, 0.02488220100870991), (658, 0.0), (659, 0.0025695516114686403), (660, 0.00793041932361379), (661, 0.0045436821922024105), (662, 0.0), (663, 0.0), (664, 0.012550063095401902), (665, 0.0), (666, 0.00545914546223107), (667, 0.012861644641566694), (668, 0.009687205850957975), (669, 0.019859971887523222), (670, 0.028664684504046255), (671, 0.00686247127522757), (672, 0.022356820046244022), (673, 0.043428148651001745), (674, 0.0), (675, 0.061850546126922645), (676, 0.014510037495646097), (677, 0.017149775661756586), (678, 0.013288398020344195), (679, 0.0), (680, 0.002943446755198338), (681, 0.0), (682, 0.0436490498322407), (683, 0.011361688088896373), (684, 0.012337659371480156), (685, 0.004986633311832662), (686, 0.0), (687, 0.0), (688, 0.008404720896700928), (689, 0.019008217152905), (690, 0.004517114426605903), (691, 0.02273639665052693), (692, 0.016302523332378662), (693, 0.02862106036559758), (694, 0.035241463739859), (695, 0.01127923527141032), (696, 0.0076390323467775655), (697, 0.009434022083325302), (698, 0.002617525851811967), (699, 0.0), (700, 0.0), (701, 0.01672369720390649), (702, 0.0), (703, 0.002452939081418784), (704, 0.0), (705, 0.008344329394972195), (706, 0.02335776019616562), (707, 0.0023140408510527637), (708, 0.0), (709, 0.0), (710, 0.03558976471575394), (711, 0.0), (712, 0.002440220194469661), (713, 0.0), (714, 0.0), (715, 0.01038767826639659), (716, 0.007973608056915573), (717, 0.002872166332096027), (718, 0.0), (719, 0.011455316703641555), (720, 0.0), (721, 0.03349718674516765), (722, 0.0024805166106359193), (723, 0.004091637977371376), (724, 0.0), (725, 0.0), (726, 0.0), (727, 0.007471986285596205), (728, 0.008189769009907068), (729, 0.008474017034471619), (730, 0.0), (731, 0.0026366933464583705), (732, 0.012729199850287691), (733, 0.01295779703714467), (734, 0.008815669684424137), (735, 0.003766948603962274), (736, 0.0), (737, 0.010574068769555156), (738, 0.003974223978122519), (739, 0.0031430713938922564), (740, 0.0018480214971290498), (741, 0.0), (742, 0.013420675414987027), (743, 0.007820554665795856), (744, 0.007035683796999084), (745, 0.006818842496652407), (746, 0.0), (747, 0.0), (748, 0.007068629332536674), (749, 0.0027621658706365225), (750, 0.007759066792981113), (751, 0.0), (752, 0.006948874007192637), (753, 0.014116456173104013), (754, 0.0), (755, 0.0026705506359524273), (756, 0.004240137967920301), (757, 0.018755567660964888), (758, 0.0066639791301340715), (759, 0.002516487027851854), (760, 0.013950234239858448), (761, 0.05229662269140235), (762, 0.015765353154410536), (763, 0.020870098726821412), (764, 0.0), (765, 0.005119830734398912), (766, 0.029401070211637563), (767, 0.0026148415990299824), (768, 0.019017349364338656), (769, 0.007506708481549967), (770, 0.0), (771, 0.0), (772, 0.0), (773, 0.0), (774, 0.03674814564933095), (775, 0.01392738453548581), (776, 0.017048454448612978), (777, 0.0032635715897552774), (778, 0.006836858843800097), (779, 0.020172062828601883), (780, 0.0), (781, 0.0), (782, 0.00907732488044664), (783, 0.0029005655925261596), (784, 0.0), (785, 0.0), (786, 0.0), (787, 0.030575240294301684), (788, 0.03774166604219742), (789, 0.0), (790, 0.011840785403383484), (791, 0.002957765850708494), (792, 0.010802413477958189), (793, 0.0050319012888117454), (794, 0.017398455361873108), (795, 0.017407633259425417), (796, 0.01784335227190527), (797, 0.0), (798, 0.002635549528496314), (799, 0.014594283457978308), (800, 0.01284718831498478), (801, 0.011210381991126547), (802, 0.005300655227364511), (803, 0.004320984308006671), (804, 0.006834410062095743), (805, 0.0025544786322754917), (806, 0.010458830907545145), (807, 0.0), (808, 0.01847775843806759), (809, 0.01183341480121348), (810, 0.0045212378917724085), (811, 0.004890738206531731), (812, 0.031459291024487364), (813, 0.0031054478106988014), (814, 0.013668221467814502), (815, 0.0024662987170223083), (816, 0.008274586460540728), (817, 0.00914733301064231), (818, 0.03498266699731661), (819, 0.0), (820, 0.0), (821, 0.006093142645932181), (822, 0.0), (823, 0.031888656916199104), (824, 0.024759929207965548), (825, 0.011850446155971214), (826, 0.002943257571441463), (827, 0.011598199297560464), (828, 0.009599692611634698), (829, 0.013757740869736825), (830, 0.034444944232649315), (831, 0.005382495143959056), (832, 0.026720286322205442), (833, 0.013162155676656916), (834, 0.006612147750310869), (835, 0.006310800507203412), (836, 0.027944797057691564), (837, 0.0), (838, 0.008718259063370334), (839, 0.0), (840, 0.0), (841, 0.0), (842, 0.01490860335022905), (843, 0.00774637115682724), (844, 0.013119855523417961), (845, 0.007954063918494635), (846, 0.0), (847, 0.010772134109640312), (848, 0.0027840725168682126), (849, 0.004829865965473739), (850, 0.009611167213785837), (851, 0.00889233992455903), (852, 0.026382624719090007), (853, 0.016655702461946954), (854, 0.002637040391849084), (855, 0.00552352271633625), (856, 0.0024620214911361894), (857, 0.00304386155383767), (858, 0.018619310556574044), (859, 0.0), (860, 0.01737551370240649), (861, 0.006554781640336502), (862, 0.0064194973173183865), (863, 0.00692579324943615), (864, 0.032760367914865786), (865, 0.0028332430956137466), (866, 0.01389894414476324), (867, 0.015816758641187506), (868, 0.007053493627030017), (869, 0.007567147939748945), (870, 0.021189135269412726), (871, 0.0028382184691306675), (872, 0.0029554804067287357), (873, 0.05067307419246922), (874, 0.03605723281178658), (875, 0.01342274497686071), (876, 0.017099428829572404), (877, 0.05086731907779605), (878, 0.0141508892537529), (879, 0.015606016651129822), (880, 0.00746436633294251), (881, 0.0), (882, 0.0), (883, 0.002638177247590722), (884, 0.0028745069579667764), (885, 0.024706893587871235), (886, 0.0025826341869916686), (887, 0.003007428964881344), (888, 0.016610954614730254), (889, 0.0035314190369712117), (890, 0.002883459771765035), (891, 0.005089935096056695), (892, 0.0), (893, 0.004360603583204098), (894, 0.010047227233889367), (895, 0.014964501720026066), (896, 0.016337997513691957), (897, 0.009493738331104395), (898, 0.00437712537460703), (899, 0.014813182576006823), (900, 0.013362062102639488), (901, 0.0022848962409524427), (902, 0.004981380128690029), (903, 0.02687613531251619), (904, 0.045192818232364276), (905, 0.014114177452360039), (906, 0.013290857161869063), (907, 0.002526686260729206), (908, 0.007470928699869675), (909, 0.0), (910, 0.006945143890651286), (911, 0.036773454926004624), (912, 0.0), (913, 0.0), (914, 0.0), (915, 0.011763063926640317), (916, 0.017515078619475506), (917, 0.022375491758339847), (918, 0.012609495794994232), (919, 0.004917620367472565), (920, 0.0), (921, 0.008764544383584285), (922, 0.003084632598766868), (923, 0.0073092533929199665), (924, 0.008208224568636933), (925, 0.0031795561968898174), (926, 0.0), (927, 0.004766135844967121), (928, 0.012727182611405027), (929, 0.015404675578026944), (930, 0.008024201825706803), (931, 0.012230323919595333), (932, 0.00431223951303464), (933, 0.0028309075149755723), (934, 0.014665753013468612), (935, 0.03194246284030404), (936, 0.012856679751166182), (937, 0.017473620464047), (938, 0.0), (939, 0.009536303426465229), (940, 0.006601491007745489), (941, 0.002595474915567448), (942, 0.02491921878181662), (943, 0.0), (944, 0.002573107784361536), (945, 0.0), (946, 0.0), (947, 0.020191130066220836), (948, 0.00929405126121341), (949, 0.01120790775398195), (950, 0.0), (951, 0.0023286099581473715), (952, 0.02971028175411738), (953, 0.006068604685969576), (954, 0.0), (955, 0.0), (956, 0.0), (957, 0.0146896108887529), (958, 0.006054181945356754), (959, 0.0026833063989284284), (960, 0.0), (961, 0.0), (962, 0.008929508463514818), (963, 0.0133117807946865), (964, 0.0), (965, 0.0), (966, 0.008904930711256242), (967, 0.02570382995404923), (968, 0.018915226419330494), (969, 0.0028177874921764493), (970, 0.009745618846509846), (971, 0.0), (972, 0.0), (973, 0.0027171007541309613), (974, 0.004551546987452954), (975, 0.0025715947917305925), (976, 0.029275868131340557), (977, 0.0), (978, 0.0), (979, 0.010137015740474962), (980, 0.007853101919169938), (981, 0.006840052182733964), (982, 0.0), (983, 0.0), (984, 0.002623796572137611), (985, 0.003158696115967468), (986, 0.01497251338159616), (987, 0.0028704569566716897), (988, 0.014853710503907972), (989, 0.014735034453616992), (990, 0.0), (991, 0.008158469328688512), (992, 0.005148729430517887), (993, 0.0027549950356905574), (994, 0.010281712066555555), (995, 0.0), (996, 0.0), (997, 0.0043514482287036445), (998, 0.0031231078284295996), (999, 0.003114271111712984), (1000, 0.013470398916485576), (1001, 0.007254237429029005), (1002, 0.0026265642172046437), (1003, 0.02095394661595182), (1004, 0.002465996718447095), (1005, 0.012863512712207781), (1006, 0.009827260405010139), (1007, 0.0029067542764912493), (1008, 0.0), (1009, 0.012662097003461154), (1010, 0.0), (1011, 0.0), (1012, 0.011427982043764752), (1013, 0.0), (1014, 0.007709006667072844), (1015, 0.023375712175469812), (1016, 0.0), (1017, 0.020994855728512365), (1018, 0.016511692338172686), (1019, 0.011605125231665453), (1020, 0.009055173956568054), (1021, 0.058499861436836324), (1022, 0.0), (1023, 0.04605586377419138), (1024, 0.0384471134594795), (1025, 0.0), (1026, 0.002704570802318821), (1027, 0.0026442202558075146), (1028, 0.0), (1029, 0.0), (1030, 0.05124860860361469), (1031, 0.0), (1032, 0.002608923453902416), (1033, 0.021744375540601112), (1034, 0.0026419185738011503), (1035, 0.014547944236299721), (1036, 0.0026108706075413566), (1037, 0.0076410101510060585), (1038, 0.0), (1039, 0.0), (1040, 0.002165801836540198), (1041, 0.007156455220696643), (1042, 0.0023105612830667532), (1043, 0.03070019914758217), (1044, 0.007337427285873224), (1045, 0.015992378542193965), (1046, 0.029152881259693043), (1047, 0.012742394887354442), (1048, 0.009742275729316362), (1049, 0.0032684936482770916), (1050, 0.00861709496513786), (1051, 0.0), (1052, 0.01986000790076476), (1053, 0.011964821409441431), (1054, 0.011518382584250657), (1055, 0.0), (1056, 0.0), (1057, 0.023979212228652416), (1058, 0.014925394233054714), (1059, 0.02725183173079), (1060, 0.026534901239998614), (1061, 0.011027512103631645), (1062, 0.0), (1063, 0.0332947185385291), (1064, 0.01814789577082613), (1065, 0.006968453450803757), (1066, 0.0), (1067, 0.0), (1068, 0.031943614001884585), (1069, 0.007434021896137131), (1070, 0.07951198015348689), (1071, 0.008068174468824707), (1072, 0.002737011277015333), (1073, 0.0), (1074, 0.01894379146431286), (1075, 0.009926541603265818), (1076, 0.007109993029251489), (1077, 0.009615577868716713), (1078, 0.008480049334771735), (1079, 0.0025375297172292753), (1080, 0.002472548296850417), (1081, 0.0), (1082, 0.004761227044255662), (1083, 0.007905132650629844), (1084, 0.002700648040601157), (1085, 0.0363867364291103), (1086, 0.0), (1087, 0.009555429180849565), (1088, 0.0023648228485102776), (1089, 0.0), (1090, 0.011681719759759438), (1091, 0.0), (1092, 0.010195858237566198), (1093, 0.0), (1094, 0.006509613094926111), (1095, 0.028087811556560958), (1096, 0.009147845296142163), (1097, 0.0), (1098, 0.02048126680883906), (1099, 0.012178049777851026), (1100, 0.002710163401000016), (1101, 0.0), (1102, 0.04985988590629564), (1103, 0.0), (1104, 0.012889042462407376), (1105, 0.0), (1106, 0.0), (1107, 0.0139235029739378), (1108, 0.0), (1109, 0.003043312799825806), (1110, 0.0027057649311358987), (1111, 0.006806817565352396), (1112, 0.018340377061094367), (1113, 0.0), (1114, 0.014791251668267084), (1115, 0.01572725513048353), (1116, 0.014869328693381659), (1117, 0.0026478387886885828), (1118, 0.06040177954825578), (1119, 0.016014599983729158), (1120, 0.004132139255983453), (1121, 0.0034687246564806262), (1122, 0.002812682059882215), (1123, 0.007238042083443828), (1124, 0.009747616805315142), (1125, 0.0070902363527489696), (1126, 0.0), (1127, 0.004767052831480243), (1128, 0.013771091618950581), (1129, 0.018166767165089467), (1130, 0.0), (1131, 0.0027672708146944253), (1132, 0.021270818868007864), (1133, 0.0), (1134, 0.06197725266345296), (1135, 0.0), (1136, 0.008270139765960784), (1137, 0.028263584366529933), (1138, 0.007701030292453288), (1139, 0.0), (1140, 0.008136744773210206), (1141, 0.023107686888840843), (1142, 0.0), (1143, 0.0), (1144, 0.007517269268056722), (1145, 0.003792203162278851), (1146, 0.032693846379864534), (1147, 0.0), (1148, 0.05063360383784449), (1149, 0.0), (1150, 0.005215372865303631), (1151, 0.0), (1152, 0.014451394844821263), (1153, 0.003395453431732375), (1154, 0.0043070466342437245), (1155, 0.0), (1156, 0.0), (1157, 0.012190776251039431), (1158, 0.0054230286998653175), (1159, 0.0), (1160, 0.00962756785754829), (1161, 0.002497840583270879), (1162, 0.02780803487958656), (1163, 0.0027597074956873346), (1164, 0.003937029150729334), (1165, 0.0), (1166, 0.0), (1167, 0.005292821559040374), (1168, 0.00331071096848167), (1169, 0.00323013576928461), (1170, 0.002768841475791989), (1171, 0.0), (1172, 0.006659547835495022), (1173, 0.03125757107680027), (1174, 0.007779980963064244), (1175, 0.018544840890082702), (1176, 0.002817367299193691), (1177, 0.007169534600713481), (1178, 0.0), (1179, 0.007593844371437591), (1180, 0.0), (1181, 0.025555261390609804), (1182, 0.009633943072887598), (1183, 0.013946903653679052), (1184, 0.017033074179463547), (1185, 0.01289317714142079), (1186, 0.024170605505758395), (1187, 0.003232595683925318), (1188, 0.007985724521468132), (1189, 0.0), (1190, 0.0), (1191, 0.00763307686772257), (1192, 0.014930148813680287), (1193, 0.0), (1194, 0.012261663524734383), (1195, 0.032552338564693625), (1196, 0.0), (1197, 0.004449114289473052), (1198, 0.0), (1199, 0.0024352554318622646), (1200, 0.0), (1201, 0.0), (1202, 0.019721103891392554), (1203, 0.04313954930318686), (1204, 0.00279103592567567), (1205, 0.02645413999272379), (1206, 0.008826167570907924), (1207, 0.004622273290069933), (1208, 0.0035049374597165435), (1209, 0.0023021134578310207), (1210, 0.0035163900478337594), (1211, 0.0045917437570766875), (1212, 0.0), (1213, 0.006456087092262721), (1214, 0.006185322825435325), (1215, 0.01221665494375821), (1216, 0.01667675765006381), (1217, 0.0023924489940434636), (1218, 0.0), (1219, 0.002470752929863837), (1220, 0.012884066955089259), (1221, 0.0), (1222, 0.0), (1223, 0.007642931974173941), (1224, 0.01564313941729557), (1225, 0.008033512020245444), (1226, 0.01862680977412043), (1227, 0.0), (1228, 0.0), (1229, 0.007910885315668057), (1230, 0.011755031571459719), (1231, 0.007094816525384639), (1232, 0.01502156483775003), (1233, 0.0), (1234, 0.010707274137881593), (1235, 0.0), (1236, 0.0337180580454971), (1237, 0.01362503186505756), (1238, 0.006588397134882863), (1239, 0.013189472805535042), (1240, 0.0), (1241, 0.0359881143948946), (1242, 0.0), (1243, 0.05587729350045116), (1244, 0.0), (1245, 0.017818254231267712), (1246, 0.0), (1247, 0.002669505822906407), (1248, 0.044422482437778334), (1249, 0.011545038473916315), (1250, 0.006806602174529272), (1251, 0.002441931817270497), (1252, 0.014844322887217773), (1253, 0.0), (1254, 0.016439402107623357), (1255, 0.013546970492660185), (1256, 0.0), (1257, 0.04517094733387022), (1258, 0.0), (1259, 0.011118540139483537), (1260, 0.008211429099122902), (1261, 0.044927470796218144), (1262, 0.01147273458578313), (1263, 0.0), (1264, 0.012142757561619342), (1265, 0.0), (1266, 0.011756440581303797), (1267, 0.00643714588386545), (1268, 0.0), (1269, 0.0), (1270, 0.021483780579112363), (1271, 0.0), (1272, 0.03552730881208715), (1273, 0.0026307385372019675), (1274, 0.01778233331602666), (1275, 0.01725849142201983), (1276, 0.009099729730792252), (1277, 0.0020689615520064148), (1278, 0.014905138227901247), (1279, 0.009658976722789057), (1280, 0.005141147998632803), (1281, 0.004419468596160392), (1282, 0.007892271691501378), (1283, 0.02341842172762641), (1284, 0.0026874827307495843), (1285, 0.0), (1286, 0.002702052234470731), (1287, 0.0), (1288, 0.0), (1289, 0.0), (1290, 0.015447823706020606), (1291, 0.0), (1292, 0.044121712511447905), (1293, 0.01278846499320938), (1294, 0.0028316555681347014), (1295, 0.0), (1296, 0.0), (1297, 0.0), (1298, 0.002747703914699318), (1299, 0.0), (1300, 0.010339817456352852), (1301, 0.0024087771008374057), (1302, 0.044870304066849845), (1303, 0.012081609264608526), (1304, 0.0027564378741281514), (1305, 0.0022723834699623522), (1306, 0.006873479842935067), (1307, 0.0062630487244375865), (1308, 0.008660638603882293), (1309, 0.0041418960956889515), (1310, 0.012027235090876191), (1311, 0.03359724963090181), (1312, 0.007937900202949844), (1313, 0.0027243871602114548), (1314, 0.02740722326926295), (1315, 0.0), (1316, 0.005967671769531698), (1317, 0.013535298450800025), (1318, 0.002466594025591593), (1319, 0.0027024717993531303), (1320, 0.03963524670325264), (1321, 0.0), (1322, 0.0), (1323, 0.0), (1324, 0.002945076732005383), (1325, 0.0162283553555172), (1326, 0.0), (1327, 0.006344245310884328), (1328, 0.0), (1329, 0.006571886606967416), (1330, 0.00720919985645729), (1331, 0.01428892907424178), (1332, 0.005389350587294953), (1333, 0.0), (1334, 0.01037127890614821), (1335, 0.015129777037841513), (1336, 0.0), (1337, 0.015297174616586442), (1338, 0.009933755661368261), (1339, 0.010774249947782), (1340, 0.002351348945868373), (1341, 0.07818103463251502), (1342, 0.01304762602045575), (1343, 0.014512840118396078), (1344, 0.005951871157819988), (1345, 0.006614672276095963), (1346, 0.0), (1347, 0.004674278795154748), (1348, 0.010635388143482916), (1349, 0.003108206874140417), (1350, 0.002685147017538318), (1351, 0.02516657176760164), (1352, 0.002355441049241419), (1353, 0.0), (1354, 0.0), (1355, 0.0028300897769636267), (1356, 0.006434127370758293), (1357, 0.0025485777417526643), (1358, 0.04287941934702451), (1359, 0.010116121308061297), (1360, 0.013660214887934428), (1361, 0.015818355549848763), (1362, 0.0222559087163138), (1363, 0.02835490889361578), (1364, 0.002870793067808775), (1365, 0.018120287285522542), (1366, 0.002488724916474496), (1367, 0.03343074056819687), (1368, 0.0), (1369, 0.04105845690242585), (1370, 0.002388648998346645), (1371, 0.0), (1372, 0.0025744512052479906), (1373, 0.0), (1374, 0.006681713879456534), (1375, 0.007212195321793097), (1376, 0.0126665959977602), (1377, 0.017385806898535857), (1378, 0.002763864438307103), (1379, 0.03412572937108059), (1380, 0.005116105737667582), (1381, 0.0055556341740994174), (1382, 0.009727931576431197), (1383, 0.08504634901414149), (1384, 0.018204359952208184), (1385, 0.02163484123316664), (1386, 0.01902690262322302), (1387, 0.00915252732834584), (1388, 0.0074080090646987465), (1389, 0.034466675956877614), (1390, 0.0), (1391, 0.005411120084045419), (1392, 0.0024369941746005264), (1393, 0.04220306091706427), (1394, 0.0024458116204583813), (1395, 0.003911268289572304), (1396, 0.012021735325643127), (1397, 0.021707460603390034), (1398, 0.029042718188777017), (1399, 0.0), (1400, 0.008005553188945675), (1401, 0.014079258292833834), (1402, 0.0028951537958663847), (1403, 0.01745454600454905), (1404, 0.0026073690994263153), (1405, 0.02882622345564961), (1406, 0.011974704983306293), (1407, 0.012124160343260977), (1408, 0.002685517678135119), (1409, 0.0029551718477046035), (1410, 0.0027841515305547723), (1411, 0.002728563110536897), (1412, 0.02428445673712508), (1413, 0.014413422186068583), (1414, 0.006776699555696401), (1415, 0.002256988472513068), (1416, 0.002633449887912655), (1417, 0.016854119949878017), (1418, 0.010238135507710485), (1419, 0.012276229737339314), (1420, 0.011454029216008767), (1421, 0.00733382998979973), (1422, 0.002683284785348178), (1423, 0.002441818900901254), (1424, 0.0), (1425, 0.006764390829200522), (1426, 0.0051372915520715035), (1427, 0.0022702415987455923), (1428, 0.0045771214330418255), (1429, 0.009143470621730128), (1430, 0.027418977354012115), (1431, 0.004959450702875091), (1432, 0.012766752639498499), (1433, 0.007081356513083471), (1434, 0.0025321321951644556), (1435, 0.004931471552279845), (1436, 0.012916383268581515), (1437, 0.0), (1438, 0.010046829890011301), (1439, 0.002876536047459539), (1440, 0.010293299681349656), (1441, 0.0), (1442, 0.010261177598598344), (1443, 0.018728504598970307), (1444, 0.0), (1445, 0.01634503146434235), (1446, 0.009028200560637032), (1447, 0.0), (1448, 0.0070400860764352965), (1449, 0.005116148196865281), (1450, 0.0023697950700137783), (1451, 0.004545547423770977), (1452, 0.005124609210871479), (1453, 0.0053638083329052965), (1454, 0.008322743748204277), (1455, 0.01221267945476455), (1456, 0.0025591910275803657), (1457, 0.0), (1458, 0.004102641228369065), (1459, 0.0), (1460, 0.0), (1461, 0.014226476586241946), (1462, 0.006992722324756303), (1463, 0.0026503709572662172), (1464, 0.03293351989752966), (1465, 0.01395902266506505), (1466, 0.0), (1467, 0.0), (1468, 0.0), (1469, 0.005018902460347289), (1470, 0.0), (1471, 0.020993143566580753), (1472, 0.007698458735043941), (1473, 0.0), (1474, 0.0030732715312184666), (1475, 0.009723219526603807), (1476, 0.002788935328329315), (1477, 0.00866802449877783), (1478, 0.014312401851793978), (1479, 0.00301988746248687), (1480, 0.004499411792256372), (1481, 0.014487536861186118), (1482, 0.02868983203633011), (1483, 0.014876481573102354), (1484, 0.00801818175555569), (1485, 0.0), (1486, 0.007314042455399766), (1487, 0.0), (1488, 0.00757221811815104), (1489, 0.008537489625423408), (1490, 0.0), (1491, 0.0), (1492, 0.021981166071123326), (1493, 0.017477553522137073), (1494, 0.009691584619741797), (1495, 0.0), (1496, 0.0), (1497, 0.0031549685904981154), (1498, 0.008454282732218592), (1499, 0.030875148169347867), (1500, 0.02771242080383994), (1501, 0.006650977016138335), (1502, 0.005113194037105735), (1503, 0.0025004003910151056), (1504, 0.007291482946648027), (1505, 0.02235346090664856), (1506, 0.043316751748009585), (1507, 0.008414502265630112), (1508, 0.0), (1509, 0.014810630481609823), (1510, 0.021071402612984208), (1511, 0.0), (1512, 0.01572058148060848), (1513, 0.010587609511895238), (1514, 0.008696918072623646), (1515, 0.022372218372903048), (1516, 0.002837366905693913), (1517, 0.0), (1518, 0.0029706957074687843), (1519, 0.013202350163212678), (1520, 0.0), (1521, 0.0), (1522, 0.0), (1523, 0.015979123434315255), (1524, 0.0), (1525, 0.0), (1526, 0.006367324440608517), (1527, 0.04037823624538541), (1528, 0.0025089573943037334), (1529, 0.0), (1530, 0.024305362222116395), (1531, 0.00510196662289471), (1532, 0.0), (1533, 0.0027965678217749825), (1534, 0.0), (1535, 0.0), (1536, 0.007665387932201401), (1537, 0.008146044802057224), (1538, 0.008565723342418945), (1539, 0.008395628417751592), (1540, 0.008580759162380193), (1541, 0.0), (1542, 0.012585919605639106), (1543, 0.0025442585104627977), (1544, 0.024950652995077503), (1545, 0.0), (1546, 0.004175630070513573), (1547, 0.003220207173786508), (1548, 0.0), (1549, 0.0), (1550, 0.0027201951539724233), (1551, 0.011314738217879112), (1552, 0.0063526869851513925), (1553, 0.008241471734824542), (1554, 0.0053240753472639365), (1555, 0.0070553180586430085), (1556, 0.0), (1557, 0.0), (1558, 0.0025674620411092167), (1559, 0.004193667932057475), (1560, 0.027906593612821558), (1561, 0.0), (1562, 0.004494764623721173), (1563, 0.0), (1564, 0.0), (1565, 0.0023607977820618593), (1566, 0.004847689531205712), (1567, 0.012735792014903768), (1568, 0.034421573168341615), (1569, 0.0), (1570, 0.002879761174091157), (1571, 0.007810593746410945), (1572, 0.02571584147453502), (1573, 0.00478472873518108), (1574, 0.0027850366503044473), (1575, 0.005165753870050241), (1576, 0.003886841680832644), (1577, 0.0), (1578, 0.0), (1579, 0.017543725570694335), (1580, 0.003044830029703411), (1581, 0.0), (1582, 0.009729286362207662), (1583, 0.00729288403628389), (1584, 0.0), (1585, 0.023554793496910933), (1586, 0.0), (1587, 0.004917167120298843), (1588, 0.005064061985627451), (1589, 0.0), (1590, 0.00421601146948127), (1591, 0.014083211666158005), (1592, 0.0), (1593, 0.0033399557476327074), (1594, 0.003092500506531223), (1595, 0.013532326101847951), (1596, 0.0), (1597, 0.0026487582223671913), (1598, 0.002713941892698525), (1599, 0.0), (1600, 0.0), (1601, 0.0), (1602, 0.0), (1603, 0.0), (1604, 0.0), (1605, 0.0024974636910830954), (1606, 0.0), (1607, 0.0), (1608, 0.006724055424402808), (1609, 0.016681182159651912), (1610, 0.0), (1611, 0.0), (1612, 0.009366259408969794), (1613, 0.0), (1614, 0.005179719991201974), (1615, 0.0), (1616, 0.0024305772640310975), (1617, 0.002695427081047507), (1618, 0.0), (1619, 0.01004490314602515), (1620, 0.00948401263346308), (1621, 0.014745404112308302), (1622, 0.004750731225288588), (1623, 0.004485967497444379), (1624, 0.0022426625333497054), (1625, 0.002493370056899268), (1626, 0.0), (1627, 0.006488147052508051), (1628, 0.0025284831133557395), (1629, 0.022174396727510915), (1630, 0.011600565571759279), (1631, 0.004583697386794636), (1632, 0.004631220234462027), (1633, 0.004624222649108322), (1634, 0.027382821476427677), (1635, 0.004754836009601659), (1636, 0.0), (1637, 0.002961540292977163), (1638, 0.0), (1639, 0.0), (1640, 0.0), (1641, 0.002559712616920517), (1642, 0.0025598543316718595), (1643, 0.007997122719528939), (1644, 0.006657492709451102), (1645, 0.002661437896652024), (1646, 0.0), (1647, 0.09323352965886932), (1648, 0.029995520689371075), (1649, 0.0), (1650, 0.008736625320057268), (1651, 0.0), (1652, 0.03953546582310379), (1653, 0.007421034022000825), (1654, 0.012713840134722416), (1655, 0.011459173868033605), (1656, 0.0031689042025964636), (1657, 0.020142170923964586), (1658, 0.010462572297652389), (1659, 0.00513560175624114), (1660, 0.0028878481690981935), (1661, 0.005228774116176839), (1662, 0.010727448961084126), (1663, 0.0026046152819081186), (1664, 0.00631728104918641), (1665, 0.014005941364234366), (1666, 0.002720275182630471), (1667, 0.013817548516970061), (1668, 0.0), (1669, 0.0), (1670, 0.002913181990038067), (1671, 0.021662310338513478), (1672, 0.0025247575625107), (1673, 0.0), (1674, 0.00801101251534414), (1675, 0.04135537637474602), (1676, 0.03743374946893605), (1677, 0.0021754076038979077), (1678, 0.021499673507320266), (1679, 0.0), (1680, 0.013613427223812834), (1681, 0.013410788030905034), (1682, 0.015081958323194667), (1683, 0.0029532509313336193), (1684, 0.005822722219003281), (1685, 0.00998574791161011), (1686, 0.0), (1687, 0.01586248703931567), (1688, 0.009614700930452923), (1689, 0.0), (1690, 0.008467787510897443), (1691, 0.002343278876259472), (1692, 0.006601821476278628), (1693, 0.0025912641481532126), (1694, 0.010872616632511597), (1695, 0.005387271282936141), (1696, 0.011280423620612968), (1697, 0.0), (1698, 0.0), (1699, 0.004193809489988976), (1700, 0.0), (1701, 0.009067570383080991), (1702, 0.03421271310534437), (1703, 0.002857362002814425), (1704, 0.0), (1705, 0.007905788758667289), (1706, 0.0027656325273540884), (1707, 0.022338421735483883), (1708, 0.010129855713369423), (1709, 0.0), (1710, 0.00890767452328223), (1711, 0.0034561629949722314), (1712, 0.010099765959502675), (1713, 0.04129691235872472), (1714, 0.012153655067310767), (1715, 0.0059808212492592425), (1716, 0.0168195390435218), (1717, 0.002843908015612778), (1718, 0.006972149239857166), (1719, 0.0024843144703660396), (1720, 0.026385298024628183), (1721, 0.026245721912025406), (1722, 0.0027795524549971006), (1723, 0.010746560536518991), (1724, 0.005220929663515741), (1725, 0.0), (1726, 0.0), (1727, 0.01052464463364706), (1728, 0.0), (1729, 0.0), (1730, 0.008594886298241497), (1731, 0.0), (1732, 0.005154147272881073), (1733, 0.0030107756983236336), (1734, 0.0), (1735, 0.007592553500418897), (1736, 0.010625775357528573), (1737, 0.007091472363229643), (1738, 0.006990826137823842), (1739, 0.013439561337367071), (1740, 0.015281667488115089), (1741, 0.015700898073039937), (1742, 0.0026182654345926), (1743, 0.007947446328196859), (1744, 0.0026198167144524703), (1745, 0.0), (1746, 0.006194324155163013), (1747, 0.007353226138038932), (1748, 0.003216728295309294), (1749, 0.025360019860582488), (1750, 0.03073214116067166), (1751, 0.0), (1752, 0.03352405160184198), (1753, 0.0041775362500310245), (1754, 0.011144179976211394), (1755, 0.0), (1756, 0.0), (1757, 0.021912551910088035), (1758, 0.0), (1759, 0.01739182850497307), (1760, 0.007019457853093854), (1761, 0.011758675218613221), (1762, 0.008404328925491132), (1763, 0.02512442775343581), (1764, 0.008182910149674035), (1765, 0.0028598886554664087), (1766, 0.0), (1767, 0.0), (1768, 0.0028394836999553878), (1769, 0.0), (1770, 0.03375486206243933), (1771, 0.0), (1772, 0.004197980869266056), (1773, 0.011298074351445784), (1774, 0.01647088371863159), (1775, 0.0), (1776, 0.008944103402017805), (1777, 0.0), (1778, 0.0), (1779, 0.015177407207448094), (1780, 0.0018008506456084694), (1781, 0.010369949078048848), (1782, 0.0025139943450279666), (1783, 0.0), (1784, 0.004387971967094292), (1785, 0.0), (1786, 0.0), (1787, 0.01260754109444905), (1788, 0.02958860906012496), (1789, 0.011277372983349538), (1790, 0.007919903972765761), (1791, 0.0051637058424180825), (1792, 0.0032414846300406353), (1793, 0.008818344023368297), (1794, 0.0), (1795, 0.029698093542659988), (1796, 0.013668154762410106), (1797, 0.0064635546992486345), (1798, 0.010062497779782891), (1799, 0.012573481059789605), (1800, 0.0), (1801, 0.002321266014634125), (1802, 0.01331453819489716), (1803, 0.0), (1804, 0.0), (1805, 0.0029875422875687103), (1806, 0.00804735366147175), (1807, 0.009269702923985466), (1808, 0.002479949805677146), (1809, 0.05058862172201081), (1810, 0.0), (1811, 0.007534488340724595), (1812, 0.012231790034136871), (1813, 0.0026821093235874357), (1814, 0.002537038508109057), (1815, 0.014131649709462922), (1816, 0.006651963451261682), (1817, 0.02107800678275892), (1818, 0.006310429435070252), (1819, 0.007068837729138681), (1820, 0.0), (1821, 0.04390256009895048), (1822, 0.002903651239897468), (1823, 0.0), (1824, 0.0), (1825, 0.0), (1826, 0.002497466198592049), (1827, 0.0024937898119664205), (1828, 0.002371998376305467), (1829, 0.005270652350009178), (1830, 0.002436609832364693), (1831, 0.002725426711681839), (1832, 0.012507724331912426), (1833, 0.008046411183754605), (1834, 0.0), (1835, 0.0), (1836, 0.0), (1837, 0.03251676542041123), (1838, 0.020268561360375137), (1839, 0.0), (1840, 0.004409417224356914), (1841, 0.006935340053182892), (1842, 0.0), (1843, 0.018247979994829515), (1844, 0.0), (1845, 0.027820534682349747), (1846, 0.004725137019557431), (1847, 0.02680209320461557), (1848, 0.0029764225197460377), (1849, 0.006560288156462044), (1850, 0.0417547733279682), (1851, 0.002865557172596519), (1852, 0.01134469682111449), (1853, 0.015870086919762806), (1854, 0.009696602897678278), (1855, 0.0), (1856, 0.0), (1857, 0.004771471162720244), (1858, 0.011361429559221526), (1859, 0.005110663135168436), (1860, 0.009690545648768843), (1861, 0.021861457024682247), (1862, 0.0030991369407791926), (1863, 0.005746558764094322), (1864, 0.013718763639640945), (1865, 0.023844992332342763), (1866, 0.008273130409396867), (1867, 0.006574576577299135), (1868, 0.030783923608886533), (1869, 0.002498818658353929), (1870, 0.011883317637138622), (1871, 0.041899550933005236), (1872, 0.018663559231868285), (1873, 0.011510120974969458), (1874, 0.010953992515007937), (1875, 0.008675864778650033), (1876, 0.01432818132772676), (1877, 0.0026418447417210387), (1878, 0.04859914998299257), (1879, 0.0), (1880, 0.01525790313376933), (1881, 0.005058495610578616), (1882, 0.0027116206788211925), (1883, 0.0), (1884, 0.002584765320283301), (1885, 0.032160875678544976), (1886, 0.06567846765620922), (1887, 0.003125760385931883), (1888, 0.0), (1889, 0.0), (1890, 0.0030615001101560123), (1891, 0.0027399820813299738), (1892, 0.0069419184896407984), (1893, 0.0029062462147495124), (1894, 0.0), (1895, 0.014689108747022676), (1896, 0.002931778627790319), (1897, 0.015450339370032054), (1898, 0.0), (1899, 0.0), (1900, 0.009358798576624673), (1901, 0.004949488308159406), (1902, 0.007985588094470137), (1903, 0.006221974845400621), (1904, 0.005117151839515489), (1905, 0.0029957300282747817), (1906, 0.01566988219114557), (1907, 0.0029754878838969055), (1908, 0.006690956959722446), (1909, 0.003096774118925658), (1910, 0.0040865678623614385), (1911, 0.0068968391476093675), (1912, 0.0), (1913, 0.006553707535898248), (1914, 0.0045483265957300635), (1915, 0.0), (1916, 0.002911335349997832), (1917, 0.0), (1918, 0.007998567591256528), (1919, 0.014996607531325073), (1920, 0.00869181001458656), (1921, 0.0024700232963477307), (1922, 0.010234024630248476), (1923, 0.011225828053152923), (1924, 0.008703163355608112), (1925, 0.004216211081455296), (1926, 0.0), (1927, 0.020153604576467435), (1928, 0.0), (1929, 0.002628533749956507), (1930, 0.004891708019382176), (1931, 0.007755222092318303), (1932, 0.0), (1933, 0.004702696675075295), (1934, 0.012774485846969332), (1935, 0.022903932477382552), (1936, 0.009594233283733149), (1937, 0.019263151008574227), (1938, 0.0), (1939, 0.00641132368209221), (1940, 0.0056144637691277555), (1941, 0.005776728011437209), (1942, 0.021932541824030875), (1943, 0.0024056536169830417), (1944, 0.0), (1945, 0.014124386634000924), (1946, 0.0028403542574646392), (1947, 0.0032101122503825972), (1948, 0.009123820882055381), (1949, 0.012689212813560023), (1950, 0.00772459723306009), (1951, 0.009973660659037025), (1952, 0.005208004942477592), (1953, 0.00471736831078952), (1954, 0.0024485961875331825), (1955, 0.0), (1956, 0.0), (1957, 0.011208178204328696), (1958, 0.01244398399999089), (1959, 0.0029840805466650783), (1960, 0.008402415661424667), (1961, 0.0), (1962, 0.005397321675788781), (1963, 0.0), (1964, 0.006866439935720801), (1965, 0.0), (1966, 0.0), (1967, 0.01453073254269251), (1968, 0.008895976961763617), (1969, 0.0026590274363441245), (1970, 0.05369378311505188), (1971, 0.008589263389227563), (1972, 0.0), (1973, 0.030193816022008983), (1974, 0.0), (1975, 0.005104217059851171), (1976, 0.0302618198654109), (1977, 0.07483013811189289), (1978, 0.0), (1979, 0.0), (1980, 0.002480524460082113), (1981, 0.006165624019014741), (1982, 0.07245466891388677), (1983, 0.015584800535724775), (1984, 0.0), (1985, 0.021857030314640702), (1986, 0.013865064828472197), (1987, 0.006788961142070809), (1988, 0.012658170851516798), (1989, 0.01199984029739691), (1990, 0.028615961938487415), (1991, 0.035257485599524754), (1992, 0.011440813531567437), (1993, 0.004635560279160784), (1994, 0.0832967066192186), (1995, 0.002973341153066159), (1996, 0.022506330310444366), (1997, 0.02416859027361209), (1998, 0.0049130196557322856), (1999, 0.025220461073827725), (2000, 0.012827517114242962), (2001, 0.0), (2002, 0.0), (2003, 0.0), (2004, 0.0025926720167527015), (2005, 0.01196195693618553), (2006, 0.0), (2007, 0.0), (2008, 0.013888320749848974), (2009, 0.0), (2010, 0.0021840931362695696), (2011, 0.02552706176570182), (2012, 0.04323740398544261), (2013, 0.02693190310473808), (2014, 0.029779447270069686), (2015, 0.005072476058377617), (2016, 0.01051781366420762), (2017, 0.0), (2018, 0.03616442288149859), (2019, 0.0), (2020, 0.024652637991741624), (2021, 0.0), (2022, 0.005264147443263772), (2023, 0.03120908507724418), (2024, 0.01437315716881538), (2025, 0.0), (2026, 0.05271782213279173), (2027, 0.015538891764541488), (2028, 0.0), (2029, 0.009897207047263134), (2030, 0.0), (2031, 0.006874012634452111), (2032, 0.0), (2033, 0.0), (2034, 0.0022814526265135704), (2035, 0.018163617531730902), (2036, 0.0), (2037, 0.03082377315697837), (2038, 0.0), (2039, 0.0023199099955433307), (2040, 0.023891759840788587), (2041, 0.0), (2042, 0.0), (2043, 0.0), (2044, 0.005130005426999521), (2045, 0.014531149491628636), (2046, 0.0), (2047, 0.0024399333723531097), (2048, 0.025534811614577393), (2049, 0.010346224356776648), (2050, 0.0), (2051, 0.01070470292125332), (2052, 0.012452844619635474), (2053, 0.015482835912991297), (2054, 0.0), (2055, 0.021133037491134595), (2056, 0.006404883576892889), (2057, 0.011839604694141198), (2058, 0.0060065828720711895), (2059, 0.0), (2060, 0.0027310146923799974), (2061, 0.007707871910786751), (2062, 0.011158680486086146), (2063, 0.0), (2064, 0.004908677906560368), (2065, 0.009089709242680858), (2066, 0.013711368293212296), (2067, 0.002770478003073922), (2068, 0.0026177656831706773), (2069, 0.0074803707142015), (2070, 0.01849708646274902), (2071, 0.0), (2072, 0.0028463364002192814), (2073, 0.002799556369728986), (2074, 0.010132440245795044), (2075, 0.00995328341018251), (2076, 0.008543505807319728), (2077, 0.008977904230643433), (2078, 0.0038510392119993565), (2079, 0.0), (2080, 0.009813970371184963), (2081, 0.0), (2082, 0.032211172089261796), (2083, 0.002887268265128955), (2084, 0.005236229507788698), (2085, 0.0), (2086, 0.0), (2087, 0.009201863123929357), (2088, 0.007968653518295484), (2089, 0.008897052288549194), (2090, 0.0), (2091, 0.007711078344968815), (2092, 0.0), (2093, 0.0180088125568171), (2094, 0.025648976960160087), (2095, 0.006444970675628733), (2096, 0.023046790467393486), (2097, 0.010978356474287507), (2098, 0.005662302107165734), (2099, 0.0025784890639232267), (2100, 0.03154252131117422), (2101, 0.00729392986798842), (2102, 0.028470151598009384), (2103, 0.009153101346414097), (2104, 0.00812108888595078), (2105, 0.002928628044254196), (2106, 0.0), (2107, 0.0), (2108, 0.0030616905365021536), (2109, 0.03448350960244191), (2110, 0.017373910037217406), (2111, 0.0026981701804048483), (2112, 0.06314475658044473), (2113, 0.005221099645899987), (2114, 0.0299637360094468), (2115, 0.0), (2116, 0.010184697722742267), (2117, 0.0026537717055631106), (2118, 0.0), (2119, 0.017514861045299604), (2120, 0.0), (2121, 0.013617373772289009), (2122, 0.03291523373230083), (2123, 0.03371180643602783), (2124, 0.0), (2125, 0.0), (2126, 0.01042079512825444), (2127, 0.002319334017095053), (2128, 0.0), (2129, 0.0025567846005940097), (2130, 0.004892176923158305), (2131, 0.0026548146662852563), (2132, 0.002298693002393716), (2133, 0.049760735945427695), (2134, 0.0030821282842842775), (2135, 0.0), (2136, 0.005241176546363607), (2137, 0.0), (2138, 0.0), (2139, 0.004561522985661309), (2140, 0.0), (2141, 0.002639090507064984), (2142, 0.0032309423148217833), (2143, 0.008996961662811316), (2144, 0.009487070977301294), (2145, 0.01179511042258149), (2146, 0.0023654862207844766), (2147, 0.03182471261157895), (2148, 0.0028708078423760864), (2149, 0.01715965583964054), (2150, 0.0), (2151, 0.0456381490853542), (2152, 0.0), (2153, 0.0), (2154, 0.027753579831877838), (2155, 0.04003967806008549), (2156, 0.005936385462682251), (2157, 0.023113285522960592), (2158, 0.008606642665845241), (2159, 0.0030483344926982526), (2160, 0.0062824369362732444), (2161, 0.016591981772125154), (2162, 0.010841232832859895), (2163, 0.002455725649527454), (2164, 0.0), (2165, 0.0), (2166, 0.0025958410859580425), (2167, 0.01785930062276997), (2168, 0.0), (2169, 0.0027793249663464158), (2170, 0.0), (2171, 0.0), (2172, 0.0), (2173, 0.024639613580462513), (2174, 0.021467950458688937), (2175, 0.006151960650445039), (2176, 0.00304558209783415), (2177, 0.013451427985642124), (2178, 0.011854700280115408), (2179, 0.0), (2180, 0.0), (2181, 0.005503269556844234), (2182, 0.0), (2183, 0.0), (2184, 0.006934816463463054), (2185, 0.005924207835769812), (2186, 0.0), (2187, 0.03747410872132691), (2188, 0.0), (2189, 0.0038520562149398645), (2190, 0.002977398715813359), (2191, 0.05171442019286508), (2192, 0.002787372604125562), (2193, 0.00952807187787678), (2194, 0.0), (2195, 0.0027547347617531393), (2196, 0.01581304859357107), (2197, 0.009702013394535355), (2198, 0.029003896310104076), (2199, 0.0035788616288350747), (2200, 0.0), (2201, 0.0025620407452527656), (2202, 0.0062785545528698935), (2203, 0.00605239389377683), (2204, 0.0), (2205, 0.006216928842245869), (2206, 0.011677823673092981), (2207, 0.01707991730219839), (2208, 0.005118334804920754), (2209, 0.010506098196562105), (2210, 0.022696016100603397), (2211, 0.007905776754393495), (2212, 0.0366073035188444), (2213, 0.002463266665568337), (2214, 0.048901487448907974), (2215, 0.0), (2216, 0.01467379778376449), (2217, 0.0), (2218, 0.0), (2219, 0.0), (2220, 0.0), (2221, 0.028765171259162774), (2222, 0.0), (2223, 0.00313294508485013), (2224, 0.014209727982416183), (2225, 0.0), (2226, 0.0026968662613293666), (2227, 0.0), (2228, 0.009451764236071684), (2229, 0.0), (2230, 0.002829813170835177), (2231, 0.005365977314415359), (2232, 0.004741058060899763), (2233, 0.0), (2234, 0.0), (2235, 0.0), (2236, 0.008507645822564934), (2237, 0.018832461856547113), (2238, 0.0), (2239, 0.00647691585329434), (2240, 0.002418555261940525), (2241, 0.0), (2242, 0.0026299232543797804), (2243, 0.0), (2244, 0.007345418455515842), (2245, 0.004660965291288329), (2246, 0.004839291969476006), (2247, 0.0), (2248, 0.04128334716296433), (2249, 0.0), (2250, 0.010116628938926587), (2251, 0.0), (2252, 0.013148086554335971), (2253, 0.0), (2254, 0.016085322521078155), (2255, 0.0), (2256, 0.0), (2257, 0.0), (2258, 0.01695363739643618), (2259, 0.0), (2260, 0.0029424571716818344), (2261, 0.0), (2262, 0.0), (2263, 0.0), (2264, 0.00900798703582559), (2265, 0.008520874029784504), (2266, 0.0), (2267, 0.0), (2268, 0.0026552878342878945), (2269, 0.0), (2270, 0.0023850748793032405), (2271, 0.0), (2272, 0.0), (2273, 0.0), (2274, 0.0), (2275, 0.0), (2276, 0.026959605504464343), (2277, 0.009532619429665457), (2278, 0.004919941929608772), (2279, 0.009841498627094391), (2280, 0.012107327793816217), (2281, 0.0), (2282, 0.0), (2283, 0.005145696842965102), (2284, 0.015076208074933057), (2285, 0.008497308491574141), (2286, 0.0035171743622719703), (2287, 0.002305751020070722), (2288, 0.0), (2289, 0.0), (2290, 0.01593237134295315), (2291, 0.005703573910945155), (2292, 0.0028208366136090366), (2293, 0.0030000416545264727), (2294, 0.04908913074661431), (2295, 0.0), (2296, 0.0), (2297, 0.0), (2298, 0.015427079986908567), (2299, 0.0), (2300, 0.0), (2301, 0.020841594568247003), (2302, 0.003126763157501788), (2303, 0.008872178920002947), (2304, 0.008247539416663004), (2305, 0.0), (2306, 0.01188394613335918), (2307, 0.0), (2308, 0.03742174076277457), (2309, 0.009022463541945417), (2310, 0.0036972551219770573), (2311, 0.0), (2312, 0.0), (2313, 0.0027925509146596644), (2314, 0.005334663239267361), (2315, 0.0), (2316, 0.036279153644717135), (2317, 0.002554639981873946), (2318, 0.058525452731984416), (2319, 0.0028655418582242864), (2320, 0.003200424962246759), (2321, 0.04130159408509884), (2322, 0.0), (2323, 0.0024863177489023182), (2324, 0.00711418532904262), (2325, 0.0), (2326, 0.0037990165124727232), (2327, 0.0), (2328, 0.0), (2329, 0.0), (2330, 0.005125247979522847), (2331, 0.0), (2332, 0.0), (2333, 0.0), (2334, 0.015413695324068432), (2335, 0.006711720217459138), (2336, 0.01209829047495422), (2337, 0.0), (2338, 0.0024957843373205717), (2339, 0.007567938551230155), (2340, 0.0027643375162695106), (2341, 0.0), (2342, 0.0), (2343, 0.02755004631151637), (2344, 0.007626731692104885), (2345, 0.0), (2346, 0.0), (2347, 0.016903471146432203), (2348, 0.007136986024626126), (2349, 0.003824146392155917), (2350, 0.0035385865085403464), (2351, 0.0), (2352, 0.0), (2353, 0.0), (2354, 0.0027670088448061166), (2355, 0.006346493319508277), (2356, 0.0030684709091562223), (2357, 0.0), (2358, 0.05756197385845241), (2359, 0.002294670067755245), (2360, 0.0), (2361, 0.0029239492499630944), (2362, 0.019478427292865048), (2363, 0.0), (2364, 0.0), (2365, 0.03355412622505652), (2366, 0.013889345169172833), (2367, 0.002630157055791224), (2368, 0.0), (2369, 0.0), (2370, 0.002873553679555781), (2371, 0.035524438080892), (2372, 0.0), (2373, 0.0), (2374, 0.0482579901926157), (2375, 0.03566025910310532), (2376, 0.01560345520959193), (2377, 0.0), (2378, 0.003241814805869857), (2379, 0.0), (2380, 0.0), (2381, 0.0), (2382, 0.0023716421992657564), (2383, 0.0), (2384, 0.0), (2385, 0.0028911973598864256), (2386, 0.0028231655538271316), (2387, 0.0027593050824436752), (2388, 0.0067327372405812675), (2389, 0.0), (2390, 0.003030664226464337), (2391, 0.002946711921737816), (2392, 0.0), (2393, 0.002938343911122831), (2394, 0.0), (2395, 0.0), (2396, 0.0027780210377052208), (2397, 0.002796503698967293), (2398, 0.0), (2399, 0.002527450212208283), (2400, 0.0), (2401, 0.0026953645677209393), (2402, 0.0025061109087675002), (2403, 0.010887092757721357), (2404, 0.0), (2405, 0.0028525835118583275), (2406, 0.017557889577959652), (2407, 0.0), (2408, 0.024648301788113322), (2409, 0.0), (2410, 0.0030261464467745995), (2411, 0.0031192607908132027), (2412, 0.012984449198894655), (2413, 0.031003778972092163), (2414, 0.0), (2415, 0.0), (2416, 0.0027232324203669126), (2417, 0.04948942101890467), (2418, 0.009898425443159685), (2419, 0.0029027757409443725), (2420, 0.0), (2421, 0.011689795568710703), (2422, 0.002685305087488261), (2423, 0.0), (2424, 0.006693752136509873), (2425, 0.0), (2426, 0.005934457464970363), (2427, 0.008754892390843375), (2428, 0.008421651026617478), (2429, 0.011333574107938017), (2430, 0.0027847894116847746), (2431, 0.0), (2432, 0.004642626597737859), (2433, 0.0), (2434, 0.003298127387593656), (2435, 0.0), (2436, 0.010530227529541478), (2437, 0.0031409458170715654), (2438, 0.0034234704983528855), (2439, 0.005481058830912511), (2440, 0.021383952489678452), (2441, 0.0022348812102619127), (2442, 0.004499417697668869), (2443, 0.03040924543977799), (2444, 0.0), (2445, 0.0), (2446, 0.002573230617794613), (2447, 0.012856963539803833), (2448, 0.003598421078179632), (2449, 0.0), (2450, 0.0), (2451, 0.0), (2452, 0.0), (2453, 0.0025343932996951075), (2454, 0.0), (2455, 0.0), (2456, 0.0), (2457, 0.002485988719011791), (2458, 0.0), (2459, 0.009248744246632997), (2460, 0.013641413432885226), (2461, 0.0026718742366451916), (2462, 0.0), (2463, 0.009257616511607938), (2464, 0.011012839979753913), (2465, 0.0), (2466, 0.00283078567453041), (2467, 0.026398132404408057), (2468, 0.0), (2469, 0.01958704623528081), (2470, 0.0), (2471, 0.0), (2472, 0.0), (2473, 0.008966426069784766), (2474, 0.012361435066971654), (2475, 0.0029771730636578), (2476, 0.0), (2477, 0.008198827155185962), (2478, 0.0031515317450014914), (2479, 0.0), (2480, 0.011372384586427585), (2481, 0.028942819017330312), (2482, 0.0025352069223672506), (2483, 0.0), (2484, 0.0), (2485, 0.0), (2486, 0.013959419646152384), (2487, 0.029090153997531308), (2488, 0.0), (2489, 0.010322972034357746), (2490, 0.0), (2491, 0.0), (2492, 0.0), (2493, 0.0), (2494, 0.0), (2495, 0.0027514239206836715), (2496, 0.007115227653190752), (2497, 0.0), (2498, 0.0), (2499, 0.0), (2500, 0.0), (2501, 0.020582472347018106), (2502, 0.002430589026035884), (2503, 0.0066002850581889745), (2504, 0.0), (2505, 0.010493432903249403), (2506, 0.004879238794049105), (2507, 0.002982619659729634), (2508, 0.0), (2509, 0.002260783485304509), (2510, 0.007569612248535807), (2511, 0.0), (2512, 0.010072045972742196), (2513, 0.018502497314729815), (2514, 0.0), (2515, 0.0), (2516, 0.0), (2517, 0.03154661049466769), (2518, 0.0), (2519, 0.007605620974818409), (2520, 0.002396009001871348), (2521, 0.0), (2522, 0.015980236306530782), (2523, 0.0), (2524, 0.02057427604857244), (2525, 0.002592545792533303), (2526, 0.0022544026579424743), (2527, 0.002376499840124907), (2528, 0.0025571739822109227), (2529, 0.0), (2530, 0.045250124082167505), (2531, 0.0), (2532, 0.0), (2533, 0.0027759835878665203), (2534, 0.0012263263582218938), (2535, 0.003031129461100492), (2536, 0.0), (2537, 0.0037872339155985858), (2538, 0.06856777095344913), (2539, 0.0), (2540, 0.03755222221911151), (2541, 0.004111113234072244), (2542, 0.0), (2543, 0.0), (2544, 0.003115097091718545), (2545, 0.009832024850000495), (2546, 0.010502682976482004), (2547, 0.0), (2548, 0.0), (2549, 0.0), (2550, 0.0), (2551, 0.0), (2552, 0.0025853385132556333), (2553, 0.017922764704213758), (2554, 0.0027679603966882216), (2555, 0.011783076067273492), (2556, 0.0025570017208937207), (2557, 0.0034311351296612363), (2558, 0.08221613951449769), (2559, 0.0036090268312774622), (2560, 0.0), (2561, 0.0), (2562, 0.0), (2563, 0.007785339816447582), (2564, 0.0), (2565, 0.009995554916881644), (2566, 0.0), (2567, 0.005747784234481832), (2568, 0.011515372366758078), (2569, 0.0), (2570, 0.003236301453152449), (2571, 0.002661132267594721), (2572, 0.008905046365149489), (2573, 0.003963317192033709), (2574, 0.0), (2575, 0.0), (2576, 0.005495580401688191), (2577, 0.0), (2578, 0.0), (2579, 0.04807994327122574), (2580, 0.006773234032737227), (2581, 0.0), (2582, 0.020343525061680977), (2583, 0.0), (2584, 0.0), (2585, 0.0030583833795984105), (2586, 0.0), (2587, 0.00834034379003762), (2588, 0.0), (2589, 0.0), (2590, 0.0), (2591, 0.0), (2592, 0.0030474215791046395), (2593, 0.0025411709935757977), (2594, 0.0), (2595, 0.002990644808452286), (2596, 0.0), (2597, 0.0), (2598, 0.021981428897182406), (2599, 0.005241048246678542), (2600, 0.009213968226802694), (2601, 0.009834073972813414), (2602, 0.01242710969700751), (2603, 0.007890428210602247), (2604, 0.0), (2605, 0.0), (2606, 0.007647248589174626), (2607, 0.019391330474888883), (2608, 0.0), (2609, 0.002945395779970188), (2610, 0.0029206842929790705), (2611, 0.0023658733192130966), (2612, 0.002669309371656957), (2613, 0.0032334391178941106), (2614, 0.03013604017153109), (2615, 0.0), (2616, 0.0), (2617, 0.013206795955583727), (2618, 0.0), (2619, 0.003307724539808591), (2620, 0.0), (2621, 0.03242699619940772), (2622, 0.03803180136886028), (2623, 0.003136141347007556), (2624, 0.0030230654484791563), (2625, 0.011649009860333808), (2626, 0.005302011927631015), (2627, 0.0), (2628, 0.003609866795109114), (2629, 0.003132395307061082), (2630, 0.04874390002909929), (2631, 0.0), (2632, 0.013930996349985342), (2633, 0.0), (2634, 0.0025832253620667084), (2635, 0.008668607600325475), (2636, 0.0020760355284842606), (2637, 0.0), (2638, 0.0), (2639, 0.015385116566825738), (2640, 0.009825214086627603), (2641, 0.0), (2642, 0.0026545840104192264), (2643, 0.0), (2644, 0.014909409418647986), (2645, 0.019324858461564752), (2646, 0.02135098843308897), (2647, 0.023564409571138156), (2648, 0.0), (2649, 0.024593128860324134), (2650, 0.019108170682148026), (2651, 0.002610151389100706), (2652, 0.0), (2653, 0.04778952114360201), (2654, 0.0170586175999457), (2655, 0.0), (2656, 0.0), (2657, 0.0), (2658, 0.0), (2659, 0.0), (2660, 0.004354924611347578), (2661, 0.002968741717496536), (2662, 0.0), (2663, 0.0), (2664, 0.00294690158272471), (2665, 0.0054618660485515605), (2666, 0.0), (2667, 0.0), (2668, 0.022266976682755894), (2669, 0.0), (2670, 0.0), (2671, 0.0), (2672, 0.0), (2673, 0.0), (2674, 0.002541810118665539), (2675, 0.0), (2676, 0.0), (2677, 0.0), (2678, 0.004479742134209157), (2679, 0.002615930797592565), (2680, 0.011017753536490048), (2681, 0.0), (2682, 0.0045287481296224065), (2683, 0.0054183800728120355), (2684, 0.0), (2685, 0.0), (2686, 0.0), (2687, 0.027061646841056924), (2688, 0.011423532873256936), (2689, 0.02495645406973139), (2690, 0.0), (2691, 0.006929322032009774), (2692, 1.0000000000000004), (2693, 0.0), (2694, 0.043552640132927846), (2695, 0.014961564332715588), (2696, 0.003187688675586607), (2697, 0.012219371827294656), (2698, 0.009186777932369041), (2699, 0.023216462963992626), (2700, 0.0), (2701, 0.0), (2702, 0.0031218039019493904), (2703, 0.0), (2704, 0.0), (2705, 0.0), (2706, 0.030116080385114305), (2707, 0.0), (2708, 0.006785138687368887), (2709, 0.0), (2710, 0.029803581634434608), (2711, 0.0046020644485362935), (2712, 0.0), (2713, 0.024294304882927047), (2714, 0.008051664855335127), (2715, 0.0), (2716, 0.036239124593957034), (2717, 0.0), (2718, 0.023168610908204233), (2719, 0.0), (2720, 0.0032290366046238365), (2721, 0.002401127144888218), (2722, 0.003826015131577646), (2723, 0.029519251229180504), (2724, 0.0067596162027764245), (2725, 0.0029582053537992974), (2726, 0.006879907521652031), (2727, 0.014709075494874706), (2728, 0.0025153013714701933), (2729, 0.0), (2730, 0.0), (2731, 0.0), (2732, 0.0067942663161696315), (2733, 0.0053490712807438955), (2734, 0.0), (2735, 0.0025590796049300975), (2736, 0.019532743696093934), (2737, 0.0), (2738, 0.0032037187798448327), (2739, 0.011129179650665599), (2740, 0.010529816220626381), (2741, 0.002497003540833587), (2742, 0.01750898751598953), (2743, 0.002372042487368294), (2744, 0.009721007154210006), (2745, 0.04375253414980966), (2746, 0.0028058336302429006), (2747, 0.0023682875078150107), (2748, 0.003001929479209577), (2749, 0.0), (2750, 0.0), (2751, 0.0), (2752, 0.00964747642604483), (2753, 0.0024241719792296506), (2754, 0.0), (2755, 0.0029163879020772973), (2756, 0.0), (2757, 0.0), (2758, 0.0023275645695610948), (2759, 0.0), (2760, 0.019193266010051793), (2761, 0.02521783236237894), (2762, 0.026391647170882465), (2763, 0.0), (2764, 0.0), (2765, 0.0026251266940830404), (2766, 0.00218668592192795), (2767, 0.019581319760976233), (2768, 0.0), (2769, 0.011093986679309612), (2770, 0.0), (2771, 0.012705880008289018), (2772, 0.0), (2773, 0.0), (2774, 0.005331286501805067), (2775, 0.0037466712734381875), (2776, 0.002964615831549634), (2777, 0.02238672869245064), (2778, 0.0), (2779, 0.002636038466771505), (2780, 0.01269009886334832), (2781, 0.0), (2782, 0.030540565958330233), (2783, 0.002777162974361085), (2784, 0.015330408160278239), (2785, 0.0), (2786, 0.002960561821494665), (2787, 0.004620474953158526), (2788, 0.012428236971800724), (2789, 0.009528555288460899), (2790, 0.005098766229167508), (2791, 0.028311107721642127), (2792, 0.002926216632433417), (2793, 0.0), (2794, 0.0), (2795, 0.018737522113302804), (2796, 0.0031481735936736074), (2797, 0.003374105357686443), (2798, 0.009555999425139482), (2799, 0.0), (2800, 0.002611858403534546), (2801, 0.004148794727694503), (2802, 0.02707271215204461), (2803, 0.012992467907277028), (2804, 0.0), (2805, 0.013600916972682382), (2806, 0.0), (2807, 0.0), (2808, 0.020983390240663265), (2809, 0.0058052524726302165), (2810, 0.0), (2811, 0.0), (2812, 0.008864658928808965), (2813, 0.0), (2814, 0.0), (2815, 0.014763082481853835), (2816, 0.006867892220643955), (2817, 0.0), (2818, 0.0), (2819, 0.005135580472687651), (2820, 0.01006736022976865), (2821, 0.0029385231700932335), (2822, 0.02143379827043852), (2823, 0.017732084224147546), (2824, 0.0), (2825, 0.007275295966308395), (2826, 0.002777243411386766), (2827, 0.0), (2828, 0.0), (2829, 0.0), (2830, 0.003076587957987078), (2831, 0.0), (2832, 0.0036296925329412336), (2833, 0.006575204748373996), (2834, 0.0), (2835, 0.0), (2836, 0.0), (2837, 0.0), (2838, 0.0), (2839, 0.0), (2840, 0.0), (2841, 0.01988358137968328), (2842, 0.0), (2843, 0.007417217623450603), (2844, 0.007761138784081268), (2845, 0.0025393272615431796), (2846, 0.04029582656338052), (2847, 0.004782015793503778), (2848, 0.0033762251025173445), (2849, 0.0), (2850, 0.0), (2851, 0.0), (2852, 0.0), (2853, 0.0027447904422736205), (2854, 0.0), (2855, 0.0), (2856, 0.0), (2857, 0.0033959362208058987), (2858, 0.0), (2859, 0.03895081582743852), (2860, 0.0), (2861, 0.0036228713318572766), (2862, 0.002575353723787889), (2863, 0.00285052858169138), (2864, 0.0), (2865, 0.0), (2866, 0.0), (2867, 0.019749695528817716), (2868, 0.0355665920945013), (2869, 0.04051868441853584), (2870, 0.0), (2871, 0.010812983644913886), (2872, 0.0), (2873, 0.0), (2874, 0.012982097005150154), (2875, 0.0), (2876, 0.02848377993585582), (2877, 0.0), (2878, 0.002907545100135926), (2879, 0.009252750031459997), (2880, 0.0), (2881, 0.008581464740548965), (2882, 0.002993963498126416), (2883, 0.003724730600830684), (2884, 0.003180137604804477), (2885, 0.015616166260289922), (2886, 0.009671587009688173), (2887, 0.02977401114958592), (2888, 0.0029797890770279284), (2889, 0.0), (2890, 0.0030512078893776885), (2891, 0.0), (2892, 0.0), (2893, 0.0437078696906295), (2894, 0.0028212056596297226), (2895, 0.003310783027899234), (2896, 0.0), (2897, 0.007020389587769856), (2898, 0.0), (2899, 0.0071594621642623625), (2900, 0.0027321831897518783), (2901, 0.0), (2902, 0.0020198238296004335), (2903, 0.10050343624154569), (2904, 0.0028644748116487895), (2905, 0.0), (2906, 0.0), (2907, 0.0025528719335964982), (2908, 0.03582431245662253), (2909, 0.002692408658839832), (2910, 0.014584975862283666), (2911, 0.0028751128013852294), (2912, 0.026849462501666733), (2913, 0.01209587975812589), (2914, 0.0030858676061962854), (2915, 0.010240853235279707), (2916, 0.0), (2917, 0.016505112392477983), (2918, 0.011782441673375579), (2919, 0.0154552785197326), (2920, 0.026860937343781997), (2921, 0.0), (2922, 0.0), (2923, 0.003723600368139325), (2924, 0.003196293120799819), (2925, 0.012026963029785613), (2926, 0.002882558233716894), (2927, 0.0), (2928, 0.0), (2929, 0.010252340348728255), (2930, 0.0), (2931, 0.015091993630304078), (2932, 0.0), (2933, 0.007970098601845079), (2934, 0.010211227015449999), (2935, 0.0059089453739194905), (2936, 0.010682743360555611), (2937, 0.003945081720904941), (2938, 0.0), (2939, 0.015217148682720727), (2940, 0.0029523625846305844), (2941, 0.0), (2942, 0.00816828069008449), (2943, 0.0027531977110804456), (2944, 0.05199810041686578), (2945, 0.0026955098600262854), (2946, 0.0027230914906540148), (2947, 0.0049822222378368315), (2948, 0.0094962611528586), (2949, 0.008130095767390589), (2950, 0.023475978622780364), (2951, 0.0), (2952, 0.0), (2953, 0.0029178281360712874), (2954, 0.002521085814959827), (2955, 0.0), (2956, 0.0), (2957, 0.0), (2958, 0.0), (2959, 0.005106831604809352), (2960, 0.004905178913151782), (2961, 0.01477837228702441), (2962, 0.007019883937634454), (2963, 0.013062342849031766), (2964, 0.010079526411702993), (2965, 0.002619586792321361), (2966, 0.0033478874210271215), (2967, 0.0), (2968, 0.0), (2969, 0.013375540780636033), (2970, 0.002930496877192163), (2971, 0.04510423706916972), (2972, 0.02611349850531492), (2973, 0.0), (2974, 0.003112063649344348), (2975, 0.008284140961420654), (2976, 0.002470125993813095), (2977, 0.00965824511004079), (2978, 0.01327269276081132), (2979, 0.0), (2980, 0.009224968615944157), (2981, 0.03485075388251631), (2982, 0.0), (2983, 0.0), (2984, 0.004446387531788765), (2985, 0.057052238529832405), (2986, 0.0032405606006987928), (2987, 0.003190925295017305), (2988, 0.014646030543377188), (2989, 0.0), (2990, 0.0), (2991, 0.004911810472291376), (2992, 0.010753786277325261), (2993, 0.003313240631682758), (2994, 0.007428970712638524), (2995, 0.020320133851078993), (2996, 0.016452980207619622), (2997, 0.0026051482173352213), (2998, 0.0), (2999, 0.0027504409045303125), (3000, 0.018820637442124602), (3001, 0.0), (3002, 0.0), (3003, 0.0030418389971069272), (3004, 0.0), (3005, 0.004892682786624713), (3006, 0.0), (3007, 0.0029563350082369407), (3008, 0.007446848697431594), (3009, 0.0), (3010, 0.04815049194801504), (3011, 0.004680167582937479), (3012, 0.016827872369611894), (3013, 0.0031108843079040967), (3014, 0.0026099825488054653), (3015, 0.0034921007923248556), (3016, 0.0028442805169344903), (3017, 0.02640181129256997), (3018, 0.0), (3019, 0.01743272053242976), (3020, 0.003360425123799384), (3021, 0.0), (3022, 0.005606509944444529), (3023, 0.044089878246633574), (3024, 0.0022794087274404205), (3025, 0.0), (3026, 0.0030367920686929215), (3027, 0.0024760743275470108), (3028, 0.02671753767874631), (3029, 0.0), (3030, 0.0), (3031, 0.0033697874071402494), (3032, 0.008527362732965268), (3033, 0.006656143536802671), (3034, 0.0), (3035, 0.0), (3036, 0.017500928027237843), (3037, 0.0), (3038, 0.0), (3039, 0.0075370793866399765), (3040, 0.0), (3041, 0.0), (3042, 0.0037303722270147542), (3043, 0.016939190545314748), (3044, 0.0030124066294742757), (3045, 0.03595499927397962), (3046, 0.009241361589053695), (3047, 0.0), (3048, 0.0), (3049, 0.0), (3050, 0.0025320563487860677), (3051, 0.0), (3052, 0.0), (3053, 0.0763430570451952), (3054, 0.0), (3055, 0.0037620378159414943), (3056, 0.0022855070998782415), (3057, 0.0025923661634017756), (3058, 0.0), (3059, 0.0), (3060, 0.0), (3061, 0.0), (3062, 0.0), (3063, 0.0), (3064, 0.003007427425553596), (3065, 0.012168600564858887), (3066, 0.0065205372277794965), (3067, 0.009028932204355576), (3068, 0.021970556256974527), (3069, 0.002684873172744962), (3070, 0.010901931311693166), (3071, 0.0025651848605729877), (3072, 0.0032134057570875115), (3073, 0.0), (3074, 0.0033991947896106134), (3075, 0.0026755633715363084), (3076, 0.013225478974949087), (3077, 0.0), (3078, 0.0), (3079, 0.004479644449092762), (3080, 0.0), (3081, 0.003246634202402493), (3082, 0.0), (3083, 0.020631863402324365), (3084, 0.002921292998513461), (3085, 0.018056500632694112), (3086, 0.016182376246966758), (3087, 0.0), (3088, 0.0), (3089, 0.0), (3090, 0.0), (3091, 0.04540986290607815), (3092, 0.0), (3093, 0.002722466221752707), (3094, 0.011021704896798476), (3095, 0.023244718170589602), (3096, 0.00817170655301042), (3097, 0.019250132570748018), (3098, 0.01694967294311255), (3099, 0.0108555627047549), (3100, 0.004528114993173348), (3101, 0.0030387454811878173), (3102, 0.03501916393609132), (3103, 0.0), (3104, 0.0), (3105, 0.0), (3106, 0.0), (3107, 0.0), (3108, 0.012807717472334793), (3109, 0.0), (3110, 0.013656761694730117), (3111, 0.019130823257987647), (3112, 0.008131185962037482), (3113, 0.002806604312161502), (3114, 0.006137421049209927), (3115, 0.0), (3116, 0.0), (3117, 0.005539055080918767), (3118, 0.011369242268580673), (3119, 0.0), (3120, 0.009383220595519026), (3121, 0.0), (3122, 0.007266770305113286), (3123, 0.009275614183599457), (3124, 0.0050258804491547585), (3125, 0.007624549083129924), (3126, 0.0046356509024849425), (3127, 0.037361260400501806), (3128, 0.003478080647300848), (3129, 0.017622153737229095), (3130, 0.0), (3131, 0.005153131675910608), (3132, 0.0), (3133, 0.004557865460058029), (3134, 0.005067199087645616), (3135, 0.004552716220716482), (3136, 0.004525324142297827), (3137, 0.03284273021535819), (3138, 0.0), (3139, 0.00387261798737152), (3140, 0.0034668076712349124), (3141, 0.0), (3142, 0.0), (3143, 0.004500435552137901), (3144, 0.018867782560952735), (3145, 0.0), (3146, 0.030802007333122845), (3147, 0.00256886867928141), (3148, 0.003120381911768313), (3149, 0.007097877074618769), (3150, 0.002886092311294217), (3151, 0.008954407190472755), (3152, 0.0073722585651200614), (3153, 0.024002543861605153), (3154, 0.02728848429948863), (3155, 0.010223243497068423), (3156, 0.026138087583846926), (3157, 0.031265866383320275), (3158, 0.005419883845830586), (3159, 0.0034075282627220073), (3160, 0.004255040047425027), (3161, 0.004778307845598376), (3162, 0.0), (3163, 0.005285655833650377), (3164, 0.005633706584275567), (3165, 0.0), (3166, 0.0), (3167, 0.026301172658223244), (3168, 0.005454139688121377), (3169, 0.0), (3170, 0.002634758379626231), (3171, 0.009683683989208786), (3172, 0.0), (3173, 0.002723755635176135), (3174, 0.02763769062066783), (3175, 0.0), (3176, 0.0), (3177, 0.0), (3178, 0.0), (3179, 0.004979786870581537), (3180, 0.005393910889687121), (3181, 0.0), (3182, 0.0028133994829468378), (3183, 0.003003347930536718), (3184, 0.0029609683006164645), (3185, 0.0), (3186, 0.0031325528998617422), (3187, 0.0028951927942011692), (3188, 0.0), (3189, 0.0), (3190, 0.0), (3191, 0.004982260979927163), (3192, 0.00811452702859241), (3193, 0.0), (3194, 0.002605712932583079), (3195, 0.007498196782153719), (3196, 0.008511539755684938), (3197, 0.0), (3198, 0.002842043054025265), (3199, 0.0021384756338829213), (3200, 0.002348811743569828), (3201, 0.0), (3202, 0.0), (3203, 0.049378375039317364), (3204, 0.0), (3205, 0.004951848604368498), (3206, 0.003338586529621938), (3207, 0.0), (3208, 0.0), (3209, 0.04100592424488453), (3210, 0.01510316748183339), (3211, 0.002396699272410596), (3212, 0.0), (3213, 0.017130648379707132), (3214, 0.002645714575016782), (3215, 0.00964497236171991), (3216, 0.0027511561958854618), (3217, 0.0), (3218, 0.010025265346381415), (3219, 0.0035962813607995294), (3220, 0.00269793800432233), (3221, 0.0), (3222, 0.021170917624240518), (3223, 0.0), (3224, 0.002876914679333113), (3225, 0.0028351882430441835), (3226, 0.017319043110685828), (3227, 0.0), (3228, 0.0), (3229, 0.0), (3230, 0.003187686659434111), (3231, 0.0), (3232, 0.010703700588418989), (3233, 0.007836421753284936), (3234, 0.0), (3235, 0.0), (3236, 0.0), (3237, 0.009297175909915226), (3238, 0.0023767550225010405), (3239, 0.003469412477601692), (3240, 0.011774554666867807), (3241, 0.0028501341427081095), (3242, 0.0029025895426532883), (3243, 0.002581539708247421), (3244, 0.006109318059894364), (3245, 0.0074658623262589575), (3246, 0.008981973586628045), (3247, 0.0043859630194881686), (3248, 0.0), (3249, 0.040928860906526206), (3250, 0.0), (3251, 0.0), (3252, 0.002296896036311059), (3253, 0.0), (3254, 0.020510332780404976), (3255, 0.0), (3256, 0.0), (3257, 0.0033311274048403797), (3258, 0.0), (3259, 0.007787932218007255), (3260, 0.02697967627354558), (3261, 0.0), (3262, 0.0), (3263, 0.005287801834893957), (3264, 0.009945328930015068), (3265, 0.006863813847661796), (3266, 0.0), (3267, 0.00920710376802609), (3268, 0.002644581987242074), (3269, 0.002985174136651899), (3270, 0.0), (3271, 0.0029818762021200152), (3272, 0.0), (3273, 0.0030622992471626225), (3274, 0.0), (3275, 0.0), (3276, 0.0), (3277, 0.0), (3278, 0.0025079004515857527), (3279, 0.017580309282381114), (3280, 0.036259799682546084), (3281, 0.0), (3282, 0.003571264063247645), (3283, 0.0028043548287850473), (3284, 0.0), (3285, 0.02568268632042901), (3286, 0.0), (3287, 0.0), (3288, 0.00650338580146264), (3289, 0.002828152224946084), (3290, 0.002843436537234342), (3291, 0.0036626426519313095), (3292, 0.0035915729433119545), (3293, 0.0), (3294, 0.045994031546445616), (3295, 0.014282622860562894), (3296, 0.0), (3297, 0.010721673264742097), (3298, 0.0026717439466702633), (3299, 0.015973834490793586), (3300, 0.0025984024337036785), (3301, 0.0021701506460582876), (3302, 0.003365990019007565), (3303, 0.007720470516717431), (3304, 0.0025028542852554058), (3305, 0.0), (3306, 0.016018047592083456), (3307, 0.0032037355502131225), (3308, 0.0032625978255215646), (3309, 0.006371745022706204), (3310, 0.0), (3311, 0.002492087429948134), (3312, 0.0), (3313, 0.029021243678743015), (3314, 0.0029198234976070456), (3315, 0.03395715266061982), (3316, 0.0), (3317, 0.012287446298341357), (3318, 0.013539454435170198), (3319, 0.020883214107433986), (3320, 0.0), (3321, 0.0), (3322, 0.0), (3323, 0.0), (3324, 0.0), (3325, 0.013618734816745318), (3326, 0.029167650158002448), (3327, 0.002480208883814521), (3328, 0.03052613716818941), (3329, 0.008625570358124049), (3330, 0.03389810628800231), (3331, 0.006329196189721297), (3332, 0.0), (3333, 0.0), (3334, 0.056080248726413144), (3335, 0.0027898784876608995), (3336, 0.0024775011969518884), (3337, 0.003154271982017964), (3338, 0.004515888388073462), (3339, 0.004174702443731995), (3340, 0.0), (3341, 0.0027681930439445073), (3342, 0.007051620723653767), (3343, 0.0), (3344, 0.027994066521499196), (3345, 0.0), (3346, 0.009374764319506696), (3347, 0.0023173846457827272), (3348, 0.0026702804132876326), (3349, 0.0), (3350, 0.0), (3351, 0.03411294239058089), (3352, 0.020569961366759662), (3353, 0.0), (3354, 0.0034416235408216206), (3355, 0.003172805836914745), (3356, 0.014081914951236866), (3357, 0.0034227590116701983), (3358, 0.0033555249504188278), (3359, 0.0032241456634631445), (3360, 0.05159444991899288), (3361, 0.004583513735355966), (3362, 0.0375075070949413), (3363, 0.0), (3364, 0.0), (3365, 0.001946660446341567), (3366, 0.0), (3367, 0.004849832866200988), (3368, 0.0), (3369, 0.002535595221599485), (3370, 0.014542991782752554), (3371, 0.0), (3372, 0.002892490402271187), (3373, 0.039362970089540955), (3374, 0.04726919510842535), (3375, 0.015206650603503414), (3376, 0.03154872846174889), (3377, 0.0), (3378, 0.0), (3379, 0.002705433690204221), (3380, 0.002454757438749799), (3381, 0.0027245992229067775), (3382, 0.010586583567185942), (3383, 0.0), (3384, 0.02213201116554566), (3385, 0.05859602013003302), (3386, 0.009574095726207033), (3387, 0.012689474074864062), (3388, 0.002898381821328445), (3389, 0.008630716896338122), (3390, 0.0026328454806249517), (3391, 0.0061393852161910475), (3392, 0.001831204786286459), (3393, 0.0023796855202500135), (3394, 0.0), (3395, 0.048544684165190366), (3396, 0.0), (3397, 0.0), (3398, 0.004979838979558423), (3399, 0.008816563748858851), (3400, 0.0), (3401, 0.0), (3402, 0.0026823728686822933), (3403, 0.019631808196260286), (3404, 0.004936980920798216), (3405, 0.00411918272361426), (3406, 0.002915949236780982), (3407, 0.01575384506845658), (3408, 0.04433879649526374), (3409, 0.038691409024840015), (3410, 0.007580253956370237), (3411, 0.0), (3412, 0.00268984700182104), (3413, 0.0033104394023740873), (3414, 0.0030848257292274517), (3415, 0.0), (3416, 0.01884428673687968), (3417, 0.003026342084774076), (3418, 0.00918500004069112), (3419, 0.0031851044586304307), (3420, 0.0), (3421, 0.014873724351791986), (3422, 0.0), (3423, 0.01079526536276192), (3424, 0.0), (3425, 0.0031931486666431645), (3426, 0.010728740890745192), (3427, 0.041155375922537714), (3428, 0.0), (3429, 0.0033032940035375236), (3430, 0.03376008776258796), (3431, 0.0022259219004514496), (3432, 0.004807233117621885), (3433, 0.021887245810638493), (3434, 0.0029330347751619747), (3435, 0.007544833729152457), (3436, 0.007661695737298082), (3437, 0.015629097272069827), (3438, 0.005170795733456601), (3439, 0.0), (3440, 0.005620379976944323), (3441, 0.0027438554454484038), (3442, 0.0), (3443, 0.004772521756195218), (3444, 0.0), (3445, 0.0028313774460279008), (3446, 0.024187085864631825), (3447, 0.027433924161240693), (3448, 0.005881880570222488), (3449, 0.002971667831578499), (3450, 0.06406058115201331), (3451, 0.005188926739918058), (3452, 0.007100843453276739), (3453, 0.008106775468294006), (3454, 0.0), (3455, 0.0025408608943420707), (3456, 0.007853498128610406), (3457, 0.007095376776852606), (3458, 0.006460302289811181), (3459, 0.0), (3460, 0.0069954257701041545), (3461, 0.0), (3462, 0.057230847952852756), (3463, 0.061044145086409346), (3464, 0.007786649444596758), (3465, 0.07503034589056963), (3466, 0.03314398276867012), (3467, 0.0), (3468, 0.0052268666931401244), (3469, 0.020934070215889666), (3470, 0.035198054385717), (3471, 0.020889434382135592), (3472, 0.0), (3473, 0.0), (3474, 0.006926268917696496), (3475, 0.0), (3476, 0.0), (3477, 0.002735270835632588), (3478, 0.0027640376900772553), (3479, 0.0036747262008714567), (3480, 0.06576687217358107), (3481, 0.0), (3482, 0.0), (3483, 0.022895072652628926), (3484, 0.004038739423502502), (3485, 0.0), (3486, 0.037343795048141025), (3487, 0.00729439125751106), (3488, 0.028350506942658015), (3489, 0.0), (3490, 0.0), (3491, 0.0027637283906500154), (3492, 0.021433912905455148), (3493, 0.0028917691603773587), (3494, 0.0), (3495, 0.004320696184763037), (3496, 0.0029611832996702513), (3497, 0.003017624669717774), (3498, 0.037205624312593576), (3499, 0.007469739824209141), (3500, 0.0025625605050609485), (3501, 0.007759767258486998), (3502, 0.0), (3503, 0.0026512665449480548), (3504, 0.0207122206034916), (3505, 0.0), (3506, 0.003185510436078259), (3507, 0.012689359914349429), (3508, 0.020382649957562102), (3509, 0.0057833341118202755), (3510, 0.0), (3511, 0.037468990272984046), (3512, 0.0), (3513, 0.0), (3514, 0.007932154561033543), (3515, 0.0), (3516, 0.00824334621416973), (3517, 0.002847982291349734), (3518, 0.043112776782275444), (3519, 0.0), (3520, 0.00490160975264926), (3521, 0.009381231445289885), (3522, 0.0), (3523, 0.0), (3524, 0.011087762576358936), (3525, 0.0), (3526, 0.002832113788619891), (3527, 0.0), (3528, 0.017213246344033085), (3529, 0.0), (3530, 0.0), (3531, 0.007152788596632326), (3532, 0.0), (3533, 0.0), (3534, 0.004552584707900946), (3535, 0.014437430813686699), (3536, 0.00970879255713322), (3537, 0.003417648142814315), (3538, 0.002203854578617628), (3539, 0.0), (3540, 0.0032215035519051276), (3541, 0.016190439287221445), (3542, 0.002833101158684248), (3543, 0.0), (3544, 0.003338315721545585), (3545, 0.0), (3546, 0.0020652546657582214), (3547, 0.0), (3548, 0.0022559756287594264), (3549, 0.0), (3550, 0.0), (3551, 0.0027922529123482736), (3552, 0.04459306076105401), (3553, 0.0), (3554, 0.0), (3555, 0.00467163283341511), (3556, 0.03467057258327364), (3557, 0.002699537027952227), (3558, 0.014706845595748495), (3559, 0.04280144535845814), (3560, 0.0030902844867839894), (3561, 0.0037269036706491904), (3562, 0.0), (3563, 0.002509765717679006), (3564, 0.0027730711310284804), (3565, 0.002734752972999671), (3566, 0.00627129477340596), (3567, 0.0), (3568, 0.0), (3569, 0.0023719399644622375), (3570, 0.007319758212920399), (3571, 0.007762789919210799), (3572, 0.029412907002525374), (3573, 0.02608523885338793), (3574, 0.027483362682144755), (3575, 0.0022347450421449505), (3576, 0.004906378625594326), (3577, 0.0), (3578, 0.0), (3579, 0.0), (3580, 0.015282487564989235), (3581, 0.0), (3582, 0.011793905362150758), (3583, 0.004711408369381078), (3584, 0.0052063831457247935), (3585, 0.0), (3586, 0.00795467208595282), (3587, 0.0031094107947702804), (3588, 0.0), (3589, 0.0), (3590, 0.002921630639914489), (3591, 0.0), (3592, 0.0), (3593, 0.0030681885322552593), (3594, 0.0), (3595, 0.0), (3596, 0.0093212135858419), (3597, 0.03097108070156359), (3598, 0.005885621523521451), (3599, 0.009802465279331998), (3600, 0.0), (3601, 0.0), (3602, 0.004770144514143183), (3603, 0.0), (3604, 0.005319754834460358), (3605, 0.0282623135193891), (3606, 0.002817095649376591), (3607, 0.0), (3608, 0.001807359510835764), (3609, 0.0), (3610, 0.0), (3611, 0.0031312479759100847), (3612, 0.010118186113845913), (3613, 0.00340278282928388), (3614, 0.002496375197162266), (3615, 0.002612647467593557), (3616, 0.0), (3617, 0.0), (3618, 0.008071465529153462), (3619, 0.004248646308555885), (3620, 0.0033635507123027297), (3621, 0.0032408221680541144), (3622, 0.0), (3623, 0.007855312532210425), (3624, 0.00751743258112276), (3625, 0.0), (3626, 0.002099879328390018), (3627, 0.002562295116314054), (3628, 0.0), (3629, 0.02156483761798913), (3630, 0.013515244784929797), (3631, 0.0), (3632, 0.006767149350875025), (3633, 0.0), (3634, 0.007974616442734873), (3635, 0.0), (3636, 0.002831911615207097), (3637, 0.01313844711522582), (3638, 0.0), (3639, 0.003138685135515828), (3640, 0.016748453062071678), (3641, 0.0026640106033520836), (3642, 0.016221230633027987), (3643, 0.009538186974747703), (3644, 0.0), (3645, 0.007552108997057188), (3646, 0.0026059988062538354), (3647, 0.002723674895063727), (3648, 0.006897006622467879), (3649, 0.0), (3650, 0.0), (3651, 0.0), (3652, 0.0), (3653, 0.0077664604947549586), (3654, 0.002906233578842912), (3655, 0.05060482699787565), (3656, 0.033158297478065805), (3657, 0.00233285863065409), (3658, 0.006189053810227936), (3659, 0.013332426130438783), (3660, 0.01446040242638182), (3661, 0.016272600307021438), (3662, 0.0), (3663, 0.0), (3664, 0.004658207654299572), (3665, 0.02141786358676876), (3666, 0.007882286027881394), (3667, 0.009342804103746008), (3668, 0.0023422849398148995), (3669, 0.0023449983280460084), (3670, 0.015106592978087391), (3671, 0.0), (3672, 0.003909483589580601), (3673, 0.002751428642266886), (3674, 0.010334862513932995), (3675, 0.0), (3676, 0.0), (3677, 0.0030223045091989646), (3678, 0.002931109422999757), (3679, 0.0), (3680, 0.008561812176087537), (3681, 0.0), (3682, 0.0), (3683, 0.0), (3684, 0.026848991720255594), (3685, 0.0), (3686, 0.0), (3687, 0.003427185857237207), (3688, 0.027277008557822075), (3689, 0.009756988358583556), (3690, 0.0), (3691, 0.002630977273689323), (3692, 0.02501987355117421), (3693, 0.0), (3694, 0.016175596184704866), (3695, 0.0), (3696, 0.007346005953610158), (3697, 0.0), (3698, 0.0), (3699, 0.015301713308592852), (3700, 0.0), (3701, 0.028414247811953074), (3702, 0.0), (3703, 0.0), (3704, 0.008226738702905622), (3705, 0.00687856405269182), (3706, 0.0026896029809965376), (3707, 0.0028108894971191163), (3708, 0.0), (3709, 0.0), (3710, 0.0051524939413083864), (3711, 0.025662964704083), (3712, 0.0), (3713, 0.01579419981491382), (3714, 0.0030092003560392576), (3715, 0.0), (3716, 0.0), (3717, 0.0), (3718, 0.0), (3719, 0.0026855134297281914), (3720, 0.030340760771791927), (3721, 0.006356508205835124), (3722, 0.0), (3723, 0.00458368842600352), (3724, 0.0), (3725, 0.002564438721007498), (3726, 0.0), (3727, 0.007531128638250036), (3728, 0.05625684160144769), (3729, 0.0032036447962395225), (3730, 0.0), (3731, 0.03449010507974512), (3732, 0.0), (3733, 0.008988058145754232), (3734, 0.0071833485585300625), (3735, 0.0), (3736, 0.0), (3737, 0.0030623036774203535), (3738, 0.0), (3739, 0.00278536127782568), (3740, 0.0), (3741, 0.014148341525898979), (3742, 0.0025233390490478668), (3743, 0.0), (3744, 0.005900479680331968), (3745, 0.003246288706315697), (3746, 0.024484849431726168), (3747, 0.012155363730794864), (3748, 0.0), (3749, 0.003016477298392602), (3750, 0.012665321239762616), (3751, 0.028059306491052614), (3752, 0.0056576075384397965), (3753, 0.04378676146399743), (3754, 0.0), (3755, 0.002443761199847096), (3756, 0.012237752005697622), (3757, 0.0029763848190209204), (3758, 0.0), (3759, 0.0), (3760, 0.0), (3761, 0.0), (3762, 0.0), (3763, 0.003253132581266811), (3764, 0.0), (3765, 0.0026874386585982956), (3766, 0.0), (3767, 0.029038791933098565), (3768, 0.013172267214639204), (3769, 0.005044809796361566), (3770, 0.002886813375665079), (3771, 0.00822179061948068), (3772, 0.0031349180124007783), (3773, 0.024257633295849883), (3774, 0.005189796547067166), (3775, 0.011356886027382204), (3776, 0.0041633888836050525), (3777, 0.015807014783258477), (3778, 0.022201712555226717), (3779, 0.10140651600220343), (3780, 0.008100120313906506), (3781, 0.002955199717128162), (3782, 0.005172863169423898), (3783, 0.0), (3784, 0.008975999329558518), (3785, 0.0), (3786, 0.0), (3787, 0.005308365415780401), (3788, 0.00453670815802512), (3789, 0.0), (3790, 0.0), (3791, 0.0), (3792, 0.0028104454134264436), (3793, 0.04404829150407372), (3794, 0.011593327908821605), (3795, 0.002456600284738517), (3796, 0.0), (3797, 0.015767755295101778), (3798, 0.0), (3799, 0.0026029653720240366), (3800, 0.0), (3801, 0.02536354540306173), (3802, 0.0), (3803, 0.0), (3804, 0.0), (3805, 0.0), (3806, 0.0041018609502434635), (3807, 0.014926423212153442), (3808, 0.0), (3809, 0.0028303884634535096), (3810, 0.0), (3811, 0.0026085233271698526), (3812, 0.0), (3813, 0.0), (3814, 0.029318734215701615), (3815, 0.004942970822557709), (3816, 0.0), (3817, 0.0), (3818, 0.0), (3819, 0.014151799815350611), (3820, 0.0), (3821, 0.007932816595059811), (3822, 0.010567144791993938), (3823, 0.00452735297359672), (3824, 0.004612271170755515), (3825, 0.006017460282365884), (3826, 0.009033353963524749), (3827, 0.0), (3828, 0.0), (3829, 0.008769973842627444), (3830, 0.0), (3831, 0.0), (3832, 0.0), (3833, 0.00491419798722241), (3834, 0.0), (3835, 0.02444556722970876), (3836, 0.0), (3837, 0.0), (3838, 0.0), (3839, 0.02309715489090604), (3840, 0.0), (3841, 0.006835850071007033), (3842, 0.006725762109385968), (3843, 0.0), (3844, 0.0), (3845, 0.0028808722534787844), (3846, 0.0), (3847, 0.0), (3848, 0.0035020094655000816), (3849, 0.012594804390262235), (3850, 0.031562913274631246), (3851, 0.0), (3852, 0.027416043481284826), (3853, 0.019292849393001913), (3854, 0.06186730782976395), (3855, 0.002341258313453799), (3856, 0.0), (3857, 0.02044765877045214), (3858, 0.0), (3859, 0.0), (3860, 0.01108034882759967), (3861, 0.013848004283775105), (3862, 0.015615136596831398), (3863, 0.002488128589473446), (3864, 0.006297014610416788), (3865, 0.0059315338723530025), (3866, 0.0031860771053106), (3867, 0.04045645690301358), (3868, 0.02396830953784584), (3869, 0.0), (3870, 0.0), (3871, 0.027642848104245017), (3872, 0.02404254871730645), (3873, 0.00295601632087691), (3874, 0.003387636299050955), (3875, 0.018470755833008348), (3876, 0.006988449029793958), (3877, 0.003078917124646297), (3878, 0.003627505259170392), (3879, 0.0), (3880, 0.030008513473583204), (3881, 0.004619530121558357), (3882, 0.0029102858079043253), (3883, 0.0), (3884, 0.0), (3885, 0.0), (3886, 0.004652483466374985), (3887, 0.0), (3888, 0.010032100082698824), (3889, 0.002990839929303825), (3890, 0.002674972680550148), (3891, 0.0), (3892, 0.0), (3893, 0.002983223215740111), (3894, 0.002422570459704158), (3895, 0.016084455333569843), (3896, 0.0), (3897, 0.005066971578441901), (3898, 0.002631392174200687), (3899, 0.00829327702138637), (3900, 0.0026595891445003877), (3901, 0.009154372966294413), (3902, 0.002874850867945425), (3903, 0.010765916099136623), (3904, 0.02674033022454905), (3905, 0.007822355293989136), (3906, 0.0027181509691545473), (3907, 0.005009489466573996), (3908, 0.004915322395918549), (3909, 0.006231771018241444), (3910, 0.006683042633566388), (3911, 0.0033071835144530774), (3912, 0.0), (3913, 0.023103710311784605), (3914, 0.0), (3915, 0.003002152346696955), (3916, 0.02121997578356649), (3917, 0.0026393253086841456), (3918, 0.0), (3919, 0.009848470628051463), (3920, 0.0028603460008998324), (3921, 0.0), (3922, 0.0), (3923, 0.02046783734791578), (3924, 0.011154606942547596), (3925, 0.004107102340870046), (3926, 0.006692311841869442), (3927, 0.02090713425191834), (3928, 0.0023085059924767993), (3929, 0.0), (3930, 0.0), (3931, 0.0), (3932, 0.005089464711958866), (3933, 0.0), (3934, 0.019855497617579917), (3935, 0.0032373084465347353), (3936, 0.0), (3937, 0.0), (3938, 0.005248208986460125), (3939, 0.0), (3940, 0.005478648904163241), (3941, 0.009507206315094921), (3942, 0.0), (3943, 0.0), (3944, 0.0039168379342230985), (3945, 0.0), (3946, 0.06643864000437247), (3947, 0.039727713587844556), (3948, 0.0), (3949, 0.0), (3950, 0.0), (3951, 0.010888858468377342), (3952, 0.0), (3953, 0.002516650412252138), (3954, 0.008887325699742902), (3955, 0.04000393824228565), (3956, 0.009044562922932833), (3957, 0.01180472652665276), (3958, 0.013465682022022002), (3959, 0.02805715617948583), (3960, 0.008612108648613533), (3961, 0.03382739356573544), (3962, 0.0030894918628800306), (3963, 0.024716842944226183), (3964, 0.0), (3965, 0.0), (3966, 0.004518510167540869), (3967, 0.0030496325321461718), (3968, 0.0), (3969, 0.0), (3970, 0.004620263043005674), (3971, 0.0), (3972, 0.0), (3973, 0.0419195105390064), (3974, 0.04576491383767953), (3975, 0.0), (3976, 0.016822618405310248), (3977, 0.0), (3978, 0.021229704677368066), (3979, 0.0), (3980, 0.0), (3981, 0.0), (3982, 0.0), (3983, 0.03385256244089791), (3984, 0.0), (3985, 0.0), (3986, 0.0024774000787089385), (3987, 0.0029512479444583767), (3988, 0.0), (3989, 0.003907513012582061), (3990, 0.0), (3991, 0.0), (3992, 0.011488114440828907), (3993, 0.011278114270095809), (3994, 0.0), (3995, 0.005020218543930396), (3996, 0.0), (3997, 0.005158173914651722), (3998, 0.006428936366689497), (3999, 0.012452706510932575), (4000, 0.01491880390861892), (4001, 0.006679306570033366), (4002, 0.0031941707901134947), (4003, 0.0), (4004, 0.03103432436080679), (4005, 0.03646890250016394), (4006, 0.0), (4007, 0.0), (4008, 0.006918505934487629), (4009, 0.0061554693233482225), (4010, 0.0), (4011, 0.0025868096601619644), (4012, 0.017627842833936744), (4013, 0.008289916370216354), (4014, 0.0), (4015, 0.00227874427491012), (4016, 0.021398483431055555), (4017, 0.0037417675116070163), (4018, 0.0), (4019, 0.003582618998488486), (4020, 0.0027092195125505854), (4021, 0.0), (4022, 0.0), (4023, 0.0), (4024, 0.0), (4025, 0.009790773189317304), (4026, 0.0), (4027, 0.0), (4028, 0.0), (4029, 0.0), (4030, 0.0), (4031, 0.0), (4032, 0.0), (4033, 0.010675672492785043), (4034, 0.0), (4035, 0.028980883467591128), (4036, 0.0027021346711916068), (4037, 0.0), (4038, 0.008112762821216046), (4039, 0.004733389073998871), (4040, 0.0), (4041, 0.0), (4042, 0.0030509554163579903), (4043, 0.0054088234390438465), (4044, 0.0043893446092406), (4045, 0.007783845539526384), (4046, 0.00833152105143565), (4047, 0.0), (4048, 0.0), (4049, 0.0028046979130160075), (4050, 0.022502197781551915), (4051, 0.003073701669991908), (4052, 0.009966300866108325), (4053, 0.023360585568785973), (4054, 0.0029246316976345174), (4055, 0.00602085467592456), (4056, 0.002748880828242515), (4057, 0.005944069300358096), (4058, 0.0), (4059, 0.0025821646644656566), (4060, 0.010061579776644536), (4061, 0.007238899121497485), (4062, 0.0), (4063, 0.0), (4064, 0.0), (4065, 0.0), (4066, 0.0024199896947443567), (4067, 0.0), (4068, 0.015189980936228236), (4069, 0.0026679709233482754), (4070, 0.0), (4071, 0.004574652269436414), (4072, 0.0), (4073, 0.0), (4074, 0.002473261799978762), (4075, 0.0032297999236222414), (4076, 0.005206004423208593), (4077, 0.0073306036655268495), (4078, 0.0), (4079, 0.0028337708234559764), (4080, 0.0024805396599162075), (4081, 0.01853439505911647), (4082, 0.0), (4083, 0.0028880607663179718), (4084, 0.0), (4085, 0.002621110032192393), (4086, 0.0), (4087, 0.0029914636279201627), (4088, 0.020072052801293275), (4089, 0.007911076330823667), (4090, 0.0052063524939922785), (4091, 0.005296110193496367), (4092, 0.0), (4093, 0.00754897691409618), (4094, 0.007865470019564945), (4095, 0.012729009910442096), (4096, 0.03205168712030971), (4097, 0.0), (4098, 0.007818624448645804), (4099, 0.00666308189400269), (4100, 0.0), (4101, 0.0030124336097961447), (4102, 0.003509975980138211), (4103, 0.004878287527524571), (4104, 0.04628293776352127), (4105, 0.008273368865201806), (4106, 0.010302932389701829), (4107, 0.0), (4108, 0.0), (4109, 0.0), (4110, 0.005914402827250364), (4111, 0.002956852212001491), (4112, 0.0), (4113, 0.003064671682464547), (4114, 0.0), (4115, 0.0), (4116, 0.07284724048046141), (4117, 0.003153917727588954), (4118, 0.007936678286510958), (4119, 0.005374909088235689), (4120, 0.0054037600771511115), (4121, 0.01389847647819439), (4122, 0.0), (4123, 0.05357967864743912), (4124, 0.014210897977920255), (4125, 0.0), (4126, 0.0032271273179108714), (4127, 0.0), (4128, 0.022200297243008676), (4129, 0.0026807222923829785), (4130, 0.0030109619347255608), (4131, 0.0), (4132, 0.002965308713757098), (4133, 0.008199745088129474), (4134, 0.015821639528289622), (4135, 0.002791696762439918), (4136, 0.0028728014917848307), (4137, 0.06147089508900808), (4138, 0.00306384282043615), (4139, 0.0026645736446309653), (4140, 0.0030212031852049535), (4141, 0.027494561641141987), (4142, 0.00354121464263252), (4143, 0.0024769214070481495), (4144, 0.0), (4145, 0.003233112179510668), (4146, 0.0), (4147, 0.0033645030470573906), (4148, 0.012177463911431496), (4149, 0.018762905459018583), (4150, 0.0), (4151, 0.00474240043056662), (4152, 0.033997465672168846), (4153, 0.0), (4154, 0.006882264462329398), (4155, 0.0026394798020270152), (4156, 0.01997611044128565), (4157, 0.0), (4158, 0.00989180718043845), (4159, 0.0), (4160, 0.027974101102304815), (4161, 0.002974744651338267), (4162, 0.00558783031285926), (4163, 0.008843797760802321), (4164, 0.011127882960037886), (4165, 0.03580050289329213), (4166, 0.0), (4167, 0.0), (4168, 0.0), (4169, 0.0), (4170, 0.0), (4171, 0.0019542805477169977), (4172, 0.0), (4173, 0.0), (4174, 0.002533209141375747), (4175, 0.029295693834068392), (4176, 0.021439959144677216), (4177, 0.0), (4178, 0.01575369766374124), (4179, 0.0), (4180, 0.0), (4181, 0.0), (4182, 0.0071537002762896915), (4183, 0.002683687592290665), (4184, 0.0074080772237086635), (4185, 0.0), (4186, 0.0), (4187, 0.011514859619339284), (4188, 0.0), (4189, 0.022079972666747674), (4190, 0.0), (4191, 0.0), (4192, 0.009826723486217803), (4193, 0.004403999898347798), (4194, 0.0), (4195, 0.032839338586123284), (4196, 0.007224582831783424), (4197, 0.0028152858630547868), (4198, 0.0), (4199, 0.0), (4200, 0.0022765246200494244), (4201, 0.0), (4202, 0.0), (4203, 0.019463482489367884), (4204, 0.0), (4205, 0.008441501257126501), (4206, 0.002601365294087257), (4207, 0.0), (4208, 0.006038961096580336), (4209, 0.03390727648859996), (4210, 0.006746822771092957), (4211, 0.004745428640784974), (4212, 0.0), (4213, 0.0026239574545699256), (4214, 0.0), (4215, 0.0), (4216, 0.011834978280081544), (4217, 0.006409024746909872), (4218, 0.0), (4219, 0.0), (4220, 0.0024442729279656635), (4221, 0.0), (4222, 0.0), (4223, 0.0), (4224, 0.0), (4225, 0.0), (4226, 0.007247006320173065), (4227, 0.013468027355017185), (4228, 0.002724954400570954), (4229, 0.0), (4230, 0.0), (4231, 0.0), (4232, 0.008820836383496549), (4233, 0.007793974153552105), (4234, 0.0), (4235, 0.011219882255769897), (4236, 0.006169208362517318), (4237, 0.0), (4238, 0.0), (4239, 0.0), (4240, 0.005257189360474233), (4241, 0.0), (4242, 0.0), (4243, 0.0), (4244, 0.017139399580038628), (4245, 0.0029712556077980123), (4246, 0.016530874561978798), (4247, 0.0024297591902301807), (4248, 0.004800911934070785), (4249, 0.007865707085676764), (4250, 0.0), (4251, 0.004956994659244883), (4252, 0.0604688479246087), (4253, 0.0), (4254, 0.0026054205941639466), (4255, 0.014474984874390043), (4256, 0.0), (4257, 0.008874430563356923), (4258, 0.0), (4259, 0.0030660468329359444), (4260, 0.0), (4261, 0.005495140429881987), (4262, 0.002867198479123208), (4263, 0.0), (4264, 0.004760872054321522), (4265, 0.012852844821734603), (4266, 0.002783688104586913), (4267, 0.003162324675638153), (4268, 0.04984889803491264), (4269, 0.002963464465468067), (4270, 0.0), (4271, 0.0), (4272, 0.030026644458860257), (4273, 0.0028303059821090026), (4274, 0.004451379014795891), (4275, 0.005027729606489805), (4276, 0.0), (4277, 0.002530505024091913), (4278, 0.0), (4279, 0.0), (4280, 0.003266360461950393), (4281, 0.023580190566297), (4282, 0.007014786415698087), (4283, 0.026847631133891443), (4284, 0.0074770475184865555), (4285, 0.005699559811001984), (4286, 0.002912614616394623), (4287, 0.0028515627791416273), (4288, 0.02297892492316252), (4289, 0.007870596943217576), (4290, 0.004366499569907902), (4291, 0.0), (4292, 0.00452432155632536), (4293, 0.0), (4294, 0.02551735310751088), (4295, 0.0031409032516413076), (4296, 0.0024168660372464834), (4297, 0.0), (4298, 0.003393298226147158), (4299, 0.0074109198322521675), (4300, 0.0), (4301, 0.0020580009511614356), (4302, 0.0), (4303, 0.006401479371591896), (4304, 0.002476033162752706), (4305, 0.0), (4306, 0.00340979179695715), (4307, 0.0054303348779683284), (4308, 0.003016551678467544), (4309, 0.007437441553530551), (4310, 0.004832098201760794), (4311, 0.00225351568602223), (4312, 0.005209608899488519), (4313, 0.0), (4314, 0.015100376841261537), (4315, 0.0), (4316, 0.0), (4317, 0.0), (4318, 0.002924949031063636), (4319, 0.0), (4320, 0.0027648748582013495), (4321, 0.01756674606267334), (4322, 0.0044502540249738865), (4323, 0.0), (4324, 0.0), (4325, 0.011350270845939741), (4326, 0.002519962912830363), (4327, 0.0), (4328, 0.004534145706053638), (4329, 0.0), (4330, 0.002748309726264573), (4331, 0.00558931539745519), (4332, 0.0), (4333, 0.0030991850767683286), (4334, 0.0028559276956161123), (4335, 0.008406653567580826), (4336, 0.009118378879431567), (4337, 0.012649986141968493), (4338, 0.0), (4339, 0.004435364464578717), (4340, 0.002856099288382478), (4341, 0.0), (4342, 0.0061475775237656485), (4343, 0.002447465119829565), (4344, 0.012220430047798367), (4345, 0.002622473020001524), (4346, 0.0), (4347, 0.0), (4348, 0.0025480455697018457), (4349, 0.018023277247563155), (4350, 0.0024733418590970574), (4351, 0.007122833493096971), (4352, 0.0), (4353, 0.0), (4354, 0.026311344059081074), (4355, 0.00294471694783752), (4356, 0.0025693208595837184), (4357, 0.0029303137617874542), (4358, 0.0), (4359, 0.0025181865368117855), (4360, 0.004879458637662431), (4361, 0.0028762410813130863), (4362, 0.03673461471023449), (4363, 0.0028921031045454418), (4364, 0.0), (4365, 0.004256548452303933), (4366, 0.010978239458820293), (4367, 0.006453547305050903), (4368, 0.00309140481521812), (4369, 0.0031840075585569646), (4370, 0.0), (4371, 0.010109792526988425), (4372, 0.0), (4373, 0.0050323751488045455), (4374, 0.014225719000883676), (4375, 0.09180775885817305), (4376, 0.004977651025467055), (4377, 0.004948927467622285), (4378, 0.07859868424876713), (4379, 0.015543345635524371), (4380, 0.019951624024476547), (4381, 0.002677745738641611), (4382, 0.02071448445577837), (4383, 0.004857681173975478), (4384, 0.005118200262382677), (4385, 0.005807916977725413), (4386, 0.002379551374539834), (4387, 0.014639316263725569), (4388, 0.006821880567391127), (4389, 0.05939094126732839), (4390, 0.0076481841035530365), (4391, 0.002799631483552649), (4392, 0.0051070834421604915), (4393, 0.0), (4394, 0.002728100063486237), (4395, 0.02083818412105228), (4396, 0.03661240421421874), (4397, 0.0030706867758806436), (4398, 0.0593690555132271), (4399, 0.017354776762939186), (4400, 0.0034880059592505754), (4401, 0.0030834685596959166), (4402, 0.029938041936781158), (4403, 0.03893556145022892), (4404, 0.0), (4405, 0.0), (4406, 0.0), (4407, 0.0), (4408, 0.0), (4409, 0.00274989941298808), (4410, 0.0), (4411, 0.002369458574177614), (4412, 0.008850863624557713), (4413, 0.0), (4414, 0.0), (4415, 0.0), (4416, 0.003254469657427257), (4417, 0.0), (4418, 0.003581269178205425), (4419, 0.0028919701561788587), (4420, 0.0029065824884139456), (4421, 0.0), (4422, 0.002844251990743731), (4423, 0.0), (4424, 0.0), (4425, 0.0), (4426, 0.004193201205821231), (4427, 0.0027620872390095442), (4428, 0.002624430501445039), (4429, 0.002401033780972149), (4430, 0.007976892665331144), (4431, 0.00814573130164236), (4432, 0.006675434012784078), (4433, 0.0), (4434, 0.0), (4435, 0.0102050982866678), (4436, 0.020409406997598876), (4437, 0.0), (4438, 0.004645256272423873), (4439, 0.0), (4440, 0.0), (4441, 0.004604742386689486), (4442, 0.009861289832069029), (4443, 0.0), (4444, 0.0), (4445, 0.002075030761907437), (4446, 0.0030202163830109706), (4447, 0.0), (4448, 0.002878715561848333), (4449, 0.0), (4450, 0.027304330499002202), (4451, 0.0), (4452, 0.03706637486829057), (4453, 0.0), (4454, 0.0), (4455, 0.0), (4456, 0.044469299322437914), (4457, 0.0), (4458, 0.0), (4459, 0.006398729193381768), (4460, 0.0), (4461, 0.002643443445881648), (4462, 0.005472732253738235), (4463, 0.0), (4464, 0.006159344377065454), (4465, 0.020088040856423454), (4466, 0.02140669167436514), (4467, 0.0068903846578275835), (4468, 0.004237480515957813), (4469, 0.0), (4470, 0.0078324537312932), (4471, 0.002923277765521474), (4472, 0.002670617358279897), (4473, 0.002404958540835711), (4474, 0.015798239296264605), (4475, 0.013500086878483144), (4476, 0.0023689232804811706), (4477, 0.01182771736208884), (4478, 0.0), (4479, 0.0025402652968349363), (4480, 0.0), (4481, 0.011676058866800437), (4482, 0.015524366972266177), (4483, 0.0), (4484, 0.0036794480408566857), (4485, 0.0), (4486, 0.01455813190931014), (4487, 0.0027191183632125733), (4488, 0.03969676750890038), (4489, 0.002936798204397899), (4490, 0.0), (4491, 0.0), (4492, 0.019999296054047336), (4493, 0.0), (4494, 0.00855249180660812), (4495, 0.002921731039775433), (4496, 0.0), (4497, 0.002897863473869422), (4498, 0.0), (4499, 0.0), (4500, 0.0), (4501, 0.002791638490916061), (4502, 0.0092600778505896), (4503, 0.05120553458820705), (4504, 0.017776401573491137), (4505, 0.0029257014681712884), (4506, 0.0), (4507, 0.0031687492134447144), (4508, 0.0), (4509, 0.0), (4510, 0.012967675379636001), (4511, 0.009331100872160943), (4512, 0.0), (4513, 0.004013021820338348), (4514, 0.0), (4515, 0.0), (4516, 0.0031644459974301715), (4517, 0.007621458775854824), (4518, 0.005881992076699318), (4519, 0.0), (4520, 0.0027467601228338876), (4521, 0.00345105228572244), (4522, 0.0), (4523, 0.00726172494967333), (4524, 0.01371061991557336), (4525, 0.0), (4526, 0.0), (4527, 0.0), (4528, 0.0030087083416746705), (4529, 0.0036745776556514967), (4530, 0.002699216406902618), (4531, 0.016588683627684883), (4532, 0.0), (4533, 0.03312613293531948), (4534, 0.02286749055952582), (4535, 0.003090404513081966), (4536, 0.002642291323256655), (4537, 0.0), (4538, 0.028671512473824635), (4539, 0.0), (4540, 0.0), (4541, 0.0), (4542, 0.0), (4543, 0.011797195135386032), (4544, 0.003448122275451664), (4545, 0.0029805714488764777), (4546, 0.009851419616818416), (4547, 0.0), (4548, 0.02760552019925499), (4549, 0.0), (4550, 0.002672426947060733), (4551, 0.011155149145328076), (4552, 0.005008718211871043), (4553, 0.01068387025556295), (4554, 0.0), (4555, 0.004141548460653618), (4556, 0.0), (4557, 0.007804028328752221), (4558, 0.0), (4559, 0.0), (4560, 0.0), (4561, 0.0), (4562, 0.0), (4563, 0.002826045772532637), (4564, 0.0064125527478440724), (4565, 0.0), (4566, 0.0029087593663085455), (4567, 0.0026336240053650133), (4568, 0.0), (4569, 0.0), (4570, 0.0), (4571, 0.0), (4572, 0.0), (4573, 0.0026903062819973412), (4574, 0.002953190465355744), (4575, 0.0029249550676008693), (4576, 0.013840996589968138), (4577, 0.0), (4578, 0.0), (4579, 0.008220396159315989), (4580, 0.0), (4581, 0.007464436829248897), (4582, 0.004287903529997592), (4583, 0.01584272206848074), (4584, 0.0032324214727316664), (4585, 0.00454319174145233), (4586, 0.005037680130482674), (4587, 0.004609126003797669), (4588, 0.039637942109083196), (4589, 0.0), (4590, 0.030611250685106752), (4591, 0.007092125974965639), (4592, 0.0), (4593, 0.0), (4594, 0.06348609560219), (4595, 0.005230965108665864), (4596, 0.01173727601687839), (4597, 0.0), (4598, 0.0021549150631753563), (4599, 0.0), (4600, 0.0), (4601, 0.008343126910886848), (4602, 0.03213166297081997), (4603, 0.008780227060189421), (4604, 0.002769162801260898), (4605, 0.010468714791089791), (4606, 0.0034966794855893733), (4607, 0.0), (4608, 0.02219178800429145), (4609, 0.0), (4610, 0.01408956582971994), (4611, 0.003657596021347632), (4612, 0.00944311107064956), (4613, 0.0), (4614, 0.09353856878214226), (4615, 0.0), (4616, 0.0025510993836177823), (4617, 0.0), (4618, 0.0), (4619, 0.0), (4620, 0.002518863565404575), (4621, 0.005051744716410808), (4622, 0.0), (4623, 0.012176155211978193), (4624, 0.007985747057557387), (4625, 0.0028535855093800877), (4626, 0.0022424124769224547), (4627, 0.01568347381027626), (4628, 0.0), (4629, 0.00793808631299815), (4630, 0.005438189264187706), (4631, 0.0), (4632, 0.0), (4633, 0.0032401437659729843), (4634, 0.002577494274876277), (4635, 0.0), (4636, 0.0023328907198156257), (4637, 0.0), (4638, 0.0025226693233634796), (4639, 0.00506763650730416), (4640, 0.018458439495996435), (4641, 0.03480370265764305), (4642, 0.0057091013895691455), (4643, 0.0), (4644, 0.0), (4645, 0.029398106002409295), (4646, 0.0), (4647, 0.0), (4648, 0.0), (4649, 0.00865569822039063), (4650, 0.0031772380036963733), (4651, 0.0), (4652, 0.00721455157659471), (4653, 0.0058989962986040825), (4654, 0.0), (4655, 0.0), (4656, 0.0), (4657, 0.002967948810455401), (4658, 0.020832683943926913), (4659, 0.0), (4660, 0.0), (4661, 0.006739933508444703), (4662, 0.0), (4663, 0.03306982123729892), (4664, 0.008931373629426939), (4665, 0.004805410144366982), (4666, 0.0), (4667, 0.0), (4668, 0.02895205830880771), (4669, 0.0162163690572968), (4670, 0.007286417886429242), (4671, 0.0), (4672, 0.0), (4673, 0.014515402477462495), (4674, 0.006113012107788041), (4675, 0.0), (4676, 0.0), (4677, 0.007677393257905884), (4678, 0.004957435396365455), (4679, 0.019642388061599465), (4680, 0.0029551872554150985), (4681, 0.0), (4682, 0.0486738618237639), (4683, 0.0), (4684, 0.028372735739249665), (4685, 0.009257956990393664), (4686, 0.0027541928337886583), (4687, 0.0027078456629580166), (4688, 0.0), (4689, 0.042694283629512185), (4690, 0.0), (4691, 0.006571052605038017), (4692, 0.003419558196800938), (4693, 0.0), (4694, 0.0032488392228413924), (4695, 0.012117000044833034), (4696, 0.003597447939949254), (4697, 0.0), (4698, 0.0), (4699, 0.0), (4700, 0.0), (4701, 0.0), (4702, 0.0), (4703, 0.03354047091347434), (4704, 0.0), (4705, 0.003946458783132941), (4706, 0.003058804455987447), (4707, 0.0), (4708, 0.00480864916041836), (4709, 0.0), (4710, 0.0095908561391154), (4711, 0.0), (4712, 0.0024778182097886952), (4713, 0.0031791174032773316), (4714, 0.0), (4715, 0.007634931610523535), (4716, 0.0), (4717, 0.0), (4718, 0.003104860919594475), (4719, 0.0), (4720, 0.0), (4721, 0.0), (4722, 0.018977278527481656), (4723, 0.0033648574139094212), (4724, 0.0), (4725, 0.0), (4726, 0.005447356493074615), (4727, 0.03193182513826284), (4728, 0.0), (4729, 0.0026561656885944612), (4730, 0.0), (4731, 0.0), (4732, 0.0030000489456315153), (4733, 0.006283516983774008), (4734, 0.002980413270044951), (4735, 0.0), (4736, 0.0), (4737, 0.0), (4738, 0.006627805265597426), (4739, 0.0), (4740, 0.0), (4741, 0.0), (4742, 0.0), (4743, 0.00269254522133478), (4744, 0.0022402529840662238), (4745, 0.0), (4746, 0.005496470061447635), (4747, 0.0), (4748, 0.008183664123975629), (4749, 0.0036884166456270314), (4750, 0.0), (4751, 0.0), (4752, 0.001980047523864412), (4753, 0.0), (4754, 0.0), (4755, 0.0), (4756, 0.0), (4757, 0.007986772162279854), (4758, 0.0), (4759, 0.0)]\n"
          ]
        }
      ]
    },
    {
      "cell_type": "code",
      "source": [
        "len(Recommendation_Score)"
      ],
      "metadata": {
        "colab": {
          "base_uri": "https://localhost:8080/"
        },
        "id": "xrQXE5Bh6olI",
        "outputId": "444c4627-af4f-4b37-bdca-984c673bcd10"
      },
      "execution_count": 101,
      "outputs": [
        {
          "output_type": "execute_result",
          "data": {
            "text/plain": [
              "4760"
            ]
          },
          "metadata": {},
          "execution_count": 101
        }
      ]
    },
    {
      "cell_type": "markdown",
      "source": [
        "# Get All Movies Sort Based on Recommendation Score wrt Favourite Movies"
      ],
      "metadata": {
        "id": "qqQrACdm6yjU"
      }
    },
    {
      "cell_type": "code",
      "source": [
        "# Sorting the movies based on their similarity score\n",
        "\n",
        "Sorted_Similar_Movies = sorted(Recommendation_Score, key = lambda x:x[1], reverse= True)"
      ],
      "metadata": {
        "id": "eiHMfRSR7Aqb"
      },
      "execution_count": 102,
      "outputs": []
    },
    {
      "cell_type": "code",
      "source": [
        "print(Sorted_Similar_Movies)"
      ],
      "metadata": {
        "colab": {
          "base_uri": "https://localhost:8080/"
        },
        "id": "BPBGXhh47dqF",
        "outputId": "51564944-4bb4-449a-d3b2-4ba06410e13e"
      },
      "execution_count": 103,
      "outputs": [
        {
          "output_type": "stream",
          "name": "stdout",
          "text": [
            "[(2692, 1.0000000000000004), (62, 0.10158133178176043), (3779, 0.10140651600220343), (2903, 0.10050343624154569), (4614, 0.09353856878214226), (1647, 0.09323352965886932), (4375, 0.09180775885817305), (45, 0.08903943329333552), (1383, 0.08504634901414149), (1994, 0.0832967066192186), (110, 0.08290009796874631), (628, 0.08284733272337948), (2558, 0.08221613951449769), (1070, 0.07951198015348689), (4378, 0.07859868424876713), (1341, 0.07818103463251502), (3053, 0.0763430570451952), (3465, 0.07503034589056963), (1977, 0.07483013811189289), (4116, 0.07284724048046141), (1982, 0.07245466891388677), (2538, 0.06856777095344913), (3946, 0.06643864000437247), (3480, 0.06576687217358107), (1886, 0.06567846765620922), (3450, 0.06406058115201331), (254, 0.06366127163522586), (4594, 0.06348609560219), (2112, 0.06314475658044473), (590, 0.06287451812976289), (1134, 0.06197725266345296), (3854, 0.06186730782976395), (675, 0.061850546126922645), (84, 0.061734228055857966), (4137, 0.06147089508900808), (3463, 0.061044145086409346), (4252, 0.0604688479246087), (1118, 0.06040177954825578), (282, 0.05946959957427667), (4389, 0.05939094126732839), (4398, 0.0593690555132271), (424, 0.059014483334373785), (3385, 0.05859602013003302), (2318, 0.058525452731984416), (1021, 0.058499861436836324), (2358, 0.05756197385845241), (3462, 0.057230847952852756), (2985, 0.057052238529832405), (3728, 0.05625684160144769), (3334, 0.056080248726413144), (1243, 0.05587729350045116), (1970, 0.05369378311505188), (4123, 0.05357967864743912), (137, 0.05319631760400968), (2026, 0.05271782213279173), (761, 0.05229662269140235), (2944, 0.05199810041686578), (2191, 0.05171442019286508), (3360, 0.05159444991899288), (1030, 0.05124860860361469), (4503, 0.05120553458820705), (292, 0.05111008552574239), (877, 0.05086731907779605), (873, 0.05067307419246922), (1148, 0.05063360383784449), (3655, 0.05060482699787565), (1809, 0.05058862172201081), (479, 0.050060375861757406), (384, 0.04990983031086835), (1102, 0.04985988590629564), (4268, 0.04984889803491264), (2133, 0.049760735945427695), (519, 0.04973297744182354), (213, 0.04953502406769588), (2417, 0.04948942101890467), (3203, 0.049378375039317364), (227, 0.04910138235542345), (2294, 0.04908913074661431), (2214, 0.048901487448907974), (2630, 0.04874390002909929), (4682, 0.0486738618237639), (1878, 0.04859914998299257), (3395, 0.048544684165190366), (2374, 0.0482579901926157), (3010, 0.04815049194801504), (2579, 0.04807994327122574), (2653, 0.04778952114360201), (3374, 0.04726919510842535), (4104, 0.04628293776352127), (1023, 0.04605586377419138), (3294, 0.045994031546445616), (412, 0.045866353344408514), (3974, 0.04576491383767953), (2151, 0.0456381490853542), (3091, 0.04540986290607815), (2530, 0.045250124082167505), (904, 0.045192818232364276), (1257, 0.04517094733387022), (2971, 0.04510423706916972), (67, 0.0450409322234985), (1261, 0.044927470796218144), (1302, 0.044870304066849845), (637, 0.044717444564545426), (3552, 0.04459306076105401), (4456, 0.044469299322437914), (1248, 0.044422482437778334), (3408, 0.04433879649526374), (1292, 0.044121712511447905), (3023, 0.044089878246633574), (3793, 0.04404829150407372), (615, 0.044047050677594624), (161, 0.04397194819288247), (1821, 0.04390256009895048), (3753, 0.04378676146399743), (2745, 0.04375253414980966), (2893, 0.0437078696906295), (328, 0.043671350265930255), (438, 0.04367132972735826), (682, 0.0436490498322407), (2694, 0.043552640132927846), (673, 0.043428148651001745), (408, 0.043345618203471), (1506, 0.043316751748009585), (2012, 0.04323740398544261), (1203, 0.04313954930318686), (3518, 0.043112776782275444), (1358, 0.04287941934702451), (277, 0.04281653383256882), (3559, 0.04280144535845814), (4689, 0.042694283629512185), (1393, 0.04220306091706427), (455, 0.04197518705904189), (3973, 0.0419195105390064), (1871, 0.041899550933005236), (172, 0.041894828687501724), (1850, 0.0417547733279682), (360, 0.04173704624773458), (89, 0.04153728120809847), (1675, 0.04135537637474602), (2321, 0.04130159408509884), (1713, 0.04129691235872472), (2248, 0.04128334716296433), (3427, 0.041155375922537714), (1369, 0.04105845690242585), (3209, 0.04100592424488453), (3249, 0.040928860906526206), (2869, 0.04051868441853584), (3867, 0.04045645690301358), (44, 0.04045350646001636), (1527, 0.04037823624538541), (2846, 0.04029582656338052), (210, 0.0402715538121031), (185, 0.04010795367984882), (2155, 0.04003967806008549), (3955, 0.04000393824228565), (3947, 0.039727713587844556), (4488, 0.03969676750890038), (109, 0.039681683206776716), (4588, 0.039637942109083196), (1320, 0.03963524670325264), (1652, 0.03953546582310379), (108, 0.039460466388951954), (3373, 0.039362970089540955), (126, 0.03903613065255016), (632, 0.03901376057586936), (2859, 0.03895081582743852), (4403, 0.03893556145022892), (3409, 0.038691409024840015), (1024, 0.0384471134594795), (2622, 0.03803180136886028), (788, 0.03774166604219742), (2540, 0.03755222221911151), (3362, 0.0375075070949413), (2187, 0.03747410872132691), (3511, 0.037468990272984046), (1676, 0.03743374946893605), (2308, 0.03742174076277457), (3127, 0.037361260400501806), (3486, 0.037343795048141025), (3498, 0.037205624312593576), (4452, 0.03706637486829057), (911, 0.036773454926004624), (774, 0.03674814564933095), (4362, 0.03673461471023449), (4396, 0.03661240421421874), (2212, 0.0366073035188444), (4005, 0.03646890250016394), (1085, 0.0363867364291103), (2316, 0.036279153644717135), (3280, 0.036259799682546084), (2716, 0.036239124593957034), (2018, 0.03616442288149859), (874, 0.03605723281178658), (1241, 0.0359881143948946), (3045, 0.03595499927397962), (2908, 0.03582431245662253), (4165, 0.03580050289329213), (2375, 0.03566025910310532), (710, 0.03558976471575394), (2868, 0.0355665920945013), (1272, 0.03552730881208715), (2371, 0.035524438080892), (1991, 0.035257485599524754), (694, 0.035241463739859), (3470, 0.035198054385717), (3102, 0.03501916393609132), (818, 0.03498266699731661), (2981, 0.03485075388251631), (4641, 0.03480370265764305), (540, 0.034718848567678484), (3556, 0.03467057258327364), (3731, 0.03449010507974512), (2109, 0.03448350960244191), (1389, 0.034466675956877614), (830, 0.034444944232649315), (1568, 0.034421573168341615), (1702, 0.03421271310534437), (1379, 0.03412572937108059), (3351, 0.03411294239058089), (4152, 0.033997465672168846), (3315, 0.03395715266061982), (4209, 0.03390727648859996), (3330, 0.03389810628800231), (3983, 0.03385256244089791), (3961, 0.03382739356573544), (334, 0.03376486614373882), (3430, 0.03376008776258796), (1770, 0.03375486206243933), (1236, 0.0337180580454971), (2123, 0.03371180643602783), (1311, 0.03359724963090181), (578, 0.03358014289555133), (166, 0.03357251400086358), (2365, 0.03355412622505652), (4703, 0.03354047091347434), (1752, 0.03352405160184198), (721, 0.03349718674516765), (1367, 0.03343074056819687), (1063, 0.0332947185385291), (3656, 0.033158297478065805), (138, 0.033152456962472876), (3466, 0.03314398276867012), (4533, 0.03312613293531948), (4663, 0.03306982123729892), (1464, 0.03293351989752966), (2122, 0.03291523373230083), (3137, 0.03284273021535819), (4195, 0.032839338586123284), (547, 0.032814144715022434), (864, 0.032760367914865786), (1146, 0.032693846379864534), (1195, 0.032552338564693625), (1837, 0.03251676542041123), (387, 0.032429045605337325), (2621, 0.03242699619940772), (2082, 0.032211172089261796), (1885, 0.032160875678544976), (4602, 0.03213166297081997), (462, 0.03212709639355087), (4096, 0.03205168712030971), (1068, 0.031943614001884585), (935, 0.03194246284030404), (4727, 0.03193182513826284), (823, 0.031888656916199104), (2147, 0.03182471261157895), (3850, 0.031562913274631246), (3376, 0.03154872846174889), (2517, 0.03154661049466769), (2100, 0.03154252131117422), (812, 0.031459291024487364), (174, 0.03138817049076804), (65, 0.031268009287784865), (3157, 0.031265866383320275), (1173, 0.03125757107680027), (2023, 0.03120908507724418), (4004, 0.03103432436080679), (2413, 0.031003778972092163), (3597, 0.03097108070156359), (1499, 0.030875148169347867), (2037, 0.03082377315697837), (3146, 0.030802007333122845), (1868, 0.030783923608886533), (1750, 0.03073214116067166), (1043, 0.03070019914758217), (618, 0.030699354517899853), (4590, 0.030611250685106752), (787, 0.030575240294301684), (2782, 0.030540565958330233), (3328, 0.03052613716818941), (179, 0.030493961000753307), (2443, 0.03040924543977799), (250, 0.03039276595473033), (3720, 0.030340760771791927), (530, 0.030338520220720745), (1976, 0.0302618198654109), (1973, 0.030193816022008983), (2614, 0.03013604017153109), (2706, 0.030116080385114305), (4272, 0.030026644458860257), (3880, 0.030008513473583204), (1648, 0.029995520689371075), (2114, 0.0299637360094468), (4402, 0.029938041936781158), (2710, 0.029803581634434608), (2014, 0.029779447270069686), (2887, 0.02977401114958592), (952, 0.02971028175411738), (1795, 0.029698093542659988), (193, 0.0296865454152982), (629, 0.029662368858676572), (1788, 0.02958860906012496), (430, 0.029527884063825477), (2723, 0.029519251229180504), (112, 0.029433890239278296), (241, 0.029426842508766912), (3572, 0.029412907002525374), (766, 0.029401070211637563), (4645, 0.029398106002409295), (3814, 0.029318734215701615), (4175, 0.029295693834068392), (976, 0.029275868131340557), (3326, 0.029167650158002448), (1046, 0.029152881259693043), (2487, 0.029090153997531308), (1398, 0.029042718188777017), (3767, 0.029038791933098565), (3313, 0.029021243678743015), (2198, 0.029003896310104076), (4035, 0.028980883467591128), (465, 0.02895736789947263), (4668, 0.02895205830880771), (2481, 0.028942819017330312), (371, 0.028888127969728533), (1405, 0.02882622345564961), (2221, 0.028765171259162774), (428, 0.028706481682681275), (1482, 0.02868983203633011), (4538, 0.028671512473824635), (670, 0.028664684504046255), (693, 0.02862106036559758), (1990, 0.028615961938487415), (2876, 0.02848377993585582), (2102, 0.028470151598009384), (3701, 0.028414247811953074), (4684, 0.028372735739249665), (1363, 0.02835490889361578), (3488, 0.028350506942658015), (2791, 0.028311107721642127), (176, 0.028284746692607374), (1137, 0.028263584366529933), (3605, 0.0282623135193891), (284, 0.028218425701216424), (1095, 0.028087811556560958), (3751, 0.028059306491052614), (3959, 0.02805715617948583), (593, 0.028029674641066343), (3344, 0.027994066521499196), (4160, 0.027974101102304815), (836, 0.027944797057691564), (1560, 0.027906593612821558), (1845, 0.027820534682349747), (1162, 0.02780803487958656), (2154, 0.027753579831877838), (1500, 0.02771242080383994), (3871, 0.027642848104245017), (3174, 0.02763769062066783), (4548, 0.02760552019925499), (421, 0.027597997210370307), (2343, 0.02755004631151637), (4141, 0.027494561641141987), (3574, 0.027483362682144755), (3447, 0.027433924161240693), (1430, 0.027418977354012115), (3852, 0.027416043481284826), (1314, 0.02740722326926295), (1634, 0.027382821476427677), (240, 0.027347926872724235), (4450, 0.027304330499002202), (3154, 0.02728848429948863), (3688, 0.027277008557822075), (1059, 0.02725183173079), (2802, 0.02707271215204461), (2687, 0.027061646841056924), (3260, 0.02697967627354558), (2276, 0.026959605504464343), (2013, 0.02693190310473808), (903, 0.02687613531251619), (522, 0.026870250531446895), (2920, 0.026860937343781997), (2912, 0.026849462501666733), (3684, 0.026848991720255594), (4283, 0.026847631133891443), (1847, 0.02680209320461557), (3904, 0.02674033022454905), (832, 0.026720286322205442), (3028, 0.02671753767874631), (167, 0.02668583190750205), (1060, 0.026534901239998614), (1205, 0.02645413999272379), (3017, 0.02640181129256997), (2467, 0.026398132404408057), (2762, 0.026391647170882465), (1720, 0.026385298024628183), (852, 0.026382624719090007), (4354, 0.026311344059081074), (3167, 0.026301172658223244), (1721, 0.026245721912025406), (25, 0.026232047724471498), (3156, 0.026138087583846926), (2972, 0.02611349850531492), (459, 0.026096016155610524), (3573, 0.02608523885338793), (124, 0.025788874319067744), (1572, 0.02571584147453502), (967, 0.02570382995404923), (3285, 0.02568268632042901), (381, 0.025679294686753437), (3711, 0.025662964704083), (2094, 0.025648976960160087), (1181, 0.025555261390609804), (2048, 0.025534811614577393), (2011, 0.02552706176570182), (4294, 0.02551735310751088), (3801, 0.02536354540306173), (1749, 0.025360019860582488), (345, 0.025266423630944987), (1999, 0.025220461073827725), (2761, 0.02521783236237894), (269, 0.025193995198172232), (1351, 0.02516657176760164), (1763, 0.02512442775343581), (3692, 0.02501987355117421), (2689, 0.02495645406973139), (1544, 0.024950652995077503), (942, 0.02491921878181662), (657, 0.02488220100870991), (116, 0.02478859254366014), (824, 0.024759929207965548), (3963, 0.024716842944226183), (885, 0.024706893587871235), (2020, 0.024652637991741624), (2408, 0.024648301788113322), (2173, 0.024639613580462513), (2649, 0.024593128860324134), (3746, 0.024484849431726168), (3835, 0.02444556722970876), (1530, 0.024305362222116395), (2713, 0.024294304882927047), (1412, 0.02428445673712508), (3773, 0.024257633295849883), (3446, 0.024187085864631825), (1186, 0.024170605505758395), (1997, 0.02416859027361209), (3872, 0.02404254871730645), (3153, 0.024002543861605153), (1057, 0.023979212228652416), (3868, 0.02396830953784584), (2040, 0.023891759840788587), (1865, 0.023844992332342763), (29, 0.023840587628292925), (175, 0.023748771228459597), (68, 0.023724519431972627), (4281, 0.023580190566297), (2647, 0.023564409571138156), (1585, 0.023554793496910933), (155, 0.02354179363882852), (2950, 0.023475978622780364), (1283, 0.02341842172762641), (1015, 0.023375712175469812), (4053, 0.023360585568785973), (706, 0.02335776019616562), (3095, 0.023244718170589602), (515, 0.023233404656010165), (2699, 0.023216462963992626), (2718, 0.023168610908204233), (15, 0.02312253106343639), (2157, 0.023113285522960592), (1141, 0.023107686888840843), (3913, 0.023103710311784605), (3839, 0.02309715489090604), (2096, 0.023046790467393486), (4288, 0.02297892492316252), (88, 0.02296431669732852), (1935, 0.022903932477382552), (3483, 0.022895072652628926), (4534, 0.02286749055952582), (691, 0.02273639665052693), (613, 0.022733487401713947), (641, 0.022700322562193755), (2210, 0.022696016100603397), (261, 0.022661692463589816), (1996, 0.022506330310444366), (4050, 0.022502197781551915), (398, 0.02248646449407619), (2777, 0.02238672869245064), (917, 0.022375491758339847), (1515, 0.022372218372903048), (672, 0.022356820046244022), (1505, 0.02235346090664856), (1707, 0.022338421735483883), (2668, 0.022266976682755894), (1362, 0.0222559087163138), (3778, 0.022201712555226717), (4128, 0.022200297243008676), (4608, 0.02219178800429145), (1629, 0.022174396727510915), (3384, 0.02213201116554566), (4189, 0.022079972666747674), (2598, 0.021981428897182406), (1492, 0.021981166071123326), (3068, 0.021970556256974527), (1942, 0.021932541824030875), (1757, 0.021912551910088035), (3433, 0.021887245810638493), (442, 0.021864950898365088), (1861, 0.021861457024682247), (1985, 0.021857030314640702), (1033, 0.021744375540601112), (1397, 0.021707460603390034), (257, 0.02168438883305534), (1671, 0.021662310338513478), (1385, 0.02163484123316664), (3629, 0.02156483761798913), (1678, 0.021499673507320266), (1270, 0.021483780579112363), (2174, 0.021467950458688937), (4176, 0.021439959144677216), (3492, 0.021433912905455148), (2822, 0.02143379827043852), (3665, 0.02141786358676876), (4466, 0.02140669167436514), (4016, 0.021398483431055555), (2440, 0.021383952489678452), (2646, 0.02135098843308897), (1132, 0.021270818868007864), (3978, 0.021229704677368066), (3916, 0.02121997578356649), (870, 0.021189135269412726), (3222, 0.021170917624240518), (2055, 0.021133037491134595), (1817, 0.02107800678275892), (1510, 0.021071402612984208), (643, 0.02100833894676451), (1017, 0.020994855728512365), (1471, 0.020993143566580753), (2808, 0.020983390240663265), (1003, 0.02095394661595182), (3469, 0.020934070215889666), (3927, 0.02090713425191834), (3471, 0.020889434382135592), (3319, 0.020883214107433986), (763, 0.020870098726821412), (2301, 0.020841594568247003), (4395, 0.02083818412105228), (4658, 0.020832683943926913), (4382, 0.02071448445577837), (3504, 0.0207122206034916), (3083, 0.020631863402324365), (2501, 0.020582472347018106), (2524, 0.02057427604857244), (3352, 0.020569961366759662), (3254, 0.020510332780404976), (1098, 0.02048126680883906), (3923, 0.02046783734791578), (3857, 0.02044765877045214), (4436, 0.020409406997598876), (3508, 0.020382649957562102), (330, 0.020368089408187157), (2582, 0.020343525061680977), (329, 0.020334704345540994), (2995, 0.020320133851078993), (1838, 0.020268561360375137), (947, 0.020191130066220836), (779, 0.020172062828601883), (1927, 0.020153604576467435), (1657, 0.020142170923964586), (463, 0.02009723242314454), (4465, 0.020088040856423454), (4088, 0.020072052801293275), (4492, 0.019999296054047336), (142, 0.019982458858052013), (4156, 0.01997611044128565), (145, 0.019951870380093863), (4380, 0.019951624024476547), (2841, 0.01988358137968328), (1052, 0.01986000790076476), (669, 0.019859971887523222), (3934, 0.019855497617579917), (383, 0.019853139534921318), (2867, 0.019749695528817716), (1202, 0.019721103891392554), (199, 0.019702844095630043), (566, 0.019680311056725974), (4679, 0.019642388061599465), (3403, 0.019631808196260286), (2469, 0.01958704623528081), (2767, 0.019581319760976233), (2736, 0.019532743696093934), (2362, 0.019478427292865048), (4203, 0.019463482489367884), (2607, 0.019391330474888883), (2645, 0.019324858461564752), (3853, 0.019292849393001913), (1937, 0.019263151008574227), (3097, 0.019250132570748018), (204, 0.01922026828791618), (2760, 0.019193266010051793), (123, 0.01913125327131879), (3111, 0.019130823257987647), (2650, 0.019108170682148026), (46, 0.019076043298111908), (83, 0.01904305816721505), (1386, 0.01902690262322302), (768, 0.019017349364338656), (689, 0.019008217152905), (33, 0.018997909964650467), (553, 0.01898213698704202), (4722, 0.018977278527481656), (1074, 0.01894379146431286), (968, 0.018915226419330494), (3144, 0.018867782560952735), (3416, 0.01884428673687968), (2237, 0.018832461856547113), (3000, 0.018820637442124602), (4149, 0.018762905459018583), (757, 0.018755567660964888), (160, 0.018745991603772046), (2795, 0.018737522113302804), (1443, 0.018728504598970307), (147, 0.018697069394908727), (1872, 0.018663559231868285), (1226, 0.01862680977412043), (858, 0.018619310556574044), (1175, 0.018544840890082702), (4081, 0.01853439505911647), (2513, 0.018502497314729815), (364, 0.018501321951487376), (2070, 0.01849708646274902), (808, 0.01847775843806759), (3875, 0.018470755833008348), (4640, 0.018458439495996435), (222, 0.018403093252642194), (1112, 0.018340377061094367), (342, 0.01828934864663357), (1843, 0.018247979994829515), (1384, 0.018204359952208184), (1129, 0.018166767165089467), (2035, 0.018163617531730902), (61, 0.018159715607564745), (1064, 0.01814789577082613), (1365, 0.018120287285522542), (3085, 0.018056500632694112), (106, 0.018029480500091132), (4349, 0.018023277247563155), (2093, 0.0180088125568171), (144, 0.017941942012341824), (2553, 0.017922764704213758), (2167, 0.01785930062276997), (796, 0.01784335227190527), (1245, 0.017818254231267712), (1274, 0.01778233331602666), (4504, 0.017776401573491137), (2823, 0.017732084224147546), (4012, 0.017627842833936744), (3129, 0.017622153737229095), (3279, 0.017580309282381114), (4321, 0.01756674606267334), (2406, 0.017557889577959652), (173, 0.017548694655447578), (1579, 0.017543725570694335), (916, 0.017515078619475506), (2119, 0.017514861045299604), (2742, 0.01750898751598953), (3036, 0.017500928027237843), (1493, 0.017477553522137073), (937, 0.017473620464047), (1403, 0.01745454600454905), (3019, 0.01743272053242976), (203, 0.017415126923189514), (795, 0.017407633259425417), (794, 0.017398455361873108), (1759, 0.01739182850497307), (1377, 0.017385806898535857), (860, 0.01737551370240649), (2110, 0.017373910037217406), (4399, 0.017354776762939186), (3226, 0.017319043110685828), (1275, 0.01725849142201983), (212, 0.01722396844595876), (3528, 0.017213246344033085), (409, 0.017191392043829478), (279, 0.0171892455638549), (2149, 0.01715965583964054), (677, 0.017149775661756586), (4244, 0.017139399580038628), (3213, 0.017130648379707132), (433, 0.017103271660042416), (876, 0.017099428829572404), (2207, 0.01707991730219839), (2654, 0.0170586175999457), (776, 0.017048454448612978), (1184, 0.017033074179463547), (209, 0.017006589075467784), (638, 0.016977442715670293), (2258, 0.01695363739643618), (3098, 0.01694967294311255), (3043, 0.016939190545314748), (2347, 0.016903471146432203), (1417, 0.016854119949878017), (3012, 0.016827872369611894), (3976, 0.016822618405310248), (1716, 0.0168195390435218), (280, 0.016803759073393286), (218, 0.016782652399249), (533, 0.01677944917057638), (3640, 0.016748453062071678), (701, 0.01672369720390649), (458, 0.016717320014662664), (1609, 0.016681182159651912), (1216, 0.01667675765006381), (551, 0.01665903290626132), (853, 0.016655702461946954), (888, 0.016610954614730254), (2161, 0.016591981772125154), (4531, 0.016588683627684883), (511, 0.016551967873556617), (4246, 0.016530874561978798), (1018, 0.016511692338172686), (2917, 0.016505112392477983), (450, 0.01647217824799853), (1774, 0.01647088371863159), (2996, 0.016452980207619622), (1254, 0.016439402107623357), (48, 0.01642030844537632), (1445, 0.01634503146434235), (896, 0.016337997513691957), (692, 0.016302523332378662), (586, 0.01627851664884563), (3661, 0.016272600307021438), (481, 0.01626885221160878), (1325, 0.0162283553555172), (3642, 0.016221230633027987), (4669, 0.0162163690572968), (3541, 0.016190439287221445), (3086, 0.016182376246966758), (343, 0.016179512281842133), (3694, 0.016175596184704866), (85, 0.016138488367251767), (2254, 0.016085322521078155), (3895, 0.016084455333569843), (21, 0.016027655055186534), (3306, 0.016018047592083456), (1119, 0.016014599983729158), (1045, 0.015992378542193965), (2522, 0.015980236306530782), (1523, 0.015979123434315255), (3299, 0.015973834490793586), (2290, 0.01593237134295315), (622, 0.015882591685081198), (1853, 0.015870086919762806), (1687, 0.01586248703931567), (374, 0.015861454487674266), (4583, 0.01584272206848074), (4134, 0.015821639528289622), (1361, 0.015818355549848763), (867, 0.015816758641187506), (2196, 0.01581304859357107), (3777, 0.015807014783258477), (4474, 0.015798239296264605), (3713, 0.01579419981491382), (287, 0.015779914161624026), (51, 0.015771907581312666), (3797, 0.015767755295101778), (762, 0.015765353154410536), (3407, 0.01575384506845658), (4178, 0.01575369766374124), (40, 0.01574605857390332), (1115, 0.01572725513048353), (296, 0.015722981159725827), (1512, 0.01572058148060848), (429, 0.015718521754100392), (1741, 0.015700898073039937), (4627, 0.01568347381027626), (1906, 0.01566988219114557), (502, 0.015668509605720474), (1224, 0.01564313941729557), (543, 0.015638026619283204), (358, 0.015633118765723587), (3437, 0.015629097272069827), (2885, 0.015616166260289922), (3862, 0.015615136596831398), (879, 0.015606016651129822), (2376, 0.01560345520959193), (1983, 0.015584800535724775), (447, 0.015553356485397938), (4379, 0.015543345635524371), (2027, 0.015538891764541488), (4482, 0.015524366972266177), (584, 0.015498195009271054), (2053, 0.015482835912991297), (620, 0.015473528397565921), (2919, 0.0154552785197326), (1897, 0.015450339370032054), (1290, 0.015447823706020606), (2298, 0.015427079986908567), (2334, 0.015413695324068432), (43, 0.015404919039061606), (929, 0.015404675578026944), (2639, 0.015385116566825738), (652, 0.015336455191084817), (2784, 0.015330408160278239), (437, 0.01531984642997497), (3699, 0.015301713308592852), (1337, 0.015297174616586442), (3580, 0.015282487564989235), (1740, 0.015281667488115089), (1880, 0.01525790313376933), (2939, 0.015217148682720727), (3375, 0.015206650603503414), (4068, 0.015189980936228236), (1779, 0.015177407207448094), (208, 0.015150343455555243), (1335, 0.015129777037841513), (3670, 0.015106592978087391), (3210, 0.01510316748183339), (4314, 0.015100376841261537), (2931, 0.015091993630304078), (1682, 0.015081958323194667), (2284, 0.015076208074933057), (470, 0.015061291272402227), (1232, 0.01502156483775003), (1919, 0.014996607531325073), (986, 0.01497251338159616), (895, 0.014964501720026066), (2695, 0.014961564332715588), (370, 0.014956425977975831), (1192, 0.014930148813680287), (3807, 0.014926423212153442), (1058, 0.014925394233054714), (4000, 0.01491880390861892), (2644, 0.014909409418647986), (842, 0.01490860335022905), (1278, 0.014905138227901247), (1483, 0.014876481573102354), (3421, 0.014873724351791986), (1116, 0.014869328693381659), (482, 0.014866395998588074), (988, 0.014853710503907972), (1252, 0.014844322887217773), (534, 0.014825299287158259), (899, 0.014813182576006823), (1509, 0.014810630481609823), (1114, 0.014791251668267084), (2961, 0.01477837228702441), (2815, 0.014763082481853835), (510, 0.014756214775901874), (1621, 0.014745404112308302), (989, 0.014735034453616992), (2727, 0.014709075494874706), (3558, 0.014706845595748495), (957, 0.0146896108887529), (1895, 0.014689108747022676), (2216, 0.01467379778376449), (934, 0.014665753013468612), (181, 0.014665534926743794), (2988, 0.014646030543377188), (4387, 0.014639316263725569), (406, 0.014595840014711764), (799, 0.014594283457978308), (2910, 0.014584975862283666), (4486, 0.01455813190931014), (1035, 0.014547944236299721), (3370, 0.014542991782752554), (2045, 0.014531149491628636), (1967, 0.01453073254269251), (4673, 0.014515402477462495), (1343, 0.014512840118396078), (676, 0.014510037495646097), (1481, 0.014487536861186118), (4255, 0.014474984874390043), (87, 0.014463558414342253), (3660, 0.01446040242638182), (1152, 0.014451394844821263), (3535, 0.014437430813686699), (251, 0.014415030843479691), (1413, 0.014413422186068583), (2024, 0.01437315716881538), (18, 0.014346778152103105), (1876, 0.01432818132772676), (52, 0.014317735296703882), (1478, 0.014312401851793978), (1331, 0.01428892907424178), (3295, 0.014282622860562894), (252, 0.014269286375679186), (1461, 0.014226476586241946), (4374, 0.014225719000883676), (4124, 0.014210897977920255), (2224, 0.014209727982416183), (3819, 0.014151799815350611), (878, 0.0141508892537529), (3741, 0.014148341525898979), (1815, 0.014131649709462922), (1945, 0.014124386634000924), (753, 0.014116456173104013), (905, 0.014114177452360039), (317, 0.01411007167186409), (4610, 0.01408956582971994), (276, 0.014089320277602103), (1591, 0.014083211666158005), (3356, 0.014081914951236866), (1401, 0.014079258292833834), (236, 0.01406925731426048), (1665, 0.014005941364234366), (231, 0.013994440971470434), (2486, 0.013959419646152384), (1465, 0.01395902266506505), (760, 0.013950234239858448), (1183, 0.013946903653679052), (2632, 0.013930996349985342), (775, 0.01392738453548581), (1107, 0.0139235029739378), (866, 0.01389894414476324), (4121, 0.01389847647819439), (2366, 0.013889345169172833), (2008, 0.013888320749848974), (1986, 0.013865064828472197), (3861, 0.013848004283775105), (4576, 0.013840996589968138), (1667, 0.013817548516970061), (207, 0.013789371502225973), (604, 0.013779004604151409), (1128, 0.013771091618950581), (829, 0.013757740869736825), (496, 0.013721852565481515), (1864, 0.013718763639640945), (2066, 0.013711368293212296), (4524, 0.01371061991557336), (545, 0.013704916944412672), (814, 0.013668221467814502), (1796, 0.013668154762410106), (1360, 0.013660214887934428), (3110, 0.013656761694730117), (2460, 0.013641413432885226), (1237, 0.01362503186505756), (3325, 0.013618734816745318), (2121, 0.013617373772289009), (1680, 0.013613427223812834), (332, 0.013611638673188417), (356, 0.013609458597708925), (2805, 0.013600916972682382), (1255, 0.013546970492660185), (3318, 0.013539454435170198), (1317, 0.013535298450800025), (1595, 0.013532326101847951), (3630, 0.013515244784929797), (4475, 0.013500086878483144), (1000, 0.013470398916485576), (4227, 0.013468027355017185), (3958, 0.013465682022022002), (2177, 0.013451427985642124), (1739, 0.013439561337367071), (875, 0.01342274497686071), (742, 0.013420675414987027), (1681, 0.013410788030905034), (2969, 0.013375540780636033), (70, 0.013375062241823093), (900, 0.013362062102639488), (3659, 0.013332426130438783), (1802, 0.01331453819489716), (963, 0.0133117807946865), (906, 0.013290857161869063), (678, 0.013288398020344195), (2978, 0.01327269276081132), (7, 0.013242255897949855), (3076, 0.013225478974949087), (2617, 0.013206795955583727), (1519, 0.013202350163212678), (1239, 0.013189472805535042), (3768, 0.013172267214639204), (13, 0.01316630862227234), (833, 0.013162155676656916), (125, 0.013157865302875434), (2252, 0.013148086554335971), (3637, 0.01313844711522582), (844, 0.013119855523417961), (75, 0.013089928115667848), (537, 0.013084678825829652), (2963, 0.013062342849031766), (1342, 0.01304762602045575), (653, 0.013025473543378682), (2803, 0.012992467907277028), (2412, 0.012984449198894655), (2874, 0.012982097005150154), (4510, 0.012967675379636001), (733, 0.01295779703714467), (418, 0.012919071683100589), (1436, 0.012916383268581515), (1185, 0.01289317714142079), (407, 0.012892347652057455), (1104, 0.012889042462407376), (654, 0.012885702570869179), (1220, 0.012884066955089259), (1005, 0.012863512712207781), (667, 0.012861644641566694), (2447, 0.012856963539803833), (936, 0.012856679751166182), (4265, 0.012852844821734603), (800, 0.01284718831498478), (2000, 0.012827517114242962), (190, 0.01280835137833271), (3108, 0.012807717472334793), (1293, 0.01278846499320938), (527, 0.012774549480907855), (1934, 0.012774485846969332), (1432, 0.012766752639498499), (201, 0.012750102219127096), (609, 0.0127501003650918), (1047, 0.012742394887354442), (1567, 0.012735792014903768), (732, 0.012729199850287691), (4095, 0.012729009910442096), (928, 0.012727182611405027), (1654, 0.012713840134722416), (2771, 0.012705880008289018), (2780, 0.01269009886334832), (3387, 0.012689474074864062), (3507, 0.012689359914349429), (1949, 0.012689212813560023), (1376, 0.0126665959977602), (3750, 0.012665321239762616), (1009, 0.012662097003461154), (1988, 0.012658170851516798), (4337, 0.012649986141968493), (918, 0.012609495794994232), (1787, 0.01260754109444905), (3849, 0.012594804390262235), (1542, 0.012585919605639106), (635, 0.012573868033944969), (1799, 0.012573481059789605), (664, 0.012550063095401902), (1832, 0.012507724331912426), (2052, 0.012452844619635474), (3999, 0.012452706510932575), (1958, 0.01244398399999089), (2788, 0.012428236971800724), (2602, 0.01242710969700751), (648, 0.012416228825466752), (341, 0.012404557338070504), (149, 0.012392134374660302), (2474, 0.012361435066971654), (684, 0.012337659371480156), (3317, 0.012287446298341357), (1419, 0.012276229737339314), (1194, 0.012261663524734383), (3756, 0.012237752005697622), (560, 0.012237594210132817), (1812, 0.012231790034136871), (931, 0.012230323919595333), (4344, 0.012220430047798367), (2697, 0.012219371827294656), (82, 0.012218798707987496), (1215, 0.01221665494375821), (1455, 0.01221267945476455), (1157, 0.012190776251039431), (1099, 0.012178049777851026), (4148, 0.012177463911431496), (4623, 0.012176155211978193), (3065, 0.012168600564858887), (3747, 0.012155363730794864), (1714, 0.012153655067310767), (452, 0.012149556298023645), (1264, 0.012142757561619342), (1407, 0.012124160343260977), (4695, 0.012117000044833034), (2280, 0.012107327793816217), (130, 0.012102929699104264), (2336, 0.01209829047495422), (2913, 0.01209587975812589), (1303, 0.012081609264608526), (86, 0.012055931156447727), (523, 0.012050609949024672), (1310, 0.012027235090876191), (2925, 0.012026963029785613), (1396, 0.012021735325643127), (1989, 0.01199984029739691), (1406, 0.011974704983306293), (244, 0.011973041464394351), (1053, 0.011964821409441431), (2005, 0.01196195693618553), (313, 0.011944454549018772), (500, 0.011904912566048972), (2306, 0.01188394613335918), (1870, 0.011883317637138622), (72, 0.011874989476703129), (2178, 0.011854700280115408), (825, 0.011850446155971214), (790, 0.011840785403383484), (2057, 0.011839604694141198), (4216, 0.011834978280081544), (809, 0.01183341480121348), (4477, 0.01182771736208884), (3957, 0.01180472652665276), (4543, 0.011797195135386032), (2145, 0.01179511042258149), (3582, 0.011793905362150758), (2555, 0.011783076067273492), (2918, 0.011782441673375579), (3240, 0.011774554666867807), (915, 0.011763063926640317), (1761, 0.011758675218613221), (1266, 0.011756440581303797), (1230, 0.011755031571459719), (4596, 0.01173727601687839), (2421, 0.011689795568710703), (1090, 0.011681719759759438), (2206, 0.011677823673092981), (4481, 0.011676058866800437), (2625, 0.011649009860333808), (1019, 0.011605125231665453), (1630, 0.011600565571759279), (274, 0.011600377735705148), (827, 0.011598199297560464), (3794, 0.011593327908821605), (1249, 0.011545038473916315), (1054, 0.011518382584250657), (2568, 0.011515372366758078), (4187, 0.011514859619339284), (1873, 0.011510120974969458), (3992, 0.011488114440828907), (402, 0.011483584281851204), (1262, 0.01147273458578313), (1655, 0.011459173868033605), (281, 0.011455737266130289), (719, 0.011455316703641555), (1420, 0.011454029216008767), (1992, 0.011440813531567437), (1012, 0.011427982043764752), (2688, 0.011423532873256936), (2480, 0.011372384586427585), (3118, 0.011369242268580673), (683, 0.011361688088896373), (1858, 0.011361429559221526), (3775, 0.011356886027382204), (4325, 0.011350270845939741), (1852, 0.01134469682111449), (322, 0.01134183495473359), (417, 0.011341172422375118), (2429, 0.011333574107938017), (532, 0.011317332682725351), (1551, 0.011314738217879112), (1773, 0.011298074351445784), (304, 0.011281971866010994), (1696, 0.011280423620612968), (695, 0.01127923527141032), (3993, 0.011278114270095809), (1789, 0.011277372983349538), (1923, 0.011225828053152923), (4235, 0.011219882255769897), (801, 0.011210381991126547), (1957, 0.011208178204328696), (949, 0.01120790775398195), (2062, 0.011158680486086146), (4551, 0.011155149145328076), (3924, 0.011154606942547596), (273, 0.011144868505364149), (1754, 0.011144179976211394), (2739, 0.011129179650665599), (4164, 0.011127882960037886), (291, 0.011120638011466363), (1259, 0.011118540139483537), (321, 0.011112817006219817), (2769, 0.011093986679309612), (148, 0.011093742730476912), (3524, 0.011087762576358936), (3860, 0.01108034882759967), (170, 0.011052254219109676), (1061, 0.011027512103631645), (57, 0.01102666738382618), (3094, 0.011021704896798476), (2680, 0.011017753536490048), (2464, 0.011012839979753913), (501, 0.010985621465493721), (266, 0.010985441323321174), (2097, 0.010978356474287507), (4366, 0.010978239458820293), (538, 0.010977386491003195), (555, 0.010968754738426133), (1874, 0.010953992515007937), (271, 0.010922024021325015), (3070, 0.010901931311693166), (3951, 0.010888858468377342), (2403, 0.010887092757721357), (1694, 0.010872616632511597), (47, 0.010862084716629746), (333, 0.010859735681631386), (3099, 0.0108555627047549), (2162, 0.010841232832859895), (485, 0.010835127205071493), (2871, 0.010812983644913886), (792, 0.010802413477958189), (3423, 0.01079526536276192), (1339, 0.010774249947782), (847, 0.010772134109640312), (3903, 0.010765916099136623), (468, 0.010754675462004568), (2992, 0.010753786277325261), (1723, 0.010746560536518991), (483, 0.010734358479354724), (3426, 0.010728740890745192), (1662, 0.010727448961084126), (206, 0.010725060517766904), (3297, 0.010721673264742097), (1234, 0.010707274137881593), (2051, 0.01070470292125332), (3232, 0.010703700588418989), (4553, 0.01068387025556295), (2936, 0.010682743360555611), (4033, 0.010675672492785043), (1348, 0.010635388143482916), (1736, 0.010625775357528573), (270, 0.010588824894162595), (1513, 0.010587609511895238), (3382, 0.010586583567185942), (737, 0.010574068769555156), (99, 0.010572154073505011), (3822, 0.010567144791993938), (2436, 0.010530227529541478), (2740, 0.010529816220626381), (1727, 0.01052464463364706), (2016, 0.01051781366420762), (354, 0.010514878946162003), (2209, 0.010506098196562105), (2546, 0.010502682976482004), (2505, 0.010493432903249403), (542, 0.010489342339098113), (120, 0.010486687220980588), (216, 0.010486375835694796), (4605, 0.010468714791089791), (1658, 0.010462572297652389), (806, 0.010458830907545145), (2126, 0.01042079512825444), (715, 0.01038767826639659), (621, 0.010371520829382953), (1334, 0.01037127890614821), (1781, 0.010369949078048848), (2049, 0.010346224356776648), (1300, 0.010339817456352852), (3674, 0.010334862513932995), (2489, 0.010322972034357746), (327, 0.010308038749569436), (4106, 0.010302932389701829), (1440, 0.010293299681349656), (994, 0.010281712066555555), (544, 0.010279009150341686), (1442, 0.010261177598598344), (2929, 0.010252340348728255), (2915, 0.010240853235279707), (1418, 0.010238135507710485), (1922, 0.010234024630248476), (3155, 0.010223243497068423), (2934, 0.010211227015449999), (4435, 0.0102050982866678), (1092, 0.010195858237566198), (2116, 0.010184697722742267), (5, 0.01014706507600874), (979, 0.010137015740474962), (2074, 0.010132440245795044), (1708, 0.010129855713369423), (3612, 0.010118186113845913), (2250, 0.010116628938926587), (1359, 0.010116121308061297), (4371, 0.010109792526988425), (1712, 0.010099765959502675), (0, 0.010087132344042165), (2964, 0.010079526411702993), (2512, 0.010072045972742196), (2820, 0.01006736022976865), (243, 0.01006688539204636), (1798, 0.010062497779782891), (4060, 0.010061579776644536), (894, 0.010047227233889367), (1438, 0.010046829890011301), (1619, 0.01004490314602515), (3888, 0.010032100082698824), (3218, 0.010025265346381415), (105, 0.010021452060702207), (2565, 0.009995554916881644), (1685, 0.00998574791161011), (1951, 0.009973660659037025), (4052, 0.009966300866108325), (2075, 0.00995328341018251), (3264, 0.009945328930015068), (1338, 0.009933755661368261), (1075, 0.009926541603265818), (435, 0.009911216905576621), (2418, 0.009898425443159685), (2029, 0.009897207047263134), (4158, 0.00989180718043845), (4442, 0.009861289832069029), (4546, 0.009851419616818416), (3919, 0.009848470628051463), (2279, 0.009841498627094391), (2601, 0.009834073972813414), (2545, 0.009832024850000495), (1006, 0.009827260405010139), (4192, 0.009826723486217803), (2640, 0.009825214086627603), (2080, 0.009813970371184963), (3599, 0.009802465279331998), (4025, 0.009790773189317304), (396, 0.009763180610682654), (288, 0.009761395705936374), (3689, 0.009756988358583556), (1124, 0.009747616805315142), (970, 0.009745618846509846), (1048, 0.009742275729316362), (1582, 0.009729286362207662), (1382, 0.009727931576431197), (1475, 0.009723219526603807), (2744, 0.009721007154210006), (3536, 0.00970879255713322), (2197, 0.009702013394535355), (1854, 0.009696602897678278), (472, 0.009695177949552977), (1494, 0.009691584619741797), (1860, 0.009690545648768843), (668, 0.009687205850957975), (3171, 0.009683683989208786), (631, 0.00967829741095631), (2886, 0.009671587009688173), (1279, 0.009658976722789057), (2977, 0.00965824511004079), (2752, 0.00964747642604483), (3215, 0.00964497236171991), (1182, 0.009633943072887598), (78, 0.00963367328637912), (1160, 0.00962756785754829), (1077, 0.009615577868716713), (1688, 0.009614700930452923), (850, 0.009611167213785837), (828, 0.009599692611634698), (1936, 0.009594233283733149), (4710, 0.0095908561391154), (3386, 0.009574095726207033), (434, 0.009565077559284506), (353, 0.009557218633501325), (2798, 0.009555999425139482), (1087, 0.009555429180849565), (3643, 0.009538186974747703), (939, 0.009536303426465229), (2277, 0.009532619429665457), (2789, 0.009528555288460899), (2193, 0.00952807187787678), (3941, 0.009507206315094921), (2948, 0.0094962611528586), (897, 0.009493738331104395), (182, 0.00949216883514993), (2144, 0.009487070977301294), (1620, 0.00948401263346308), (104, 0.009478414745197198), (2228, 0.009451764236071684), (4612, 0.00944311107064956), (697, 0.009434022083325302), (111, 0.009409740183672828), (79, 0.009384335058818753), (3120, 0.009383220595519026), (3521, 0.009381231445289885), (3346, 0.009374764319506696), (558, 0.009367986275278777), (1612, 0.009366259408969794), (346, 0.009365909110210645), (96, 0.009362964512332074), (1900, 0.009358798576624673), (3667, 0.009342804103746008), (4511, 0.009331100872160943), (3596, 0.0093212135858419), (464, 0.009319452434831552), (3237, 0.009297175909915226), (948, 0.00929405126121341), (3123, 0.009275614183599457), (1807, 0.009269702923985466), (4502, 0.0092600778505896), (4685, 0.009257956990393664), (2463, 0.009257616511607938), (2879, 0.009252750031459997), (2459, 0.009248744246632997), (119, 0.00924406333157795), (3046, 0.009241361589053695), (2980, 0.009224968615944157), (446, 0.009217961996947728), (2600, 0.009213968226802694), (3267, 0.00920710376802609), (2087, 0.009201863123929357), (2698, 0.009186777932369041), (3418, 0.00918500004069112), (285, 0.009155760391102809), (3901, 0.009154372966294413), (2103, 0.009153101346414097), (1387, 0.00915252732834584), (1096, 0.009147845296142163), (817, 0.00914733301064231), (1429, 0.009143470621730128), (1948, 0.009123820882055381), (4336, 0.009118378879431567), (651, 0.009112675735460608), (1276, 0.009099729730792252), (19, 0.009092883869679831), (2065, 0.009089709242680858), (782, 0.00907732488044664), (1701, 0.009067570383080991), (1020, 0.009055173956568054), (3956, 0.009044562922932833), (3826, 0.009033353963524749), (3067, 0.009028932204355576), (1446, 0.009028200560637032), (2309, 0.009022463541945417), (2264, 0.00900798703582559), (2143, 0.008996961662811316), (164, 0.008990783976014539), (3733, 0.008988058145754232), (3246, 0.008981973586628045), (2077, 0.008977904230643433), (3784, 0.008975999329558518), (2473, 0.008966426069784766), (3151, 0.008954407190472755), (1776, 0.008944103402017805), (4664, 0.008931373629426939), (962, 0.008929508463514818), (197, 0.008929187309526476), (1710, 0.00890767452328223), (2572, 0.008905046365149489), (966, 0.008904930711256242), (2089, 0.008897052288549194), (1968, 0.008895976961763617), (851, 0.00889233992455903), (3954, 0.008887325699742902), (4257, 0.008874430563356923), (2303, 0.008872178920002947), (2812, 0.008864658928808965), (4412, 0.008850863624557713), (307, 0.008849319758794265), (4163, 0.008843797760802321), (368, 0.008833117862239464), (1206, 0.008826167570907924), (4232, 0.008820836383496549), (1793, 0.008818344023368297), (3399, 0.008816563748858851), (734, 0.008815669684424137), (443, 0.008809635312873262), (4603, 0.008780227060189421), (3829, 0.008769973842627444), (921, 0.008764544383584285), (2427, 0.008754892390843375), (1650, 0.008736625320057268), (461, 0.008731572530429381), (838, 0.008718259063370334), (1924, 0.008703163355608112), (1514, 0.008696918072623646), (1920, 0.00869181001458656), (1875, 0.008675864778650033), (2635, 0.008668607600325475), (1477, 0.00866802449877783), (1308, 0.008660638603882293), (4649, 0.00865569822039063), (3389, 0.008630716896338122), (107, 0.008627735618747785), (3329, 0.008625570358124049), (183, 0.008623012504310319), (1050, 0.00861709496513786), (3960, 0.008612108648613533), (2158, 0.008606642665845241), (1730, 0.008594886298241497), (1971, 0.008589263389227563), (2881, 0.008581464740548965), (1540, 0.008580759162380193), (1538, 0.008565723342418945), (3680, 0.008561812176087537), (4494, 0.00855249180660812), (2076, 0.008543505807319728), (1489, 0.008537489625423408), (3032, 0.008527362732965268), (2265, 0.008520874029784504), (3196, 0.008511539755684938), (2236, 0.008507645822564934), (2285, 0.008497308491574141), (436, 0.008491304150928707), (449, 0.008482668866168911), (1078, 0.008480049334771735), (597, 0.008477767461846124), (729, 0.008474017034471619), (1690, 0.008467787510897443), (1498, 0.008454282732218592), (4205, 0.008441501257126501), (38, 0.008429902055714417), (2428, 0.008421651026617478), (1507, 0.008414502265630112), (4335, 0.008406653567580826), (688, 0.008404720896700928), (1762, 0.008404328925491132), (1960, 0.008402415661424667), (1539, 0.008395628417751592), (705, 0.008344329394972195), (4601, 0.008343126910886848), (2587, 0.00834034379003762), (4046, 0.00833152105143565), (1454, 0.008322743748204277), (3899, 0.00829327702138637), (3, 0.008290077835750736), (4013, 0.008289916370216354), (139, 0.00828843907532113), (2975, 0.008284140961420654), (816, 0.008274586460540728), (4105, 0.008273368865201806), (1866, 0.008273130409396867), (1136, 0.008270139765960784), (350, 0.008268339489449515), (32, 0.008247588093854907), (2304, 0.008247539416663004), (3516, 0.00824334621416973), (1553, 0.008241471734824542), (3704, 0.008226738702905622), (3771, 0.00822179061948068), (4579, 0.008220396159315989), (1260, 0.008211429099122902), (924, 0.008208224568636933), (4133, 0.008199745088129474), (2477, 0.008198827155185962), (728, 0.008189769009907068), (4748, 0.008183664123975629), (1764, 0.008182910149674035), (3096, 0.00817170655301042), (2942, 0.00816828069008449), (991, 0.008158469328688512), (1537, 0.008146044802057224), (4431, 0.00814573130164236), (242, 0.008140915915441242), (1140, 0.008136744773210206), (3112, 0.008131185962037482), (2949, 0.008130095767390589), (385, 0.008129579845845312), (2104, 0.00812108888595078), (3192, 0.00811452702859241), (4038, 0.008112762821216046), (3453, 0.008106775468294006), (3780, 0.008100120313906506), (162, 0.008096843666734015), (493, 0.008084438497412331), (3618, 0.008071465529153462), (445, 0.008070901009058962), (1071, 0.008068174468824707), (2714, 0.008051664855335127), (60, 0.00804973777146975), (1806, 0.00804735366147175), (1833, 0.008046411183754605), (1225, 0.008033512020245444), (930, 0.008024201825706803), (1484, 0.00801818175555569), (1674, 0.00801101251534414), (1400, 0.008005553188945675), (1918, 0.007998567591256528), (1643, 0.007997122719528939), (403, 0.007989679290445566), (4757, 0.007986772162279854), (4624, 0.007985747057557387), (1188, 0.007985724521468132), (1902, 0.007985588094470137), (4430, 0.007976892665331144), (3634, 0.007974616442734873), (716, 0.007973608056915573), (2933, 0.007970098601845079), (2088, 0.007968653518295484), (3586, 0.00795467208595282), (845, 0.007954063918494635), (1743, 0.007947446328196859), (580, 0.007940976603986832), (4629, 0.00793808631299815), (1312, 0.007937900202949844), (4118, 0.007936678286510958), (3821, 0.007932816595059811), (3514, 0.007932154561033543), (660, 0.00793041932361379), (255, 0.007927907618620764), (34, 0.007924038491209583), (1790, 0.007919903972765761), (4089, 0.007911076330823667), (1229, 0.007910885315668057), (1705, 0.007905788758667289), (2211, 0.007905776754393495), (1083, 0.007905132650629844), (1282, 0.007892271691501378), (2603, 0.007890428210602247), (3666, 0.007882286027881394), (180, 0.0078745171732351), (4289, 0.007870596943217576), (4249, 0.007865707085676764), (4094, 0.007865470019564945), (3623, 0.007855312532210425), (606, 0.007854402639708694), (3456, 0.007853498128610406), (980, 0.007853101919169938), (10, 0.007850633839087457), (3233, 0.007836421753284936), (4470, 0.0078324537312932), (616, 0.007823656022791918), (3905, 0.007822355293989136), (743, 0.007820554665795856), (4098, 0.007818624448645804), (1571, 0.007810593746410945), (509, 0.007804844374042516), (4557, 0.007804028328752221), (441, 0.007801436289680691), (4233, 0.007793974153552105), (3259, 0.007787932218007255), (3464, 0.007786649444596758), (2563, 0.007785339816447582), (4045, 0.007783845539526384), (1174, 0.007779980963064244), (582, 0.007772242467063639), (3653, 0.0077664604947549586), (474, 0.00776467785984848), (3571, 0.007762789919210799), (2844, 0.007761138784081268), (3501, 0.007759767258486998), (750, 0.007759066792981113), (224, 0.007757438456223099), (1931, 0.007755222092318303), (143, 0.0077520772186060165), (843, 0.00774637115682724), (238, 0.0077461642099955425), (1950, 0.00772459723306009), (3303, 0.007720470516717431), (2091, 0.007711078344968815), (1014, 0.007709006667072844), (2061, 0.007707871910786751), (1138, 0.007701030292453288), (1472, 0.007698458735043941), (636, 0.0076799600985567335), (4677, 0.007677393257905884), (156, 0.007673783177005005), (113, 0.00766735980689566), (1536, 0.007665387932201401), (3436, 0.007661695737298082), (4390, 0.0076481841035530365), (2606, 0.007647248589174626), (1223, 0.007642931974173941), (1037, 0.0076410101510060585), (696, 0.0076390323467775655), (4715, 0.007634931610523535), (1191, 0.00763307686772257), (2344, 0.007626731692104885), (3125, 0.007624549083129924), (4517, 0.007621458775854824), (2519, 0.007605620974818409), (1179, 0.007593844371437591), (1735, 0.007592553500418897), (256, 0.007583811128910849), (3410, 0.007580253956370237), (1488, 0.00757221811815104), (2510, 0.007569612248535807), (2339, 0.007567938551230155), (869, 0.007567147939748945), (3645, 0.007552108997057188), (4093, 0.00754897691409618), (42, 0.007545458809863838), (3435, 0.007544833729152457), (3039, 0.0075370793866399765), (1811, 0.007534488340724595), (3727, 0.007531128638250036), (3624, 0.00751743258112276), (1144, 0.007517269268056722), (769, 0.007506708481549967), (309, 0.007504917318446587), (63, 0.007504403693738206), (3195, 0.007498196782153719), (2069, 0.0074803707142015), (4284, 0.0074770475184865555), (727, 0.007471986285596205), (908, 0.007470928699869675), (3499, 0.007469739824209141), (3245, 0.0074658623262589575), (4581, 0.007464436829248897), (880, 0.00746436633294251), (3008, 0.007446848697431594), (4309, 0.007437441553530551), (1069, 0.007434021896137131), (2994, 0.007428970712638524), (1653, 0.007421034022000825), (2843, 0.007417217623450603), (4299, 0.0074109198322521675), (494, 0.007408517283901816), (4184, 0.0074080772237086635), (1388, 0.0074080090646987465), (3152, 0.0073722585651200614), (1747, 0.007353226138038932), (3696, 0.007346005953610158), (2244, 0.007345418455515842), (1044, 0.007337427285873224), (1421, 0.00733382998979973), (4077, 0.0073306036655268495), (3570, 0.007319758212920399), (159, 0.007314214409568587), (1486, 0.007314042455399766), (923, 0.0073092533929199665), (81, 0.007302146865475268), (50, 0.007296511928960429), (3487, 0.00729439125751106), (2101, 0.00729392986798842), (1583, 0.00729288403628389), (1504, 0.007291482946648027), (4670, 0.007286417886429242), (363, 0.007276980719894364), (2825, 0.007275295966308395), (3122, 0.007266770305113286), (4523, 0.00726172494967333), (1001, 0.007254237429029005), (4226, 0.007247006320173065), (4061, 0.007238899121497485), (1123, 0.007238042083443828), (4196, 0.007224582831783424), (539, 0.007223585467966223), (4652, 0.00721455157659471), (644, 0.007212500442711259), (1375, 0.007212195321793097), (1330, 0.00720919985645729), (503, 0.00720407705483741), (232, 0.007187620146711303), (3734, 0.0071833485585300625), (1177, 0.007169534600713481), (2899, 0.0071594621642623625), (1041, 0.007156455220696643), (340, 0.007155195400972995), (217, 0.007154986157439472), (4182, 0.0071537002762896915), (3531, 0.007152788596632326), (2348, 0.007136986024626126), (4351, 0.007122833493096971), (413, 0.007115746994618255), (2496, 0.007115227653190752), (2324, 0.00711418532904262), (31, 0.007113944626459621), (1076, 0.007109993029251489), (3452, 0.007100843453276739), (3149, 0.007097877074618769), (3457, 0.007095376776852606), (1231, 0.007094816525384639), (4591, 0.007092125974965639), (1737, 0.007091472363229643), (1125, 0.0070902363527489696), (1433, 0.007081356513083471), (1819, 0.007068837729138681), (748, 0.007068629332536674), (1555, 0.0070553180586430085), (868, 0.007053493627030017), (3342, 0.007051620723653767), (367, 0.00705048390339139), (301, 0.007043927618729738), (1448, 0.0070400860764352965), (744, 0.007035683796999084), (2897, 0.007020389587769856), (2962, 0.007019883937634454), (1760, 0.007019457853093854), (4282, 0.007014786415698087), (3460, 0.0069954257701041545), (1462, 0.006992722324756303), (1738, 0.006990826137823842), (3876, 0.006988449029793958), (1718, 0.006972149239857166), (1065, 0.006968453450803757), (600, 0.0069612954414828895), (422, 0.006951356597668803), (752, 0.006948874007192637), (910, 0.006945143890651286), (386, 0.006945042992692379), (311, 0.0069442499899749965), (1892, 0.0069419184896407984), (1841, 0.006935340053182892), (2184, 0.006934816463463054), (2691, 0.006929322032009774), (3474, 0.006926268917696496), (863, 0.00692579324943615), (4008, 0.006918505934487629), (3648, 0.006897006622467879), (1911, 0.0068968391476093675), (4467, 0.0068903846578275835), (4154, 0.006882264462329398), (2726, 0.006879907521652031), (3705, 0.00687856405269182), (283, 0.006876450109464031), (2031, 0.006874012634452111), (1306, 0.006873479842935067), (2816, 0.006867892220643955), (1964, 0.006866439935720801), (608, 0.006863981968773909), (3265, 0.006863813847661796), (671, 0.00686247127522757), (563, 0.006847915566399526), (581, 0.006842157116191395), (981, 0.006840052182733964), (778, 0.006836858843800097), (3841, 0.006835850071007033), (804, 0.006834410062095743), (4388, 0.006821880567391127), (745, 0.006818842496652407), (1111, 0.006806817565352396), (1250, 0.006806602174529272), (122, 0.006801110887275936), (2732, 0.0067942663161696315), (1987, 0.006788961142070809), (2708, 0.006785138687368887), (56, 0.006783475291421535), (1414, 0.006776699555696401), (2580, 0.006773234032737227), (3632, 0.006767149350875025), (1425, 0.006764390829200522), (131, 0.00676087219420788), (2724, 0.0067596162027764245), (4210, 0.006746822771092957), (4661, 0.006739933508444703), (200, 0.0067329250166381265), (2388, 0.0067327372405812675), (3842, 0.006725762109385968), (1608, 0.006724055424402808), (2335, 0.006711720217459138), (2424, 0.006693752136509873), (3926, 0.006692311841869442), (1908, 0.006690956959722446), (3910, 0.006683042633566388), (1374, 0.006681713879456534), (4001, 0.006679306570033366), (4432, 0.006675434012784078), (758, 0.0066639791301340715), (4099, 0.00666308189400269), (1172, 0.006659547835495022), (1644, 0.006657492709451102), (3033, 0.006656143536802671), (1816, 0.006651963451261682), (1501, 0.006650977016138335), (4738, 0.006627805265597426), (22, 0.006625269602348767), (1345, 0.006614672276095963), (834, 0.006612147750310869), (1692, 0.006601821476278628), (940, 0.006601491007745489), (2503, 0.0066002850581889745), (1238, 0.006588397134882863), (497, 0.006581237627797989), (2833, 0.006575204748373996), (1867, 0.006574576577299135), (1329, 0.006571886606967416), (4691, 0.006571052605038017), (642, 0.006561229868505256), (1849, 0.006560288156462044), (861, 0.006554781640336502), (1913, 0.006553707535898248), (3066, 0.0065205372277794965), (1094, 0.006509613094926111), (230, 0.006509461041500531), (3288, 0.00650338580146264), (1627, 0.006488147052508051), (2239, 0.00647691585329434), (1797, 0.0064635546992486345), (3458, 0.006460302289811181), (1213, 0.006456087092262721), (4367, 0.006453547305050903), (2095, 0.006444970675628733), (1267, 0.00643714588386545), (1356, 0.006434127370758293), (3998, 0.006428936366689497), (617, 0.006425490468483321), (862, 0.0064194973173183865), (4564, 0.0064125527478440724), (1939, 0.00641132368209221), (4217, 0.006409024746909872), (2056, 0.006404883576892889), (4303, 0.006401479371591896), (4459, 0.006398729193381768), (3309, 0.006371745022706204), (1526, 0.006367324440608517), (521, 0.006358460383118997), (3721, 0.006356508205835124), (1552, 0.0063526869851513925), (300, 0.006351312242996534), (2355, 0.006346493319508277), (1327, 0.006344245310884328), (16, 0.006343329529499691), (3331, 0.006329196189721297), (1664, 0.00631728104918641), (835, 0.006310800507203412), (1818, 0.006310429435070252), (3864, 0.006297014610416788), (4733, 0.006283516983774008), (2160, 0.0062824369362732444), (2202, 0.0062785545528698935), (3566, 0.00627129477340596), (263, 0.006269078074144886), (1307, 0.0062630487244375865), (3909, 0.006231771018241444), (1903, 0.006221974845400621), (2205, 0.006216928842245869), (1746, 0.006194324155163013), (3658, 0.006189053810227936), (1214, 0.006185322825435325), (568, 0.006182751284249887), (248, 0.0061698336190445765), (4236, 0.006169208362517318), (1981, 0.006165624019014741), (9, 0.006160381920151779), (4464, 0.006159344377065454), (4009, 0.0061554693233482225), (2175, 0.006151960650445039), (4342, 0.0061475775237656485), (35, 0.006141285442949357), (3391, 0.0061393852161910475), (3114, 0.006137421049209927), (4674, 0.006113012107788041), (3244, 0.006109318059894364), (821, 0.006093142645932181), (953, 0.006068604685969576), (958, 0.006054181945356754), (2203, 0.00605239389377683), (4208, 0.006038961096580336), (583, 0.006035923480194199), (4055, 0.00602085467592456), (3825, 0.006017460282365884), (2058, 0.0060065828720711895), (1715, 0.0059808212492592425), (1316, 0.005967671769531698), (1344, 0.005951871157819988), (4057, 0.005944069300358096), (2156, 0.005936385462682251), (2426, 0.005934457464970363), (3865, 0.0059315338723530025), (2185, 0.005924207835769812), (4110, 0.005914402827250364), (2935, 0.0059089453739194905), (3744, 0.005900479680331968), (4653, 0.0058989962986040825), (3598, 0.005885621523521451), (4518, 0.005881992076699318), (3448, 0.005881880570222488), (571, 0.005858528569936967), (1684, 0.005822722219003281), (4385, 0.005807916977725413), (2809, 0.0058052524726302165), (3509, 0.0057833341118202755), (1941, 0.005776728011437209), (562, 0.005764729669013417), (512, 0.005748782386886853), (2567, 0.005747784234481832), (1863, 0.005746558764094322), (4642, 0.0057091013895691455), (2291, 0.005703573910945155), (4285, 0.005699559811001984), (177, 0.005690760277918361), (2098, 0.005662302107165734), (3752, 0.0056576075384397965), (369, 0.005649138688304442), (3164, 0.005633706584275567), (3440, 0.005620379976944323), (1940, 0.0056144637691277555), (3022, 0.005606509944444529), (4331, 0.00558931539745519), (4162, 0.00558783031285926), (1381, 0.0055556341740994174), (380, 0.005548452563800972), (3117, 0.005539055080918767), (855, 0.00552352271633625), (2181, 0.005503269556844234), (4746, 0.005496470061447635), (2576, 0.005495580401688191), (4261, 0.005495140429881987), (425, 0.005487268395675092), (2439, 0.005481058830912511), (3940, 0.005478648904163241), (4462, 0.005472732253738235), (2665, 0.0054618660485515605), (666, 0.00545914546223107), (3168, 0.005454139688121377), (4726, 0.005447356493074615), (4630, 0.005438189264187706), (4307, 0.0054303348779683284), (1158, 0.0054230286998653175), (3158, 0.005419883845830586), (2683, 0.0054183800728120355), (1391, 0.005411120084045419), (4043, 0.0054088234390438465), (4120, 0.0054037600771511115), (1962, 0.005397321675788781), (3180, 0.005393910889687121), (1332, 0.005389350587294953), (1695, 0.005387271282936141), (128, 0.0053830094499727615), (831, 0.005382495143959056), (4119, 0.005374909088235689), (2231, 0.005365977314415359), (1453, 0.0053638083329052965), (2733, 0.0053490712807438955), (550, 0.005348193029427358), (2314, 0.005334663239267361), (2774, 0.005331286501805067), (595, 0.0053308548419026295), (1554, 0.0053240753472639365), (477, 0.005321032679834105), (3604, 0.005319754834460358), (3787, 0.005308365415780401), (2626, 0.005302011927631015), (802, 0.005300655227364511), (4091, 0.005296110193496367), (1167, 0.005292821559040374), (3263, 0.005287801834893957), (102, 0.0052865061745618796), (3163, 0.005285655833650377), (513, 0.0052749075693205045), (1829, 0.005270652350009178), (514, 0.005266777042087658), (2022, 0.005264147443263772), (4240, 0.005257189360474233), (303, 0.005255745676869849), (3938, 0.005248208986460125), (2136, 0.005241176546363607), (2599, 0.005241048246678542), (2084, 0.005236229507788698), (168, 0.005233391763381909), (4595, 0.005230965108665864), (1661, 0.005228774116176839), (3468, 0.0052268666931401244), (2113, 0.005221099645899987), (1724, 0.005220929663515741), (420, 0.005215969090280307), (1150, 0.005215372865303631), (6, 0.0052132687569235335), (4312, 0.005209608899488519), (1952, 0.005208004942477592), (3584, 0.0052063831457247935), (4090, 0.0052063524939922785), (4076, 0.005206004423208593), (3774, 0.005189796547067166), (3451, 0.005188926739918058), (1614, 0.005179719991201974), (3782, 0.005172863169423898), (3438, 0.005170795733456601), (1575, 0.005165753870050241), (1791, 0.0051637058424180825), (3997, 0.005158173914651722), (1732, 0.005154147272881073), (3131, 0.005153131675910608), (3710, 0.0051524939413083864), (992, 0.005148729430517887), (2283, 0.005145696842965102), (1280, 0.005141147998632803), (1426, 0.0051372915520715035), (1659, 0.00513560175624114), (2819, 0.005135580472687651), (2044, 0.005130005426999521), (239, 0.005128044916872994), (2330, 0.005125247979522847), (1452, 0.005124609210871479), (220, 0.005124382721252765), (765, 0.005119830734398912), (2208, 0.005118334804920754), (4384, 0.005118200262382677), (1904, 0.005117151839515489), (1449, 0.005116148196865281), (1380, 0.005116105737667582), (1502, 0.005113194037105735), (1859, 0.005110663135168436), (4392, 0.0051070834421604915), (2959, 0.005106831604809352), (1975, 0.005104217059851171), (1531, 0.00510196662289471), (2790, 0.005098766229167508), (891, 0.005089935096056695), (3932, 0.005089464711958866), (320, 0.0050842787471168036), (2015, 0.005072476058377617), (4639, 0.00506763650730416), (3134, 0.005067199087645616), (3897, 0.005066971578441901), (1588, 0.005064061985627451), (1881, 0.005058495610578616), (4621, 0.005051744716410808), (3769, 0.005044809796361566), (27, 0.005043133107772585), (4586, 0.005037680130482674), (4373, 0.0050323751488045455), (793, 0.0050319012888117454), (4275, 0.005027729606489805), (3124, 0.0050258804491547585), (3995, 0.005020218543930396), (1469, 0.005018902460347289), (414, 0.0050097103390135955), (3907, 0.005009489466573996), (4552, 0.005008718211871043), (189, 0.005004003156675426), (685, 0.004986633311832662), (3191, 0.004982260979927163), (2947, 0.0049822222378368315), (902, 0.004981380128690029), (3398, 0.004979838979558423), (3179, 0.004979786870581537), (95, 0.004979608897390351), (4376, 0.004977651025467055), (1431, 0.004959450702875091), (4678, 0.004957435396365455), (4251, 0.004956994659244883), (3205, 0.004951848604368498), (1901, 0.004949488308159406), (4377, 0.004948927467622285), (3815, 0.004942970822557709), (3404, 0.004936980920798216), (118, 0.0049349828849512166), (1435, 0.004931471552279845), (2278, 0.004919941929608772), (919, 0.004917620367472565), (561, 0.0049171727351000815), (1587, 0.004917167120298843), (3908, 0.004915322395918549), (3833, 0.00491419798722241), (1998, 0.0049130196557322856), (2991, 0.004911810472291376), (2064, 0.004908677906560368), (3576, 0.004906378625594326), (2960, 0.004905178913151782), (3520, 0.00490160975264926), (3005, 0.004892682786624713), (2130, 0.004892176923158305), (1930, 0.004891708019382176), (811, 0.004890738206531731), (30, 0.004883529180899186), (4360, 0.004879458637662431), (2506, 0.004879238794049105), (4103, 0.004878287527524571), (347, 0.004872530247863757), (39, 0.004867245825630228), (315, 0.004860831618471327), (451, 0.004859504703710123), (4383, 0.004857681173975478), (3367, 0.004849832866200988), (135, 0.004847856176827921), (1566, 0.004847689531205712), (2246, 0.004839291969476006), (4310, 0.004832098201760794), (849, 0.004829865965473739), (619, 0.004825601757635336), (305, 0.004824735550691243), (4708, 0.00480864916041836), (3432, 0.004807233117621885), (460, 0.0048067764977695005), (4665, 0.004805410144366982), (4248, 0.004800911934070785), (389, 0.004796706294176555), (233, 0.004789221981869431), (336, 0.004786734742080243), (1573, 0.00478472873518108), (467, 0.004783733283224804), (2847, 0.004782015793503778), (375, 0.004778493609685651), (3161, 0.004778307845598376), (3443, 0.004772521756195218), (1857, 0.004771471162720244), (3602, 0.004770144514143183), (1127, 0.004767052831480243), (927, 0.004766135844967121), (634, 0.004763863621913894), (1082, 0.004761227044255662), (4264, 0.004760872054321522), (1635, 0.004754836009601659), (1622, 0.004750731225288588), (633, 0.004746454194581218), (4211, 0.004745428640784974), (4151, 0.00474240043056662), (90, 0.004741385199628177), (2232, 0.004741058060899763), (4039, 0.004733389073998871), (1846, 0.004725137019557431), (1953, 0.00471736831078952), (3583, 0.004711408369381078), (1933, 0.004702696675075295), (152, 0.004698884761987365), (3011, 0.004680167582937479), (1347, 0.004674278795154748), (3555, 0.00467163283341511), (2245, 0.004660965291288329), (310, 0.004658505718177728), (3664, 0.004658207654299572), (3886, 0.004652483466374985), (4438, 0.004645256272423873), (93, 0.004643735958853049), (2432, 0.004642626597737859), (3126, 0.0046356509024849425), (1993, 0.004635560279160784), (1632, 0.004631220234462027), (1633, 0.004624222649108322), (1207, 0.004622273290069933), (2787, 0.004620474953158526), (3970, 0.004620263043005674), (3881, 0.004619530121558357), (3824, 0.004612271170755515), (4587, 0.004609126003797669), (4441, 0.004604742386689486), (2711, 0.0046020644485362935), (260, 0.004596854951970303), (1211, 0.0045917437570766875), (1631, 0.004583697386794636), (3723, 0.00458368842600352), (3361, 0.004583513735355966), (1428, 0.0045771214330418255), (4071, 0.004574652269436414), (2139, 0.004561522985661309), (3133, 0.004557865460058029), (3135, 0.004552716220716482), (3534, 0.004552584707900946), (974, 0.004551546987452954), (1914, 0.0045483265957300635), (1451, 0.004545547423770977), (661, 0.0045436821922024105), (4585, 0.00454319174145233), (426, 0.004541049823579054), (3788, 0.00453670815802512), (4328, 0.004534145706053638), (2682, 0.0045287481296224065), (3100, 0.004528114993173348), (3823, 0.00452735297359672), (3136, 0.004525324142297827), (4292, 0.00452432155632536), (810, 0.0045212378917724085), (3966, 0.004518510167540869), (690, 0.004517114426605903), (3338, 0.004515888388073462), (3143, 0.004500435552137901), (2442, 0.004499417697668869), (1480, 0.004499411792256372), (1562, 0.004494764623721173), (1623, 0.004485967497444379), (2678, 0.004479742134209157), (3079, 0.004479644449092762), (316, 0.004468224794409339), (306, 0.004465124692576342), (94, 0.004452934981227728), (4274, 0.004451379014795891), (4322, 0.0044502540249738865), (1197, 0.004449114289473052), (2984, 0.004446387531788765), (611, 0.004441429534586998), (4339, 0.004435364464578717), (80, 0.0044339545975680215), (397, 0.004422793671152111), (1281, 0.004419468596160392), (1840, 0.004409417224356914), (4193, 0.004403999898347798), (4044, 0.0043893446092406), (1784, 0.004387971967094292), (3247, 0.0043859630194881686), (898, 0.00437712537460703), (4290, 0.004366499569907902), (893, 0.004360603583204098), (2660, 0.004354924611347578), (997, 0.0043514482287036445), (323, 0.004337175031381901), (559, 0.004327194555917913), (803, 0.004320984308006671), (3495, 0.004320696184763037), (191, 0.00431856075763416), (932, 0.00431223951303464), (1154, 0.0043070466342437245), (4582, 0.004287903529997592), (187, 0.004257854987842011), (4365, 0.004256548452303933), (3160, 0.004255040047425027), (3619, 0.004248646308555885), (756, 0.004240137967920301), (4468, 0.004237480515957813), (1925, 0.004216211081455296), (1590, 0.00421601146948127), (1772, 0.004197980869266056), (1699, 0.004193809489988976), (1559, 0.004193667932057475), (4426, 0.004193201205821231), (1753, 0.0041775362500310245), (1546, 0.004175630070513573), (3339, 0.004174702443731995), (3776, 0.0041633888836050525), (234, 0.004159690213174815), (2801, 0.004148794727694503), (1309, 0.0041418960956889515), (4555, 0.004141548460653618), (625, 0.004140992367255825), (1120, 0.004132139255983453), (3405, 0.00411918272361426), (2541, 0.004111113234072244), (3925, 0.004107102340870046), (1458, 0.004102641228369065), (3806, 0.0041018609502434635), (639, 0.004095827351899954), (723, 0.004091637977371376), (1910, 0.0040865678623614385), (314, 0.004069461297420524), (640, 0.004063091722901474), (3484, 0.004038739423502502), (4513, 0.004013021820338348), (469, 0.004004213728243819), (738, 0.003974223978122519), (290, 0.003965050685736631), (2573, 0.003963317192033709), (295, 0.003953513945655736), (4705, 0.003946458783132941), (2937, 0.003945081720904941), (1164, 0.003937029150729334), (76, 0.003930931645591441), (3944, 0.0039168379342230985), (1395, 0.003911268289572304), (3672, 0.003909483589580601), (3989, 0.003907513012582061), (1576, 0.003886841680832644), (289, 0.003885838238744268), (3139, 0.00387261798737152), (294, 0.003853170759388175), (2189, 0.0038520562149398645), (2078, 0.0038510392119993565), (2722, 0.003826015131577646), (2349, 0.003824146392155917), (2326, 0.0037990165124727232), (1145, 0.003792203162278851), (2537, 0.0037872339155985858), (735, 0.003766948603962274), (3055, 0.0037620378159414943), (2775, 0.0037466712734381875), (627, 0.0037458948929115833), (4017, 0.0037417675116070163), (3042, 0.0037303722270147542), (3561, 0.0037269036706491904), (2883, 0.003724730600830684), (2923, 0.003723600368139325), (2310, 0.0036972551219770573), (4749, 0.0036884166456270314), (4484, 0.0036794480408566857), (3479, 0.0036747262008714567), (4529, 0.0036745776556514967), (3291, 0.0036626426519313095), (4611, 0.003657596021347632), (77, 0.003653674564021991), (2832, 0.0036296925329412336), (3878, 0.003627505259170392), (2861, 0.0036228713318572766), (2628, 0.003609866795109114), (2559, 0.0036090268312774622), (2448, 0.003598421078179632), (4696, 0.003597447939949254), (3219, 0.0035962813607995294), (3292, 0.0035915729433119545), (4019, 0.003582618998488486), (4418, 0.003581269178205425), (2199, 0.0035788616288350747), (3282, 0.003571264063247645), (4142, 0.00354121464263252), (2350, 0.0035385865085403464), (889, 0.0035314190369712117), (2286, 0.0035171743622719703), (1210, 0.0035163900478337594), (4102, 0.003509975980138211), (1208, 0.0035049374597165435), (3848, 0.0035020094655000816), (4606, 0.0034966794855893733), (3015, 0.0034921007923248556), (4400, 0.0034880059592505754), (526, 0.003479691453219487), (3128, 0.003478080647300848), (3239, 0.003469412477601692), (1121, 0.0034687246564806262), (3140, 0.0034668076712349124), (1711, 0.0034561629949722314), (4521, 0.00345105228572244), (4544, 0.003448122275451664), (3354, 0.0034416235408216206), (2557, 0.0034311351296612363), (3687, 0.003427185857237207), (2438, 0.0034234704983528855), (3357, 0.0034227590116701983), (4692, 0.003419558196800938), (3537, 0.003417648142814315), (4306, 0.00340979179695715), (3159, 0.0034075282627220073), (3613, 0.00340278282928388), (3074, 0.0033991947896106134), (2857, 0.0033959362208058987), (1153, 0.003395453431732375), (4298, 0.003393298226147158), (3874, 0.003387636299050955), (326, 0.0033786793968438285), (2848, 0.0033762251025173445), (2797, 0.003374105357686443), (3031, 0.0033697874071402494), (3302, 0.003365990019007565), (4723, 0.0033648574139094212), (4147, 0.0033645030470573906), (3620, 0.0033635507123027297), (3020, 0.003360425123799384), (3358, 0.0033555249504188278), (2966, 0.0033478874210271215), (1593, 0.0033399557476327074), (3206, 0.003338586529621938), (3544, 0.003338315721545585), (3257, 0.0033311274048403797), (2993, 0.003313240631682758), (2895, 0.003310783027899234), (1168, 0.00331071096848167), (3413, 0.0033104394023740873), (2619, 0.003307724539808591), (3911, 0.0033071835144530774), (3429, 0.0033032940035375236), (489, 0.003298496734636485), (2434, 0.003298127387593656), (475, 0.0032923766674086688), (1049, 0.0032684936482770916), (4280, 0.003266360461950393), (777, 0.0032635715897552774), (3308, 0.0032625978255215646), (431, 0.0032547964577389504), (4416, 0.003254469657427257), (3763, 0.003253132581266811), (4694, 0.0032488392228413924), (3081, 0.003246634202402493), (3745, 0.003246288706315697), (2378, 0.003241814805869857), (1792, 0.0032414846300406353), (3621, 0.0032408221680541144), (2986, 0.0032405606006987928), (4633, 0.0032401437659729843), (3935, 0.0032373084465347353), (2570, 0.003236301453152449), (518, 0.003233772818465453), (2613, 0.0032334391178941106), (4145, 0.003233112179510668), (1187, 0.003232595683925318), (4584, 0.0032324214727316664), (2142, 0.0032309423148217833), (1169, 0.00323013576928461), (4075, 0.0032297999236222414), (2720, 0.0032290366046238365), (4126, 0.0032271273179108714), (3359, 0.0032241456634631445), (3540, 0.0032215035519051276), (1547, 0.003220207173786508), (1748, 0.003216728295309294), (3072, 0.0032134057570875115), (1947, 0.0032101122503825972), (3307, 0.0032037355502131225), (2738, 0.0032037187798448327), (3729, 0.0032036447962395225), (2320, 0.003200424962246759), (2924, 0.003196293120799819), (4002, 0.0031941707901134947), (3425, 0.0031931486666431645), (2987, 0.003190925295017305), (2696, 0.003187688675586607), (3230, 0.003187686659434111), (3866, 0.0031860771053106), (3506, 0.003185510436078259), (3419, 0.0031851044586304307), (4369, 0.0031840075585569646), (2884, 0.003180137604804477), (448, 0.0031800247050778494), (925, 0.0031795561968898174), (4713, 0.0031791174032773316), (4650, 0.0031772380036963733), (3355, 0.003172805836914745), (1656, 0.0031689042025964636), (4507, 0.0031687492134447144), (508, 0.003166720681637161), (4516, 0.0031644459974301715), (614, 0.0031640156872353997), (4267, 0.003162324675638153), (985, 0.003158696115967468), (1497, 0.0031549685904981154), (3337, 0.003154271982017964), (4117, 0.003153917727588954), (2478, 0.0031515317450014914), (2796, 0.0031481735936736074), (739, 0.0031430713938922564), (2437, 0.0031409458170715654), (4295, 0.0031409032516413076), (3639, 0.003138685135515828), (2623, 0.003136141347007556), (3772, 0.0031349180124007783), (2223, 0.00313294508485013), (3186, 0.0031325528998617422), (2629, 0.003132395307061082), (3611, 0.0031312479759100847), (478, 0.0031277410984125553), (2302, 0.003126763157501788), (1887, 0.003125760385931883), (998, 0.0031231078284295996), (2702, 0.0031218039019493904), (3148, 0.003120381911768313), (235, 0.003119847759114855), (2411, 0.0031192607908132027), (2544, 0.003115097091718545), (999, 0.003114271111712984), (2974, 0.003112063649344348), (3013, 0.0031108843079040967), (3587, 0.0031094107947702804), (1349, 0.003108206874140417), (576, 0.003106619364694232), (813, 0.0031054478106988014), (4718, 0.003104860919594475), (4333, 0.0030991850767683286), (1862, 0.0030991369407791926), (1909, 0.003096774118925658), (419, 0.0030967092590110795), (596, 0.003093377006088802), (1594, 0.003092500506531223), (4368, 0.00309140481521812), (4535, 0.003090404513081966), (3560, 0.0030902844867839894), (3962, 0.0030894918628800306), (308, 0.003087295508364505), (2914, 0.0030858676061962854), (3414, 0.0030848257292274517), (922, 0.003084632598766868), (4401, 0.0030834685596959166), (2134, 0.0030821282842842775), (3877, 0.003078917124646297), (41, 0.0030780569781390403), (2830, 0.003076587957987078), (4051, 0.003073701669991908), (1474, 0.0030732715312184666), (444, 0.0030729609015293724), (4397, 0.0030706867758806436), (2356, 0.0030684709091562223), (3593, 0.0030681885322552593), (4259, 0.0030660468329359444), (4113, 0.003064671682464547), (4138, 0.00306384282043615), (3737, 0.0030623036774203535), (3273, 0.0030622992471626225), (2108, 0.0030616905365021536), (1890, 0.0030615001101560123), (4706, 0.003058804455987447), (2585, 0.0030583833795984105), (2890, 0.0030512078893776885), (4042, 0.0030509554163579903), (3967, 0.0030496325321461718), (2159, 0.0030483344926982526), (2592, 0.0030474215791046395), (2176, 0.00304558209783415), (1580, 0.003044830029703411), (857, 0.00304386155383767), (1109, 0.003043312799825806), (3003, 0.0030418389971069272), (3101, 0.0030387454811878173), (3026, 0.0030367920686929215), (2535, 0.003031129461100492), (2390, 0.003030664226464337), (476, 0.0030274829486369253), (3417, 0.003026342084774076), (2410, 0.0030261464467745995), (2624, 0.0030230654484791563), (3677, 0.0030223045091989646), (4140, 0.0030212031852049535), (4446, 0.0030202163830109706), (1479, 0.00301988746248687), (253, 0.0030181907028307936), (3497, 0.003017624669717774), (4308, 0.003016551678467544), (3749, 0.003016477298392602), (4101, 0.0030124336097961447), (3044, 0.0030124066294742757), (4130, 0.0030109619347255608), (1733, 0.0030107756983236336), (3714, 0.0030092003560392576), (4528, 0.0030087083416746705), (887, 0.003007428964881344), (3064, 0.003007427425553596), (318, 0.0030054160608427205), (3183, 0.003003347930536718), (3915, 0.003002152346696955), (2748, 0.003001929479209577), (587, 0.003001302600654977), (4732, 0.0030000489456315153), (2293, 0.0030000416545264727), (8, 0.002996009496260734), (1905, 0.0029957300282747817), (2882, 0.002993963498126416), (499, 0.0029933751380900302), (4087, 0.0029914636279201627), (3889, 0.002990839929303825), (2595, 0.002990644808452286), (1805, 0.0029875422875687103), (3269, 0.002985174136651899), (1959, 0.0029840805466650783), (3893, 0.002983223215740111), (2507, 0.002982619659729634), (3271, 0.0029818762021200152), (4545, 0.0029805714488764777), (4734, 0.002980413270044951), (2888, 0.0029797890770279284), (2190, 0.002977398715813359), (2475, 0.0029771730636578), (1848, 0.0029764225197460377), (3757, 0.0029763848190209204), (1907, 0.0029754878838969055), (4161, 0.002974744651338267), (1995, 0.002973341153066159), (3449, 0.002971667831578499), (4245, 0.0029712556077980123), (1518, 0.0029706957074687843), (2661, 0.002968741717496536), (4657, 0.002967948810455401), (4132, 0.002965308713757098), (2776, 0.002964615831549634), (192, 0.002964517473636539), (4269, 0.002963464465468067), (395, 0.0029621587564003676), (1637, 0.002961540292977163), (3496, 0.0029611832996702513), (3184, 0.0029609683006164645), (2786, 0.002960561821494665), (2725, 0.0029582053537992974), (791, 0.002957765850708494), (4111, 0.002956852212001491), (3007, 0.0029563350082369407), (3873, 0.00295601632087691), (872, 0.0029554804067287357), (3781, 0.002955199717128162), (4680, 0.0029551872554150985), (1409, 0.0029551718477046035), (12, 0.002953352670350898), (1683, 0.0029532509313336193), (4574, 0.002953190465355744), (2940, 0.0029523625846305844), (3987, 0.0029512479444583767), (2664, 0.00294690158272471), (2391, 0.002946711921737816), (2609, 0.002945395779970188), (1324, 0.002945076732005383), (4355, 0.00294471694783752), (680, 0.002943446755198338), (826, 0.002943257571441463), (2260, 0.0029424571716818344), (2821, 0.0029385231700932335), (2393, 0.002938343911122831), (4489, 0.002936798204397899), (612, 0.002936004108278997), (3434, 0.0029330347751619747), (1896, 0.002931778627790319), (3678, 0.002931109422999757), (74, 0.002930627800334625), (2970, 0.002930496877192163), (4357, 0.0029303137617874542), (2105, 0.002928628044254196), (246, 0.002926700779853832), (623, 0.0029264403108156855), (2792, 0.002926216632433417), (4505, 0.0029257014681712884), (4575, 0.0029249550676008693), (4318, 0.002924949031063636), (4054, 0.0029246316976345174), (2361, 0.0029239492499630944), (4471, 0.002923277765521474), (4495, 0.002921731039775433), (3590, 0.002921630639914489), (3084, 0.002921292998513461), (2610, 0.0029206842929790705), (3314, 0.0029198234976070456), (2953, 0.0029178281360712874), (2755, 0.0029163879020772973), (456, 0.0029162021138469775), (3406, 0.002915949236780982), (1670, 0.002913181990038067), (4286, 0.002912614616394623), (262, 0.002912115983425888), (1916, 0.002911335349997832), (3882, 0.0029102858079043253), (4566, 0.0029087593663085455), (2878, 0.002907545100135926), (1007, 0.0029067542764912493), (4420, 0.0029065824884139456), (1893, 0.0029062462147495124), (3654, 0.002906233578842912), (4, 0.002905928869926439), (1822, 0.002903651239897468), (2419, 0.0029027757409443725), (3242, 0.0029025895426532883), (783, 0.0029005655925261596), (178, 0.002900109958870104), (3388, 0.002898381821328445), (4497, 0.002897863473869422), (564, 0.00289727487754824), (3187, 0.0028951927942011692), (1402, 0.0028951537958663847), (3372, 0.002892490402271187), (4363, 0.0028921031045454418), (4419, 0.0028919701561788587), (3493, 0.0028917691603773587), (2385, 0.0028911973598864256), (4083, 0.0028880607663179718), (1660, 0.0028878481690981935), (2083, 0.002887268265128955), (3770, 0.002886813375665079), (3150, 0.002886092311294217), (211, 0.0028851409907031545), (890, 0.002883459771765035), (20, 0.0028827116349919185), (2926, 0.002882558233716894), (3845, 0.0028808722534787844), (1570, 0.002879761174091157), (4448, 0.002878715561848333), (3224, 0.002876914679333113), (1439, 0.002876536047459539), (4361, 0.0028762410813130863), (2911, 0.0028751128013852294), (3902, 0.002874850867945425), (23, 0.002874785521353389), (884, 0.0028745069579667764), (2370, 0.002873553679555781), (4136, 0.0028728014917848307), (717, 0.002872166332096027), (588, 0.00287110047044917), (2148, 0.0028708078423760864), (1364, 0.002870793067808775), (987, 0.0028704569566716897), (4262, 0.002867198479123208), (1851, 0.002865557172596519), (2319, 0.0028655418582242864), (2904, 0.0028644748116487895), (3920, 0.0028603460008998324), (1765, 0.0028598886554664087), (1703, 0.002857362002814425), (4340, 0.002856099288382478), (4334, 0.0028559276956161123), (11, 0.0028548848075988743), (4625, 0.0028535855093800877), (2405, 0.0028525835118583275), (4287, 0.0028515627791416273), (2863, 0.00285052858169138), (3241, 0.0028501341427081095), (3517, 0.002847982291349734), (2072, 0.0028463364002192814), (3016, 0.0028442805169344903), (4422, 0.002844251990743731), (1717, 0.002843908015612778), (3290, 0.002843436537234342), (3198, 0.002842043054025265), (1946, 0.0028403542574646392), (1768, 0.0028394836999553878), (871, 0.0028382184691306675), (1516, 0.002837366905693913), (377, 0.002835998211742455), (3225, 0.0028351882430441835), (4079, 0.0028337708234559764), (865, 0.0028332430956137466), (3542, 0.002833101158684248), (3526, 0.002832113788619891), (71, 0.002831980790649147), (3636, 0.002831911615207097), (1294, 0.0028316555681347014), (3445, 0.0028313774460279008), (933, 0.0028309075149755723), (2466, 0.00283078567453041), (3809, 0.0028303884634535096), (4273, 0.0028303059821090026), (1355, 0.0028300897769636267), (2230, 0.002829813170835177), (3289, 0.002828152224946084), (4563, 0.002826045772532637), (2386, 0.0028231655538271316), (2894, 0.0028212056596297226), (2292, 0.0028208366136090366), (969, 0.0028177874921764493), (1176, 0.002817367299193691), (3606, 0.002817095649376591), (4197, 0.0028152858630547868), (3182, 0.0028133994829468378), (1122, 0.002812682059882215), (115, 0.002811416333141814), (3707, 0.0028108894971191163), (3792, 0.0028104454134264436), (3113, 0.002806604312161502), (2746, 0.0028058336302429006), (4049, 0.0028046979130160075), (3283, 0.0028043548287850473), (198, 0.0028011643228215326), (4391, 0.002799631483552649), (2073, 0.002799556369728986), (579, 0.0027981716138097295), (1533, 0.0027965678217749825), (2397, 0.002796503698967293), (2313, 0.0027925509146596644), (3551, 0.0027922529123482736), (4135, 0.002791696762439918), (4501, 0.002791638490916061), (1204, 0.00279103592567567), (3335, 0.0027898784876608995), (1476, 0.002788935328329315), (2192, 0.002787372604125562), (3739, 0.00278536127782568), (1574, 0.0027850366503044473), (2430, 0.0027847894116847746), (1410, 0.0027841515305547723), (848, 0.0027840725168682126), (4266, 0.002783688104586913), (504, 0.002782433904982945), (1722, 0.0027795524549971006), (2169, 0.0027793249663464158), (2396, 0.0027780210377052208), (2826, 0.002777243411386766), (2783, 0.002777162974361085), (2533, 0.0027759835878665203), (3564, 0.0027730711310284804), (2067, 0.002770478003073922), (4604, 0.002769162801260898), (1170, 0.002768841475791989), (3341, 0.0027681930439445073), (2554, 0.0027679603966882216), (1131, 0.0027672708146944253), (2354, 0.0027670088448061166), (378, 0.0027659863109148718), (1706, 0.0027656325273540884), (4320, 0.0027648748582013495), (2340, 0.0027643375162695106), (3478, 0.0027640376900772553), (1378, 0.002763864438307103), (3491, 0.0027637283906500154), (749, 0.0027621658706365225), (4427, 0.0027620872390095442), (66, 0.002761127815386396), (1163, 0.0027597074956873346), (2387, 0.0027593050824436752), (226, 0.0027587336092324117), (1304, 0.0027564378741281514), (993, 0.0027549950356905574), (114, 0.002754777048684689), (2195, 0.0027547347617531393), (4686, 0.0027541928337886583), (2943, 0.0027531977110804456), (3673, 0.002751428642266886), (2495, 0.0027514239206836715), (3216, 0.0027511561958854618), (2999, 0.0027504409045303125), (4409, 0.00274989941298808), (4056, 0.002748880828242515), (4330, 0.002748309726264573), (1298, 0.002747703914699318), (4520, 0.0027467601228338876), (2853, 0.0027447904422736205), (3441, 0.0027438554454484038), (1891, 0.0027399820813299738), (348, 0.002737319405183452), (400, 0.002737179472786735), (1072, 0.002737011277015333), (3477, 0.002735270835632588), (490, 0.0027352637977003554), (3565, 0.002734752972999671), (2900, 0.0027321831897518783), (2060, 0.0027310146923799974), (1411, 0.002728563110536897), (4394, 0.002728100063486237), (1831, 0.002725426711681839), (247, 0.0027249903276159093), (4228, 0.002724954400570954), (3381, 0.0027245992229067775), (1313, 0.0027243871602114548), (3173, 0.002723755635176135), (3647, 0.002723674895063727), (466, 0.002723341158624507), (2416, 0.0027232324203669126), (2946, 0.0027230914906540148), (3093, 0.002722466221752707), (1666, 0.002720275182630471), (1550, 0.0027201951539724233), (4487, 0.0027191183632125733), (3906, 0.0027181509691545473), (169, 0.0027176834502791233), (973, 0.0027171007541309613), (1598, 0.002713941892698525), (1882, 0.0027116206788211925), (215, 0.0027104363194751864), (1100, 0.002710163401000016), (4020, 0.0027092195125505854), (4687, 0.0027078456629580166), (1110, 0.0027057649311358987), (3379, 0.002705433690204221), (1026, 0.002704570802318821), (1319, 0.0027024717993531303), (4036, 0.0027021346711916068), (1286, 0.002702052234470731), (1084, 0.002700648040601157), (3557, 0.002699537027952227), (4530, 0.002699216406902618), (98, 0.002698561919404956), (2111, 0.0026981701804048483), (3220, 0.00269793800432233), (2226, 0.0026968662613293666), (26, 0.0026964692974361625), (2945, 0.0026955098600262854), (1617, 0.002695427081047507), (2401, 0.0026953645677209393), (127, 0.0026941204371329786), (4743, 0.00269254522133478), (2909, 0.002692408658839832), (4573, 0.0026903062819973412), (3412, 0.00268984700182104), (3706, 0.0026896029809965376), (1284, 0.0026874827307495843), (3765, 0.0026874386585982956), (1408, 0.002685517678135119), (3719, 0.0026855134297281914), (2422, 0.002685305087488261), (1350, 0.002685147017538318), (3069, 0.002684873172744962), (4183, 0.002683687592290665), (959, 0.0026833063989284284), (1422, 0.002683284785348178), (3402, 0.0026823728686822933), (1813, 0.0026821093235874357), (4129, 0.0026807222923829785), (488, 0.0026798912837096302), (4381, 0.002677745738641611), (349, 0.0026774974704535867), (3075, 0.0026755633715363084), (3890, 0.002674972680550148), (4550, 0.002672426947060733), (2461, 0.0026718742366451916), (3298, 0.0026717439466702633), (4472, 0.002670617358279897), (755, 0.0026705506359524273), (3348, 0.0026702804132876326), (1247, 0.002669505822906407), (2612, 0.002669309371656957), (4069, 0.0026679709233482754), (541, 0.002664943826905915), (4139, 0.0026645736446309653), (3641, 0.0026640106033520836), (1645, 0.002661437896652024), (2571, 0.002661132267594721), (3900, 0.0026595891445003877), (1969, 0.0026590274363441245), (4729, 0.0026561656885944612), (2268, 0.0026552878342878945), (2131, 0.0026548146662852563), (2642, 0.0026545840104192264), (2117, 0.0026537717055631106), (3503, 0.0026512665449480548), (1463, 0.0026503709572662172), (1597, 0.0026487582223671913), (646, 0.0026487332516786297), (1117, 0.0026478387886885828), (3214, 0.002645714575016782), (3268, 0.002644581987242074), (1027, 0.0026442202558075146), (4461, 0.002643443445881648), (4536, 0.002642291323256655), (487, 0.0026422504144468935), (157, 0.0026421174628499093), (1034, 0.0026419185738011503), (1877, 0.0026418447417210387), (4155, 0.0026394798020270152), (3917, 0.0026393253086841456), (2141, 0.002639090507064984), (883, 0.002638177247590722), (854, 0.002637040391849084), (731, 0.0026366933464583705), (2779, 0.002636038466771505), (798, 0.002635549528496314), (3170, 0.002634758379626231), (4567, 0.0026336240053650133), (1416, 0.002633449887912655), (3390, 0.0026328454806249517), (3898, 0.002631392174200687), (3691, 0.002630977273689323), (1273, 0.0026307385372019675), (2367, 0.002630157055791224), (2242, 0.0026299232543797804), (1929, 0.002628533749956507), (221, 0.0026269436427815954), (505, 0.002626826650189232), (1002, 0.0026265642172046437), (2765, 0.0026251266940830404), (4428, 0.002624430501445039), (4213, 0.0026239574545699256), (984, 0.002623796572137611), (4345, 0.002622473020001524), (4085, 0.002621110032192393), (1744, 0.0026198167144524703), (2965, 0.002619586792321361), (1742, 0.0026182654345926), (2068, 0.0026177656831706773), (698, 0.002617525851811967), (2679, 0.002615930797592565), (767, 0.0026148415990299824), (3615, 0.002612647467593557), (2800, 0.002611858403534546), (373, 0.00261109090938322), (1036, 0.0026108706075413566), (2651, 0.002610151389100706), (3014, 0.0026099825488054653), (388, 0.002609554724157074), (1032, 0.002608923453902416), (3811, 0.0026085233271698526), (325, 0.002607922540456397), (1404, 0.0026073690994263153), (3646, 0.0026059988062538354), (3194, 0.002605712932583079), (4254, 0.0026054205941639466), (2997, 0.0026051482173352213), (1663, 0.0026046152819081186), (3799, 0.0026029653720240366), (4206, 0.002601365294087257), (3300, 0.0025984024337036785), (507, 0.0025968308372596267), (2166, 0.0025958410859580425), (941, 0.002595474915567448), (2004, 0.0025926720167527015), (2525, 0.002592545792533303), (3057, 0.0025923661634017756), (1693, 0.0025912641481532126), (140, 0.002588769784895886), (154, 0.0025871492947611486), (4011, 0.0025868096601619644), (2552, 0.0025853385132556333), (1884, 0.002584765320283301), (2634, 0.0025832253620667084), (886, 0.0025826341869916686), (4059, 0.0025821646644656566), (598, 0.0025816486040436916), (3243, 0.002581539708247421), (655, 0.0025806609444181277), (2099, 0.0025784890639232267), (4634, 0.002577494274876277), (471, 0.002577222444509535), (2862, 0.002575353723787889), (1372, 0.0025744512052479906), (372, 0.002574124387229038), (2446, 0.002573230617794613), (944, 0.002573107784361536), (975, 0.0025715947917305925), (229, 0.00257057765149259), (659, 0.0025695516114686403), (4356, 0.0025693208595837184), (3147, 0.00256886867928141), (410, 0.0025684740449846938), (1558, 0.0025674620411092167), (3071, 0.0025651848605729877), (3725, 0.002564438721007498), (3500, 0.0025625605050609485), (3627, 0.002562295116314054), (2201, 0.0025620407452527656), (1642, 0.0025598543316718595), (1641, 0.002559712616920517), (1456, 0.0025591910275803657), (2735, 0.0025590796049300975), (2528, 0.0025571739822109227), (2556, 0.0025570017208937207), (2129, 0.0025567846005940097), (2317, 0.002554639981873946), (589, 0.002554478819700466), (805, 0.0025544786322754917), (2907, 0.0025528719335964982), (4616, 0.0025510993836177823), (1357, 0.0025485777417526643), (4348, 0.0025480455697018457), (324, 0.002547204963405149), (399, 0.0025463283224451626), (1543, 0.0025442585104627977), (2674, 0.002541810118665539), (2593, 0.0025411709935757977), (3455, 0.0025408608943420707), (136, 0.002540692993413695), (4479, 0.0025402652968349363), (2845, 0.0025393272615431796), (355, 0.0025391678085503466), (524, 0.00253896019691825), (359, 0.002538769356863427), (121, 0.0025380357904838152), (1079, 0.0025375297172292753), (1814, 0.002537038508109057), (3369, 0.002535595221599485), (2482, 0.0025352069223672506), (2453, 0.0025343932996951075), (4174, 0.002533209141375747), (1434, 0.0025321321951644556), (3050, 0.0025320563487860677), (4277, 0.002530505024091913), (624, 0.0025289822636279805), (1628, 0.0025284831133557395), (2399, 0.002527450212208283), (907, 0.002526686260729206), (1672, 0.0025247575625107), (416, 0.002524108584612591), (457, 0.002523672695426284), (3742, 0.0025233390490478668), (4638, 0.0025226693233634796), (2954, 0.002521085814959827), (4326, 0.002519962912830363), (4620, 0.002518863565404575), (4359, 0.0025181865368117855), (3953, 0.002516650412252138), (759, 0.002516487027851854), (2728, 0.0025153013714701933), (1782, 0.0025139943450279666), (3563, 0.002509765717679006), (1528, 0.0025089573943037334), (3278, 0.0025079004515857527), (2402, 0.0025061109087675002), (473, 0.0025038149041093044), (3304, 0.0025028542852554058), (1503, 0.0025004003910151056), (1869, 0.002498818658353929), (1161, 0.002497840583270879), (1826, 0.002497466198592049), (1605, 0.0024974636910830954), (2741, 0.002497003540833587), (3614, 0.002496375197162266), (2338, 0.0024957843373205717), (1827, 0.0024937898119664205), (1625, 0.002493370056899268), (3311, 0.002492087429948134), (1366, 0.002488724916474496), (3863, 0.002488128589473446), (2323, 0.0024863177489023182), (2457, 0.002485988719011791), (1719, 0.0024843144703660396), (4080, 0.0024805396599162075), (1980, 0.002480524460082113), (722, 0.0024805166106359193), (3327, 0.002480208883814521), (1808, 0.002479949805677146), (158, 0.0024795825037299676), (4712, 0.0024778182097886952), (3336, 0.0024775011969518884), (3986, 0.0024774000787089385), (4143, 0.0024769214070481495), (3027, 0.0024760743275470108), (4304, 0.002476033162752706), (4350, 0.0024733418590970574), (4074, 0.002473261799978762), (1080, 0.002472548296850417), (1219, 0.002470752929863837), (2976, 0.002470125993813095), (1921, 0.0024700232963477307), (268, 0.0024699163610144006), (594, 0.0024693173981588656), (1318, 0.002466594025591593), (815, 0.0024662987170223083), (1004, 0.002465996718447095), (2213, 0.002463266665568337), (856, 0.0024620214911361894), (3795, 0.002456600284738517), (2163, 0.002455725649527454), (3380, 0.002454757438749799), (703, 0.002452939081418784), (1954, 0.0024485961875331825), (4343, 0.002447465119829565), (495, 0.0024467910113378684), (1394, 0.0024458116204583813), (4220, 0.0024442729279656635), (3755, 0.002443761199847096), (1251, 0.002441931817270497), (1423, 0.002441818900901254), (712, 0.002440220194469661), (2047, 0.0024399333723531097), (132, 0.002438532035155573), (184, 0.002437299349396742), (1392, 0.0024369941746005264), (1830, 0.002436609832364693), (1199, 0.0024352554318622646), (92, 0.0024313730281027316), (2502, 0.002430589026035884), (1616, 0.0024305772640310975), (4247, 0.0024297591902301807), (480, 0.002425046904505058), (2753, 0.0024241719792296506), (97, 0.002423122461743431), (3894, 0.002422570459704158), (605, 0.0024224830892086648), (647, 0.0024207333014036785), (4066, 0.0024199896947443567), (2240, 0.002418555261940525), (249, 0.0024181980942697924), (4296, 0.0024168660372464834), (1301, 0.0024087771008374057), (1943, 0.0024056536169830417), (4473, 0.002404958540835711), (103, 0.0024013406602864016), (2721, 0.002401127144888218), (4429, 0.002401033780972149), (3211, 0.002396699272410596), (2520, 0.002396009001871348), (1217, 0.0023924489940434636), (165, 0.002391000134985282), (1370, 0.002388648998346645), (2270, 0.0023850748793032405), (278, 0.002382382805399179), (3393, 0.0023796855202500135), (4386, 0.002379551374539834), (3238, 0.0023767550225010405), (2527, 0.002376499840124907), (2743, 0.002372042487368294), (1828, 0.002371998376305467), (3569, 0.0023719399644622375), (2382, 0.0023716421992657564), (1450, 0.0023697950700137783), (4411, 0.002369458574177614), (4476, 0.0023689232804811706), (2747, 0.0023682875078150107), (2611, 0.0023658733192130966), (357, 0.0023655329299140443), (2146, 0.0023654862207844766), (286, 0.002364862650074113), (1088, 0.0023648228485102776), (1565, 0.0023607977820618593), (1352, 0.002355441049241419), (1340, 0.002351348945868373), (3200, 0.002348811743569828), (267, 0.0023476144175301325), (432, 0.002346191202574538), (3669, 0.0023449983280460084), (626, 0.0023447776406134322), (1691, 0.002343278876259472), (3668, 0.0023422849398148995), (3855, 0.002341258313453799), (4636, 0.0023328907198156257), (3657, 0.00233285863065409), (951, 0.0023286099581473715), (2758, 0.0023275645695610948), (195, 0.002321873355149037), (1801, 0.002321266014634125), (2039, 0.0023199099955433307), (196, 0.0023198456747646617), (2127, 0.002319334017095053), (3347, 0.0023173846457827272), (707, 0.0023140408510527637), (1042, 0.0023105612830667532), (3928, 0.0023085059924767993), (2287, 0.002305751020070722), (1209, 0.0023021134578310207), (2132, 0.002298693002393716), (3252, 0.002296896036311059), (2359, 0.002294670067755245), (3056, 0.0022855070998782415), (901, 0.0022848962409524427), (2034, 0.0022814526265135704), (3024, 0.0022794087274404205), (4015, 0.00227874427491012), (4200, 0.0022765246200494244), (1305, 0.0022723834699623522), (1427, 0.0022702415987455923), (645, 0.002264523625710395), (2509, 0.002260783485304509), (1415, 0.002256988472513068), (3548, 0.0022559756287594264), (2526, 0.0022544026579424743), (4311, 0.00225351568602223), (1624, 0.0022426625333497054), (4626, 0.0022424124769224547), (4744, 0.0022402529840662238), (2441, 0.0022348812102619127), (3575, 0.0022347450421449505), (3431, 0.0022259219004514496), (194, 0.0022090954402493295), (3538, 0.002203854578617628), (2766, 0.00218668592192795), (2010, 0.0021840931362695696), (1677, 0.0021754076038979077), (3301, 0.0021701506460582876), (1040, 0.002165801836540198), (4598, 0.0021549150631753563), (3199, 0.0021384756338829213), (607, 0.002132459799641165), (453, 0.002114098559098578), (351, 0.002103847708458954), (3626, 0.002099879328390018), (228, 0.0020911932914608714), (2636, 0.0020760355284842606), (4445, 0.002075030761907437), (1277, 0.0020689615520064148), (3546, 0.0020652546657582214), (4301, 0.0020580009511614356), (2902, 0.0020198238296004335), (4752, 0.001980047523864412), (293, 0.0019660936672335288), (4171, 0.0019542805477169977), (3365, 0.001946660446341567), (129, 0.0019154405502572352), (740, 0.0018480214971290498), (3392, 0.001831204786286459), (202, 0.0018130208231691035), (3608, 0.001807359510835764), (24, 0.0018008847900591398), (1780, 0.0018008506456084694), (2534, 0.0012263263582218938), (1, 0.0), (2, 0.0), (14, 0.0), (17, 0.0), (28, 0.0), (36, 0.0), (37, 0.0), (49, 0.0), (53, 0.0), (54, 0.0), (55, 0.0), (58, 0.0), (59, 0.0), (64, 0.0), (69, 0.0), (73, 0.0), (91, 0.0), (100, 0.0), (101, 0.0), (117, 0.0), (133, 0.0), (134, 0.0), (141, 0.0), (146, 0.0), (150, 0.0), (151, 0.0), (153, 0.0), (163, 0.0), (171, 0.0), (186, 0.0), (188, 0.0), (205, 0.0), (214, 0.0), (219, 0.0), (223, 0.0), (225, 0.0), (237, 0.0), (245, 0.0), (258, 0.0), (259, 0.0), (264, 0.0), (265, 0.0), (272, 0.0), (275, 0.0), (297, 0.0), (298, 0.0), (299, 0.0), (302, 0.0), (312, 0.0), (319, 0.0), (331, 0.0), (335, 0.0), (337, 0.0), (338, 0.0), (339, 0.0), (344, 0.0), (352, 0.0), (361, 0.0), (362, 0.0), (365, 0.0), (366, 0.0), (376, 0.0), (379, 0.0), (382, 0.0), (390, 0.0), (391, 0.0), (392, 0.0), (393, 0.0), (394, 0.0), (401, 0.0), (404, 0.0), (405, 0.0), (411, 0.0), (415, 0.0), (423, 0.0), (427, 0.0), (439, 0.0), (440, 0.0), (454, 0.0), (484, 0.0), (486, 0.0), (491, 0.0), (492, 0.0), (498, 0.0), (506, 0.0), (516, 0.0), (517, 0.0), (520, 0.0), (525, 0.0), (528, 0.0), (529, 0.0), (531, 0.0), (535, 0.0), (536, 0.0), (546, 0.0), (548, 0.0), (549, 0.0), (552, 0.0), (554, 0.0), (556, 0.0), (557, 0.0), (565, 0.0), (567, 0.0), (569, 0.0), (570, 0.0), (572, 0.0), (573, 0.0), (574, 0.0), (575, 0.0), (577, 0.0), (585, 0.0), (591, 0.0), (592, 0.0), (599, 0.0), (601, 0.0), (602, 0.0), (603, 0.0), (610, 0.0), (630, 0.0), (649, 0.0), (650, 0.0), (656, 0.0), (658, 0.0), (662, 0.0), (663, 0.0), (665, 0.0), (674, 0.0), (679, 0.0), (681, 0.0), (686, 0.0), (687, 0.0), (699, 0.0), (700, 0.0), (702, 0.0), (704, 0.0), (708, 0.0), (709, 0.0), (711, 0.0), (713, 0.0), (714, 0.0), (718, 0.0), (720, 0.0), (724, 0.0), (725, 0.0), (726, 0.0), (730, 0.0), (736, 0.0), (741, 0.0), (746, 0.0), (747, 0.0), (751, 0.0), (754, 0.0), (764, 0.0), (770, 0.0), (771, 0.0), (772, 0.0), (773, 0.0), (780, 0.0), (781, 0.0), (784, 0.0), (785, 0.0), (786, 0.0), (789, 0.0), (797, 0.0), (807, 0.0), (819, 0.0), (820, 0.0), (822, 0.0), (837, 0.0), (839, 0.0), (840, 0.0), (841, 0.0), (846, 0.0), (859, 0.0), (881, 0.0), (882, 0.0), (892, 0.0), (909, 0.0), (912, 0.0), (913, 0.0), (914, 0.0), (920, 0.0), (926, 0.0), (938, 0.0), (943, 0.0), (945, 0.0), (946, 0.0), (950, 0.0), (954, 0.0), (955, 0.0), (956, 0.0), (960, 0.0), (961, 0.0), (964, 0.0), (965, 0.0), (971, 0.0), (972, 0.0), (977, 0.0), (978, 0.0), (982, 0.0), (983, 0.0), (990, 0.0), (995, 0.0), (996, 0.0), (1008, 0.0), (1010, 0.0), (1011, 0.0), (1013, 0.0), (1016, 0.0), (1022, 0.0), (1025, 0.0), (1028, 0.0), (1029, 0.0), (1031, 0.0), (1038, 0.0), (1039, 0.0), (1051, 0.0), (1055, 0.0), (1056, 0.0), (1062, 0.0), (1066, 0.0), (1067, 0.0), (1073, 0.0), (1081, 0.0), (1086, 0.0), (1089, 0.0), (1091, 0.0), (1093, 0.0), (1097, 0.0), (1101, 0.0), (1103, 0.0), (1105, 0.0), (1106, 0.0), (1108, 0.0), (1113, 0.0), (1126, 0.0), (1130, 0.0), (1133, 0.0), (1135, 0.0), (1139, 0.0), (1142, 0.0), (1143, 0.0), (1147, 0.0), (1149, 0.0), (1151, 0.0), (1155, 0.0), (1156, 0.0), (1159, 0.0), (1165, 0.0), (1166, 0.0), (1171, 0.0), (1178, 0.0), (1180, 0.0), (1189, 0.0), (1190, 0.0), (1193, 0.0), (1196, 0.0), (1198, 0.0), (1200, 0.0), (1201, 0.0), (1212, 0.0), (1218, 0.0), (1221, 0.0), (1222, 0.0), (1227, 0.0), (1228, 0.0), (1233, 0.0), (1235, 0.0), (1240, 0.0), (1242, 0.0), (1244, 0.0), (1246, 0.0), (1253, 0.0), (1256, 0.0), (1258, 0.0), (1263, 0.0), (1265, 0.0), (1268, 0.0), (1269, 0.0), (1271, 0.0), (1285, 0.0), (1287, 0.0), (1288, 0.0), (1289, 0.0), (1291, 0.0), (1295, 0.0), (1296, 0.0), (1297, 0.0), (1299, 0.0), (1315, 0.0), (1321, 0.0), (1322, 0.0), (1323, 0.0), (1326, 0.0), (1328, 0.0), (1333, 0.0), (1336, 0.0), (1346, 0.0), (1353, 0.0), (1354, 0.0), (1368, 0.0), (1371, 0.0), (1373, 0.0), (1390, 0.0), (1399, 0.0), (1424, 0.0), (1437, 0.0), (1441, 0.0), (1444, 0.0), (1447, 0.0), (1457, 0.0), (1459, 0.0), (1460, 0.0), (1466, 0.0), (1467, 0.0), (1468, 0.0), (1470, 0.0), (1473, 0.0), (1485, 0.0), (1487, 0.0), (1490, 0.0), (1491, 0.0), (1495, 0.0), (1496, 0.0), (1508, 0.0), (1511, 0.0), (1517, 0.0), (1520, 0.0), (1521, 0.0), (1522, 0.0), (1524, 0.0), (1525, 0.0), (1529, 0.0), (1532, 0.0), (1534, 0.0), (1535, 0.0), (1541, 0.0), (1545, 0.0), (1548, 0.0), (1549, 0.0), (1556, 0.0), (1557, 0.0), (1561, 0.0), (1563, 0.0), (1564, 0.0), (1569, 0.0), (1577, 0.0), (1578, 0.0), (1581, 0.0), (1584, 0.0), (1586, 0.0), (1589, 0.0), (1592, 0.0), (1596, 0.0), (1599, 0.0), (1600, 0.0), (1601, 0.0), (1602, 0.0), (1603, 0.0), (1604, 0.0), (1606, 0.0), (1607, 0.0), (1610, 0.0), (1611, 0.0), (1613, 0.0), (1615, 0.0), (1618, 0.0), (1626, 0.0), (1636, 0.0), (1638, 0.0), (1639, 0.0), (1640, 0.0), (1646, 0.0), (1649, 0.0), (1651, 0.0), (1668, 0.0), (1669, 0.0), (1673, 0.0), (1679, 0.0), (1686, 0.0), (1689, 0.0), (1697, 0.0), (1698, 0.0), (1700, 0.0), (1704, 0.0), (1709, 0.0), (1725, 0.0), (1726, 0.0), (1728, 0.0), (1729, 0.0), (1731, 0.0), (1734, 0.0), (1745, 0.0), (1751, 0.0), (1755, 0.0), (1756, 0.0), (1758, 0.0), (1766, 0.0), (1767, 0.0), (1769, 0.0), (1771, 0.0), (1775, 0.0), (1777, 0.0), (1778, 0.0), (1783, 0.0), (1785, 0.0), (1786, 0.0), (1794, 0.0), (1800, 0.0), (1803, 0.0), (1804, 0.0), (1810, 0.0), (1820, 0.0), (1823, 0.0), (1824, 0.0), (1825, 0.0), (1834, 0.0), (1835, 0.0), (1836, 0.0), (1839, 0.0), (1842, 0.0), (1844, 0.0), (1855, 0.0), (1856, 0.0), (1879, 0.0), (1883, 0.0), (1888, 0.0), (1889, 0.0), (1894, 0.0), (1898, 0.0), (1899, 0.0), (1912, 0.0), (1915, 0.0), (1917, 0.0), (1926, 0.0), (1928, 0.0), (1932, 0.0), (1938, 0.0), (1944, 0.0), (1955, 0.0), (1956, 0.0), (1961, 0.0), (1963, 0.0), (1965, 0.0), (1966, 0.0), (1972, 0.0), (1974, 0.0), (1978, 0.0), (1979, 0.0), (1984, 0.0), (2001, 0.0), (2002, 0.0), (2003, 0.0), (2006, 0.0), (2007, 0.0), (2009, 0.0), (2017, 0.0), (2019, 0.0), (2021, 0.0), (2025, 0.0), (2028, 0.0), (2030, 0.0), (2032, 0.0), (2033, 0.0), (2036, 0.0), (2038, 0.0), (2041, 0.0), (2042, 0.0), (2043, 0.0), (2046, 0.0), (2050, 0.0), (2054, 0.0), (2059, 0.0), (2063, 0.0), (2071, 0.0), (2079, 0.0), (2081, 0.0), (2085, 0.0), (2086, 0.0), (2090, 0.0), (2092, 0.0), (2106, 0.0), (2107, 0.0), (2115, 0.0), (2118, 0.0), (2120, 0.0), (2124, 0.0), (2125, 0.0), (2128, 0.0), (2135, 0.0), (2137, 0.0), (2138, 0.0), (2140, 0.0), (2150, 0.0), (2152, 0.0), (2153, 0.0), (2164, 0.0), (2165, 0.0), (2168, 0.0), (2170, 0.0), (2171, 0.0), (2172, 0.0), (2179, 0.0), (2180, 0.0), (2182, 0.0), (2183, 0.0), (2186, 0.0), (2188, 0.0), (2194, 0.0), (2200, 0.0), (2204, 0.0), (2215, 0.0), (2217, 0.0), (2218, 0.0), (2219, 0.0), (2220, 0.0), (2222, 0.0), (2225, 0.0), (2227, 0.0), (2229, 0.0), (2233, 0.0), (2234, 0.0), (2235, 0.0), (2238, 0.0), (2241, 0.0), (2243, 0.0), (2247, 0.0), (2249, 0.0), (2251, 0.0), (2253, 0.0), (2255, 0.0), (2256, 0.0), (2257, 0.0), (2259, 0.0), (2261, 0.0), (2262, 0.0), (2263, 0.0), (2266, 0.0), (2267, 0.0), (2269, 0.0), (2271, 0.0), (2272, 0.0), (2273, 0.0), (2274, 0.0), (2275, 0.0), (2281, 0.0), (2282, 0.0), (2288, 0.0), (2289, 0.0), (2295, 0.0), (2296, 0.0), (2297, 0.0), (2299, 0.0), (2300, 0.0), (2305, 0.0), (2307, 0.0), (2311, 0.0), (2312, 0.0), (2315, 0.0), (2322, 0.0), (2325, 0.0), (2327, 0.0), (2328, 0.0), (2329, 0.0), (2331, 0.0), (2332, 0.0), (2333, 0.0), (2337, 0.0), (2341, 0.0), (2342, 0.0), (2345, 0.0), (2346, 0.0), (2351, 0.0), (2352, 0.0), (2353, 0.0), (2357, 0.0), (2360, 0.0), (2363, 0.0), (2364, 0.0), (2368, 0.0), (2369, 0.0), (2372, 0.0), (2373, 0.0), (2377, 0.0), (2379, 0.0), (2380, 0.0), (2381, 0.0), (2383, 0.0), (2384, 0.0), (2389, 0.0), (2392, 0.0), (2394, 0.0), (2395, 0.0), (2398, 0.0), (2400, 0.0), (2404, 0.0), (2407, 0.0), (2409, 0.0), (2414, 0.0), (2415, 0.0), (2420, 0.0), (2423, 0.0), (2425, 0.0), (2431, 0.0), (2433, 0.0), (2435, 0.0), (2444, 0.0), (2445, 0.0), (2449, 0.0), (2450, 0.0), (2451, 0.0), (2452, 0.0), (2454, 0.0), (2455, 0.0), (2456, 0.0), (2458, 0.0), (2462, 0.0), (2465, 0.0), (2468, 0.0), (2470, 0.0), (2471, 0.0), (2472, 0.0), (2476, 0.0), (2479, 0.0), (2483, 0.0), (2484, 0.0), (2485, 0.0), (2488, 0.0), (2490, 0.0), (2491, 0.0), (2492, 0.0), (2493, 0.0), (2494, 0.0), (2497, 0.0), (2498, 0.0), (2499, 0.0), (2500, 0.0), (2504, 0.0), (2508, 0.0), (2511, 0.0), (2514, 0.0), (2515, 0.0), (2516, 0.0), (2518, 0.0), (2521, 0.0), (2523, 0.0), (2529, 0.0), (2531, 0.0), (2532, 0.0), (2536, 0.0), (2539, 0.0), (2542, 0.0), (2543, 0.0), (2547, 0.0), (2548, 0.0), (2549, 0.0), (2550, 0.0), (2551, 0.0), (2560, 0.0), (2561, 0.0), (2562, 0.0), (2564, 0.0), (2566, 0.0), (2569, 0.0), (2574, 0.0), (2575, 0.0), (2577, 0.0), (2578, 0.0), (2581, 0.0), (2583, 0.0), (2584, 0.0), (2586, 0.0), (2588, 0.0), (2589, 0.0), (2590, 0.0), (2591, 0.0), (2594, 0.0), (2596, 0.0), (2597, 0.0), (2604, 0.0), (2605, 0.0), (2608, 0.0), (2615, 0.0), (2616, 0.0), (2618, 0.0), (2620, 0.0), (2627, 0.0), (2631, 0.0), (2633, 0.0), (2637, 0.0), (2638, 0.0), (2641, 0.0), (2643, 0.0), (2648, 0.0), (2652, 0.0), (2655, 0.0), (2656, 0.0), (2657, 0.0), (2658, 0.0), (2659, 0.0), (2662, 0.0), (2663, 0.0), (2666, 0.0), (2667, 0.0), (2669, 0.0), (2670, 0.0), (2671, 0.0), (2672, 0.0), (2673, 0.0), (2675, 0.0), (2676, 0.0), (2677, 0.0), (2681, 0.0), (2684, 0.0), (2685, 0.0), (2686, 0.0), (2690, 0.0), (2693, 0.0), (2700, 0.0), (2701, 0.0), (2703, 0.0), (2704, 0.0), (2705, 0.0), (2707, 0.0), (2709, 0.0), (2712, 0.0), (2715, 0.0), (2717, 0.0), (2719, 0.0), (2729, 0.0), (2730, 0.0), (2731, 0.0), (2734, 0.0), (2737, 0.0), (2749, 0.0), (2750, 0.0), (2751, 0.0), (2754, 0.0), (2756, 0.0), (2757, 0.0), (2759, 0.0), (2763, 0.0), (2764, 0.0), (2768, 0.0), (2770, 0.0), (2772, 0.0), (2773, 0.0), (2778, 0.0), (2781, 0.0), (2785, 0.0), (2793, 0.0), (2794, 0.0), (2799, 0.0), (2804, 0.0), (2806, 0.0), (2807, 0.0), (2810, 0.0), (2811, 0.0), (2813, 0.0), (2814, 0.0), (2817, 0.0), (2818, 0.0), (2824, 0.0), (2827, 0.0), (2828, 0.0), (2829, 0.0), (2831, 0.0), (2834, 0.0), (2835, 0.0), (2836, 0.0), (2837, 0.0), (2838, 0.0), (2839, 0.0), (2840, 0.0), (2842, 0.0), (2849, 0.0), (2850, 0.0), (2851, 0.0), (2852, 0.0), (2854, 0.0), (2855, 0.0), (2856, 0.0), (2858, 0.0), (2860, 0.0), (2864, 0.0), (2865, 0.0), (2866, 0.0), (2870, 0.0), (2872, 0.0), (2873, 0.0), (2875, 0.0), (2877, 0.0), (2880, 0.0), (2889, 0.0), (2891, 0.0), (2892, 0.0), (2896, 0.0), (2898, 0.0), (2901, 0.0), (2905, 0.0), (2906, 0.0), (2916, 0.0), (2921, 0.0), (2922, 0.0), (2927, 0.0), (2928, 0.0), (2930, 0.0), (2932, 0.0), (2938, 0.0), (2941, 0.0), (2951, 0.0), (2952, 0.0), (2955, 0.0), (2956, 0.0), (2957, 0.0), (2958, 0.0), (2967, 0.0), (2968, 0.0), (2973, 0.0), (2979, 0.0), (2982, 0.0), (2983, 0.0), (2989, 0.0), (2990, 0.0), (2998, 0.0), (3001, 0.0), (3002, 0.0), (3004, 0.0), (3006, 0.0), (3009, 0.0), (3018, 0.0), (3021, 0.0), (3025, 0.0), (3029, 0.0), (3030, 0.0), (3034, 0.0), (3035, 0.0), (3037, 0.0), (3038, 0.0), (3040, 0.0), (3041, 0.0), (3047, 0.0), (3048, 0.0), (3049, 0.0), (3051, 0.0), (3052, 0.0), (3054, 0.0), (3058, 0.0), (3059, 0.0), (3060, 0.0), (3061, 0.0), (3062, 0.0), (3063, 0.0), (3073, 0.0), (3077, 0.0), (3078, 0.0), (3080, 0.0), (3082, 0.0), (3087, 0.0), (3088, 0.0), (3089, 0.0), (3090, 0.0), (3092, 0.0), (3103, 0.0), (3104, 0.0), (3105, 0.0), (3106, 0.0), (3107, 0.0), (3109, 0.0), (3115, 0.0), (3116, 0.0), (3119, 0.0), (3121, 0.0), (3130, 0.0), (3132, 0.0), (3138, 0.0), (3141, 0.0), (3142, 0.0), (3145, 0.0), (3162, 0.0), (3165, 0.0), (3166, 0.0), (3169, 0.0), (3172, 0.0), (3175, 0.0), (3176, 0.0), (3177, 0.0), (3178, 0.0), (3181, 0.0), (3185, 0.0), (3188, 0.0), (3189, 0.0), (3190, 0.0), (3193, 0.0), (3197, 0.0), (3201, 0.0), (3202, 0.0), (3204, 0.0), (3207, 0.0), (3208, 0.0), (3212, 0.0), (3217, 0.0), (3221, 0.0), (3223, 0.0), (3227, 0.0), (3228, 0.0), (3229, 0.0), (3231, 0.0), (3234, 0.0), (3235, 0.0), (3236, 0.0), (3248, 0.0), (3250, 0.0), (3251, 0.0), (3253, 0.0), (3255, 0.0), (3256, 0.0), (3258, 0.0), (3261, 0.0), (3262, 0.0), (3266, 0.0), (3270, 0.0), (3272, 0.0), (3274, 0.0), (3275, 0.0), (3276, 0.0), (3277, 0.0), (3281, 0.0), (3284, 0.0), (3286, 0.0), (3287, 0.0), (3293, 0.0), (3296, 0.0), (3305, 0.0), (3310, 0.0), (3312, 0.0), (3316, 0.0), (3320, 0.0), (3321, 0.0), (3322, 0.0), (3323, 0.0), (3324, 0.0), (3332, 0.0), (3333, 0.0), (3340, 0.0), (3343, 0.0), (3345, 0.0), (3349, 0.0), (3350, 0.0), (3353, 0.0), (3363, 0.0), (3364, 0.0), (3366, 0.0), (3368, 0.0), (3371, 0.0), (3377, 0.0), (3378, 0.0), (3383, 0.0), (3394, 0.0), (3396, 0.0), (3397, 0.0), (3400, 0.0), (3401, 0.0), (3411, 0.0), (3415, 0.0), (3420, 0.0), (3422, 0.0), (3424, 0.0), (3428, 0.0), (3439, 0.0), (3442, 0.0), (3444, 0.0), (3454, 0.0), (3459, 0.0), (3461, 0.0), (3467, 0.0), (3472, 0.0), (3473, 0.0), (3475, 0.0), (3476, 0.0), (3481, 0.0), (3482, 0.0), (3485, 0.0), (3489, 0.0), (3490, 0.0), (3494, 0.0), (3502, 0.0), (3505, 0.0), (3510, 0.0), (3512, 0.0), (3513, 0.0), (3515, 0.0), (3519, 0.0), (3522, 0.0), (3523, 0.0), (3525, 0.0), (3527, 0.0), (3529, 0.0), (3530, 0.0), (3532, 0.0), (3533, 0.0), (3539, 0.0), (3543, 0.0), (3545, 0.0), (3547, 0.0), (3549, 0.0), (3550, 0.0), (3553, 0.0), (3554, 0.0), (3562, 0.0), (3567, 0.0), (3568, 0.0), (3577, 0.0), (3578, 0.0), (3579, 0.0), (3581, 0.0), (3585, 0.0), (3588, 0.0), (3589, 0.0), (3591, 0.0), (3592, 0.0), (3594, 0.0), (3595, 0.0), (3600, 0.0), (3601, 0.0), (3603, 0.0), (3607, 0.0), (3609, 0.0), (3610, 0.0), (3616, 0.0), (3617, 0.0), (3622, 0.0), (3625, 0.0), (3628, 0.0), (3631, 0.0), (3633, 0.0), (3635, 0.0), (3638, 0.0), (3644, 0.0), (3649, 0.0), (3650, 0.0), (3651, 0.0), (3652, 0.0), (3662, 0.0), (3663, 0.0), (3671, 0.0), (3675, 0.0), (3676, 0.0), (3679, 0.0), (3681, 0.0), (3682, 0.0), (3683, 0.0), (3685, 0.0), (3686, 0.0), (3690, 0.0), (3693, 0.0), (3695, 0.0), (3697, 0.0), (3698, 0.0), (3700, 0.0), (3702, 0.0), (3703, 0.0), (3708, 0.0), (3709, 0.0), (3712, 0.0), (3715, 0.0), (3716, 0.0), (3717, 0.0), (3718, 0.0), (3722, 0.0), (3724, 0.0), (3726, 0.0), (3730, 0.0), (3732, 0.0), (3735, 0.0), (3736, 0.0), (3738, 0.0), (3740, 0.0), (3743, 0.0), (3748, 0.0), (3754, 0.0), (3758, 0.0), (3759, 0.0), (3760, 0.0), (3761, 0.0), (3762, 0.0), (3764, 0.0), (3766, 0.0), (3783, 0.0), (3785, 0.0), (3786, 0.0), (3789, 0.0), (3790, 0.0), (3791, 0.0), (3796, 0.0), (3798, 0.0), (3800, 0.0), (3802, 0.0), (3803, 0.0), (3804, 0.0), (3805, 0.0), (3808, 0.0), (3810, 0.0), (3812, 0.0), (3813, 0.0), (3816, 0.0), (3817, 0.0), (3818, 0.0), (3820, 0.0), (3827, 0.0), (3828, 0.0), (3830, 0.0), (3831, 0.0), (3832, 0.0), (3834, 0.0), (3836, 0.0), (3837, 0.0), (3838, 0.0), (3840, 0.0), (3843, 0.0), (3844, 0.0), (3846, 0.0), (3847, 0.0), (3851, 0.0), (3856, 0.0), (3858, 0.0), (3859, 0.0), (3869, 0.0), (3870, 0.0), (3879, 0.0), (3883, 0.0), (3884, 0.0), (3885, 0.0), (3887, 0.0), (3891, 0.0), (3892, 0.0), (3896, 0.0), (3912, 0.0), (3914, 0.0), (3918, 0.0), (3921, 0.0), (3922, 0.0), (3929, 0.0), (3930, 0.0), (3931, 0.0), (3933, 0.0), (3936, 0.0), (3937, 0.0), (3939, 0.0), (3942, 0.0), (3943, 0.0), (3945, 0.0), (3948, 0.0), (3949, 0.0), (3950, 0.0), (3952, 0.0), (3964, 0.0), (3965, 0.0), (3968, 0.0), (3969, 0.0), (3971, 0.0), (3972, 0.0), (3975, 0.0), (3977, 0.0), (3979, 0.0), (3980, 0.0), (3981, 0.0), (3982, 0.0), (3984, 0.0), (3985, 0.0), (3988, 0.0), (3990, 0.0), (3991, 0.0), (3994, 0.0), (3996, 0.0), (4003, 0.0), (4006, 0.0), (4007, 0.0), (4010, 0.0), (4014, 0.0), (4018, 0.0), (4021, 0.0), (4022, 0.0), (4023, 0.0), (4024, 0.0), (4026, 0.0), (4027, 0.0), (4028, 0.0), (4029, 0.0), (4030, 0.0), (4031, 0.0), (4032, 0.0), (4034, 0.0), (4037, 0.0), (4040, 0.0), (4041, 0.0), (4047, 0.0), (4048, 0.0), (4058, 0.0), (4062, 0.0), (4063, 0.0), (4064, 0.0), (4065, 0.0), (4067, 0.0), (4070, 0.0), (4072, 0.0), (4073, 0.0), (4078, 0.0), (4082, 0.0), (4084, 0.0), (4086, 0.0), (4092, 0.0), (4097, 0.0), (4100, 0.0), (4107, 0.0), (4108, 0.0), (4109, 0.0), (4112, 0.0), (4114, 0.0), (4115, 0.0), (4122, 0.0), (4125, 0.0), (4127, 0.0), (4131, 0.0), (4144, 0.0), (4146, 0.0), (4150, 0.0), (4153, 0.0), (4157, 0.0), (4159, 0.0), (4166, 0.0), (4167, 0.0), (4168, 0.0), (4169, 0.0), (4170, 0.0), (4172, 0.0), (4173, 0.0), (4177, 0.0), (4179, 0.0), (4180, 0.0), (4181, 0.0), (4185, 0.0), (4186, 0.0), (4188, 0.0), (4190, 0.0), (4191, 0.0), (4194, 0.0), (4198, 0.0), (4199, 0.0), (4201, 0.0), (4202, 0.0), (4204, 0.0), (4207, 0.0), (4212, 0.0), (4214, 0.0), (4215, 0.0), (4218, 0.0), (4219, 0.0), (4221, 0.0), (4222, 0.0), (4223, 0.0), (4224, 0.0), (4225, 0.0), (4229, 0.0), (4230, 0.0), (4231, 0.0), (4234, 0.0), (4237, 0.0), (4238, 0.0), (4239, 0.0), (4241, 0.0), (4242, 0.0), (4243, 0.0), (4250, 0.0), (4253, 0.0), (4256, 0.0), (4258, 0.0), (4260, 0.0), (4263, 0.0), (4270, 0.0), (4271, 0.0), (4276, 0.0), (4278, 0.0), (4279, 0.0), (4291, 0.0), (4293, 0.0), (4297, 0.0), (4300, 0.0), (4302, 0.0), (4305, 0.0), (4313, 0.0), (4315, 0.0), (4316, 0.0), (4317, 0.0), (4319, 0.0), (4323, 0.0), (4324, 0.0), (4327, 0.0), (4329, 0.0), (4332, 0.0), (4338, 0.0), (4341, 0.0), (4346, 0.0), (4347, 0.0), (4352, 0.0), (4353, 0.0), (4358, 0.0), (4364, 0.0), (4370, 0.0), (4372, 0.0), (4393, 0.0), (4404, 0.0), (4405, 0.0), (4406, 0.0), (4407, 0.0), (4408, 0.0), (4410, 0.0), (4413, 0.0), (4414, 0.0), (4415, 0.0), (4417, 0.0), (4421, 0.0), (4423, 0.0), (4424, 0.0), (4425, 0.0), (4433, 0.0), (4434, 0.0), (4437, 0.0), (4439, 0.0), (4440, 0.0), (4443, 0.0), (4444, 0.0), (4447, 0.0), (4449, 0.0), (4451, 0.0), (4453, 0.0), (4454, 0.0), (4455, 0.0), (4457, 0.0), (4458, 0.0), (4460, 0.0), (4463, 0.0), (4469, 0.0), (4478, 0.0), (4480, 0.0), (4483, 0.0), (4485, 0.0), (4490, 0.0), (4491, 0.0), (4493, 0.0), (4496, 0.0), (4498, 0.0), (4499, 0.0), (4500, 0.0), (4506, 0.0), (4508, 0.0), (4509, 0.0), (4512, 0.0), (4514, 0.0), (4515, 0.0), (4519, 0.0), (4522, 0.0), (4525, 0.0), (4526, 0.0), (4527, 0.0), (4532, 0.0), (4537, 0.0), (4539, 0.0), (4540, 0.0), (4541, 0.0), (4542, 0.0), (4547, 0.0), (4549, 0.0), (4554, 0.0), (4556, 0.0), (4558, 0.0), (4559, 0.0), (4560, 0.0), (4561, 0.0), (4562, 0.0), (4565, 0.0), (4568, 0.0), (4569, 0.0), (4570, 0.0), (4571, 0.0), (4572, 0.0), (4577, 0.0), (4578, 0.0), (4580, 0.0), (4589, 0.0), (4592, 0.0), (4593, 0.0), (4597, 0.0), (4599, 0.0), (4600, 0.0), (4607, 0.0), (4609, 0.0), (4613, 0.0), (4615, 0.0), (4617, 0.0), (4618, 0.0), (4619, 0.0), (4622, 0.0), (4628, 0.0), (4631, 0.0), (4632, 0.0), (4635, 0.0), (4637, 0.0), (4643, 0.0), (4644, 0.0), (4646, 0.0), (4647, 0.0), (4648, 0.0), (4651, 0.0), (4654, 0.0), (4655, 0.0), (4656, 0.0), (4659, 0.0), (4660, 0.0), (4662, 0.0), (4666, 0.0), (4667, 0.0), (4671, 0.0), (4672, 0.0), (4675, 0.0), (4676, 0.0), (4681, 0.0), (4683, 0.0), (4688, 0.0), (4690, 0.0), (4693, 0.0), (4697, 0.0), (4698, 0.0), (4699, 0.0), (4700, 0.0), (4701, 0.0), (4702, 0.0), (4704, 0.0), (4707, 0.0), (4709, 0.0), (4711, 0.0), (4714, 0.0), (4716, 0.0), (4717, 0.0), (4719, 0.0), (4720, 0.0), (4721, 0.0), (4724, 0.0), (4725, 0.0), (4728, 0.0), (4730, 0.0), (4731, 0.0), (4735, 0.0), (4736, 0.0), (4737, 0.0), (4739, 0.0), (4740, 0.0), (4741, 0.0), (4742, 0.0), (4745, 0.0), (4747, 0.0), (4750, 0.0), (4751, 0.0), (4753, 0.0), (4754, 0.0), (4755, 0.0), (4756, 0.0), (4758, 0.0), (4759, 0.0)]\n"
          ]
        }
      ]
    },
    {
      "cell_type": "code",
      "source": [
        "# print the names of similar movies based on the index\n",
        "\n",
        "print(' Top 30 Movies Suggested for You : \\n')\n",
        "\n",
        "i = 1\n",
        "\n",
        "for movie in Sorted_Similar_Movies:\n",
        "  index = movie[0]\n",
        "  title_from_index = df[df.index == index]['Movie_Title'].values[0]\n",
        "  if (i < 31):\n",
        "    print(i, '.', title_from_index)\n",
        "    i += 1"
      ],
      "metadata": {
        "colab": {
          "base_uri": "https://localhost:8080/"
        },
        "id": "e39lxGxM7hAC",
        "outputId": "e637fdc0-e23a-4855-b55a-04ba93c04827"
      },
      "execution_count": 104,
      "outputs": [
        {
          "output_type": "stream",
          "name": "stdout",
          "text": [
            " Top 30 Movies Suggested for You : \n",
            "\n",
            "1 . Niagara\n",
            "2 . Brokeback Mountain\n",
            "3 . My Week with Marilyn\n",
            "4 . Harry Brown\n",
            "5 . The Curse of Downers Grove\n",
            "6 . Night of the Living Dead\n",
            "7 . The Boy Next Door\n",
            "8 . Back to the Future\n",
            "9 . The Juror\n",
            "10 . The Kentucky Fried Movie\n",
            "11 . Some Like It Hot\n",
            "12 . Enough\n",
            "13 . Eye for an Eye\n",
            "14 . Welcome to the Sticks\n",
            "15 . Alice Through the Looking Glass\n",
            "16 . Superman III\n",
            "17 . Duel in the Sun\n",
            "18 . Premium Rush\n",
            "19 . The Misfits\n",
            "20 . Sabotage\n",
            "21 . Small Soldiers\n",
            "22 . All That Jazz\n",
            "23 . The Raid\n",
            "24 . Beyond the Black Rainbow\n",
            "25 . Tora! Tora! Tora!\n",
            "26 . The Dark Knight Rises\n",
            "27 . To Kill a Mockingbird\n",
            "28 . We Are Your Friends\n",
            "29 . Edge of Darkness\n",
            "30 . World Trade Center\n"
          ]
        }
      ]
    },
    {
      "cell_type": "code",
      "source": [],
      "metadata": {
        "id": "FoApd9av90v-"
      },
      "execution_count": 104,
      "outputs": []
    },
    {
      "cell_type": "markdown",
      "source": [
        "# Top 10 Movie recommendation System"
      ],
      "metadata": {
        "id": "eq1SKgBO99Ad"
      }
    },
    {
      "cell_type": "code",
      "source": [
        "Movie_Name = input(' Enter your favourite movie_name : \\n')\n",
        "list_of_all_titles = df['Movie_Title'].tolist()\n",
        "Find_Close_Match = difflib.get_close_matches(Movie_Name, list_of_all_titles)\n",
        "Close_Match = Find_Close_Match[0]\n",
        "Index_of_Movie = df[df.Movie_Title == Close_Match]['Movie_ID'].values[0]\n",
        "Recommendation_Score = list(enumerate(Similarity_Score[Index_of_Movie]))\n",
        "sorted_similar_movies = sorted(Recommendation_Score, key = lambda x:x[1], reverse = True)\n",
        "print('Top 10 movies suggested for you : \\n')\n",
        "\n",
        "i = 1\n",
        "\n",
        "for movie in sorted_similar_movies:\n",
        "  index = movie[0]\n",
        "  title_from_index = df[df.Movie_ID == index]['Movie_Title'].values\n",
        "  if (i < 11):\n",
        "    print(i, '.', title_from_index)\n",
        "    i += 1"
      ],
      "metadata": {
        "colab": {
          "base_uri": "https://localhost:8080/"
        },
        "id": "qTKbOlBy-AcC",
        "outputId": "e54233d4-b189-46ec-b8e2-c43bba41bb64"
      },
      "execution_count": 105,
      "outputs": [
        {
          "output_type": "stream",
          "name": "stdout",
          "text": [
            " Enter your favourite movie_name : \n",
            "avtar\n",
            "Top 10 movies suggested for you : \n",
            "\n",
            "1 . ['Avatar']\n",
            "2 . ['Donnie Darko']\n",
            "3 . ['Act of Valor']\n",
            "4 . ['Precious']\n",
            "5 . ['The Opposite Sex']\n",
            "6 . ['Freaky Friday']\n",
            "7 . ['Heaven is for Real']\n",
            "8 . ['Run Lola Run']\n",
            "9 . ['Elizabethtown']\n",
            "10 . ['New Nightmare']\n"
          ]
        }
      ]
    },
    {
      "cell_type": "code",
      "source": [],
      "metadata": {
        "id": "XXykT-LPQfmO"
      },
      "execution_count": 105,
      "outputs": []
    }
  ]
}